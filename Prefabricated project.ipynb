{
 "cells": [
  {
   "cell_type": "markdown",
   "metadata": {},
   "source": [
    "# Интернет-магазин «Стримчик»: выявление определяющие успешность игры закономерности"
   ]
  },
  {
   "cell_type": "markdown",
   "metadata": {},
   "source": [
    "Цели и задачи: \n",
    "\n",
    "- Нужно выявить определяющие успешность игры закономерности, что позволит сделать ставку на потенциально популярный продукт и спланировать рекламные кампании.\n",
    "\n",
    "Ход работы: \n",
    "- Шаг 1 - загрузка данных(открыть файл с данными и изучить общую информацию)\n",
    "- Шаг 2 - предобработка данных(заменить названия столбцов, преобразовать данные в нужные типы, обработать пропуски, посчитайть суммарные продажи во всех регионах)\n",
    "- Шаг 3 - выполнить исследовательский анализ данных\n",
    "- Шаг 4 - создать портрет пользователя каждого региона\n",
    "- Шаг 5 - выполнить проверку гипотезы\n",
    "- Шаг 6 - написать общий вывод\n",
    "\n",
    "Описание данных:\n",
    "- Name — название игры\n",
    "- Platform — платформа\n",
    "- Year_of_Release — год выпуска\n",
    "- Genre — жанр игры\n",
    "- NA_sales — продажи в Северной Америке (миллионы проданных копий)\n",
    "- EU_sales — продажи в Европе (миллионы проданных копий)\n",
    "- JP_sales — продажи в Японии (миллионы проданных копий)\n",
    "- Other_sales — продажи в других странах (миллионы проданных копий)\n",
    "- Critic_Score — оценка критиков (максимум 100)\n",
    "- User_Score — оценка пользователей (максимум 10)\n",
    "- Rating — рейтинг от организации ESRB (англ. Entertainment Software Rating Board). Эта ассоциация определяет рейтинг компьютерных игр и присваивает им подходящую возрастную категорию.\n",
    "\n",
    "Данные за 2016 год могут быть неполными."
   ]
  },
  {
   "cell_type": "code",
   "execution_count": 1,
   "metadata": {},
   "outputs": [],
   "source": [
    "import pandas as pd\n",
    "import numpy as np\n",
    "import matplotlib.pyplot as plt\n",
    "from scipy import stats as st\n",
    "from scipy.stats import binom, poisson\n",
    "import seaborn as sns"
   ]
  },
  {
   "cell_type": "markdown",
   "metadata": {},
   "source": [
    "### Шаг 1. Загрузка данных"
   ]
  },
  {
   "cell_type": "code",
   "execution_count": 2,
   "metadata": {},
   "outputs": [
    {
     "data": {
      "text/html": [
       "<div>\n",
       "<style scoped>\n",
       "    .dataframe tbody tr th:only-of-type {\n",
       "        vertical-align: middle;\n",
       "    }\n",
       "\n",
       "    .dataframe tbody tr th {\n",
       "        vertical-align: top;\n",
       "    }\n",
       "\n",
       "    .dataframe thead th {\n",
       "        text-align: right;\n",
       "    }\n",
       "</style>\n",
       "<table border=\"1\" class=\"dataframe\">\n",
       "  <thead>\n",
       "    <tr style=\"text-align: right;\">\n",
       "      <th></th>\n",
       "      <th>Name</th>\n",
       "      <th>Platform</th>\n",
       "      <th>Year_of_Release</th>\n",
       "      <th>Genre</th>\n",
       "      <th>NA_sales</th>\n",
       "      <th>EU_sales</th>\n",
       "      <th>JP_sales</th>\n",
       "      <th>Other_sales</th>\n",
       "      <th>Critic_Score</th>\n",
       "      <th>User_Score</th>\n",
       "      <th>Rating</th>\n",
       "    </tr>\n",
       "  </thead>\n",
       "  <tbody>\n",
       "    <tr>\n",
       "      <th>0</th>\n",
       "      <td>Wii Sports</td>\n",
       "      <td>Wii</td>\n",
       "      <td>2006.0</td>\n",
       "      <td>Sports</td>\n",
       "      <td>41.36</td>\n",
       "      <td>28.96</td>\n",
       "      <td>3.77</td>\n",
       "      <td>8.45</td>\n",
       "      <td>76.0</td>\n",
       "      <td>8</td>\n",
       "      <td>E</td>\n",
       "    </tr>\n",
       "    <tr>\n",
       "      <th>1</th>\n",
       "      <td>Super Mario Bros.</td>\n",
       "      <td>NES</td>\n",
       "      <td>1985.0</td>\n",
       "      <td>Platform</td>\n",
       "      <td>29.08</td>\n",
       "      <td>3.58</td>\n",
       "      <td>6.81</td>\n",
       "      <td>0.77</td>\n",
       "      <td>NaN</td>\n",
       "      <td>NaN</td>\n",
       "      <td>NaN</td>\n",
       "    </tr>\n",
       "    <tr>\n",
       "      <th>2</th>\n",
       "      <td>Mario Kart Wii</td>\n",
       "      <td>Wii</td>\n",
       "      <td>2008.0</td>\n",
       "      <td>Racing</td>\n",
       "      <td>15.68</td>\n",
       "      <td>12.76</td>\n",
       "      <td>3.79</td>\n",
       "      <td>3.29</td>\n",
       "      <td>82.0</td>\n",
       "      <td>8.3</td>\n",
       "      <td>E</td>\n",
       "    </tr>\n",
       "    <tr>\n",
       "      <th>3</th>\n",
       "      <td>Wii Sports Resort</td>\n",
       "      <td>Wii</td>\n",
       "      <td>2009.0</td>\n",
       "      <td>Sports</td>\n",
       "      <td>15.61</td>\n",
       "      <td>10.93</td>\n",
       "      <td>3.28</td>\n",
       "      <td>2.95</td>\n",
       "      <td>80.0</td>\n",
       "      <td>8</td>\n",
       "      <td>E</td>\n",
       "    </tr>\n",
       "    <tr>\n",
       "      <th>4</th>\n",
       "      <td>Pokemon Red/Pokemon Blue</td>\n",
       "      <td>GB</td>\n",
       "      <td>1996.0</td>\n",
       "      <td>Role-Playing</td>\n",
       "      <td>11.27</td>\n",
       "      <td>8.89</td>\n",
       "      <td>10.22</td>\n",
       "      <td>1.00</td>\n",
       "      <td>NaN</td>\n",
       "      <td>NaN</td>\n",
       "      <td>NaN</td>\n",
       "    </tr>\n",
       "    <tr>\n",
       "      <th>...</th>\n",
       "      <td>...</td>\n",
       "      <td>...</td>\n",
       "      <td>...</td>\n",
       "      <td>...</td>\n",
       "      <td>...</td>\n",
       "      <td>...</td>\n",
       "      <td>...</td>\n",
       "      <td>...</td>\n",
       "      <td>...</td>\n",
       "      <td>...</td>\n",
       "      <td>...</td>\n",
       "    </tr>\n",
       "    <tr>\n",
       "      <th>16710</th>\n",
       "      <td>Samurai Warriors: Sanada Maru</td>\n",
       "      <td>PS3</td>\n",
       "      <td>2016.0</td>\n",
       "      <td>Action</td>\n",
       "      <td>0.00</td>\n",
       "      <td>0.00</td>\n",
       "      <td>0.01</td>\n",
       "      <td>0.00</td>\n",
       "      <td>NaN</td>\n",
       "      <td>NaN</td>\n",
       "      <td>NaN</td>\n",
       "    </tr>\n",
       "    <tr>\n",
       "      <th>16711</th>\n",
       "      <td>LMA Manager 2007</td>\n",
       "      <td>X360</td>\n",
       "      <td>2006.0</td>\n",
       "      <td>Sports</td>\n",
       "      <td>0.00</td>\n",
       "      <td>0.01</td>\n",
       "      <td>0.00</td>\n",
       "      <td>0.00</td>\n",
       "      <td>NaN</td>\n",
       "      <td>NaN</td>\n",
       "      <td>NaN</td>\n",
       "    </tr>\n",
       "    <tr>\n",
       "      <th>16712</th>\n",
       "      <td>Haitaka no Psychedelica</td>\n",
       "      <td>PSV</td>\n",
       "      <td>2016.0</td>\n",
       "      <td>Adventure</td>\n",
       "      <td>0.00</td>\n",
       "      <td>0.00</td>\n",
       "      <td>0.01</td>\n",
       "      <td>0.00</td>\n",
       "      <td>NaN</td>\n",
       "      <td>NaN</td>\n",
       "      <td>NaN</td>\n",
       "    </tr>\n",
       "    <tr>\n",
       "      <th>16713</th>\n",
       "      <td>Spirits &amp; Spells</td>\n",
       "      <td>GBA</td>\n",
       "      <td>2003.0</td>\n",
       "      <td>Platform</td>\n",
       "      <td>0.01</td>\n",
       "      <td>0.00</td>\n",
       "      <td>0.00</td>\n",
       "      <td>0.00</td>\n",
       "      <td>NaN</td>\n",
       "      <td>NaN</td>\n",
       "      <td>NaN</td>\n",
       "    </tr>\n",
       "    <tr>\n",
       "      <th>16714</th>\n",
       "      <td>Winning Post 8 2016</td>\n",
       "      <td>PSV</td>\n",
       "      <td>2016.0</td>\n",
       "      <td>Simulation</td>\n",
       "      <td>0.00</td>\n",
       "      <td>0.00</td>\n",
       "      <td>0.01</td>\n",
       "      <td>0.00</td>\n",
       "      <td>NaN</td>\n",
       "      <td>NaN</td>\n",
       "      <td>NaN</td>\n",
       "    </tr>\n",
       "  </tbody>\n",
       "</table>\n",
       "<p>16715 rows × 11 columns</p>\n",
       "</div>"
      ],
      "text/plain": [
       "                                Name Platform  Year_of_Release         Genre  \\\n",
       "0                         Wii Sports      Wii           2006.0        Sports   \n",
       "1                  Super Mario Bros.      NES           1985.0      Platform   \n",
       "2                     Mario Kart Wii      Wii           2008.0        Racing   \n",
       "3                  Wii Sports Resort      Wii           2009.0        Sports   \n",
       "4           Pokemon Red/Pokemon Blue       GB           1996.0  Role-Playing   \n",
       "...                              ...      ...              ...           ...   \n",
       "16710  Samurai Warriors: Sanada Maru      PS3           2016.0        Action   \n",
       "16711               LMA Manager 2007     X360           2006.0        Sports   \n",
       "16712        Haitaka no Psychedelica      PSV           2016.0     Adventure   \n",
       "16713               Spirits & Spells      GBA           2003.0      Platform   \n",
       "16714            Winning Post 8 2016      PSV           2016.0    Simulation   \n",
       "\n",
       "       NA_sales  EU_sales  JP_sales  Other_sales  Critic_Score User_Score  \\\n",
       "0         41.36     28.96      3.77         8.45          76.0          8   \n",
       "1         29.08      3.58      6.81         0.77           NaN        NaN   \n",
       "2         15.68     12.76      3.79         3.29          82.0        8.3   \n",
       "3         15.61     10.93      3.28         2.95          80.0          8   \n",
       "4         11.27      8.89     10.22         1.00           NaN        NaN   \n",
       "...         ...       ...       ...          ...           ...        ...   \n",
       "16710      0.00      0.00      0.01         0.00           NaN        NaN   \n",
       "16711      0.00      0.01      0.00         0.00           NaN        NaN   \n",
       "16712      0.00      0.00      0.01         0.00           NaN        NaN   \n",
       "16713      0.01      0.00      0.00         0.00           NaN        NaN   \n",
       "16714      0.00      0.00      0.01         0.00           NaN        NaN   \n",
       "\n",
       "      Rating  \n",
       "0          E  \n",
       "1        NaN  \n",
       "2          E  \n",
       "3          E  \n",
       "4        NaN  \n",
       "...      ...  \n",
       "16710    NaN  \n",
       "16711    NaN  \n",
       "16712    NaN  \n",
       "16713    NaN  \n",
       "16714    NaN  \n",
       "\n",
       "[16715 rows x 11 columns]"
      ]
     },
     "metadata": {},
     "output_type": "display_data"
    },
    {
     "name": "stdout",
     "output_type": "stream",
     "text": [
      "<class 'pandas.core.frame.DataFrame'>\n",
      "RangeIndex: 16715 entries, 0 to 16714\n",
      "Data columns (total 11 columns):\n",
      " #   Column           Non-Null Count  Dtype  \n",
      "---  ------           --------------  -----  \n",
      " 0   Name             16713 non-null  object \n",
      " 1   Platform         16715 non-null  object \n",
      " 2   Year_of_Release  16446 non-null  float64\n",
      " 3   Genre            16713 non-null  object \n",
      " 4   NA_sales         16715 non-null  float64\n",
      " 5   EU_sales         16715 non-null  float64\n",
      " 6   JP_sales         16715 non-null  float64\n",
      " 7   Other_sales      16715 non-null  float64\n",
      " 8   Critic_Score     8137 non-null   float64\n",
      " 9   User_Score       10014 non-null  object \n",
      " 10  Rating           9949 non-null   object \n",
      "dtypes: float64(6), object(5)\n",
      "memory usage: 1.4+ MB\n",
      "None\n",
      "Name                  2\n",
      "Platform              0\n",
      "Year_of_Release     269\n",
      "Genre                 2\n",
      "NA_sales              0\n",
      "EU_sales              0\n",
      "JP_sales              0\n",
      "Other_sales           0\n",
      "Critic_Score       8578\n",
      "User_Score         6701\n",
      "Rating             6766\n",
      "dtype: int64\n"
     ]
    },
    {
     "data": {
      "image/png": "[encoded data removed]",
      "text/plain": [
       "<Figure size 360x360 with 6 Axes>"
      ]
     },
     "metadata": {
      "needs_background": "light"
     },
     "output_type": "display_data"
    }
   ],
   "source": [
    "data = pd.read_csv('/datasets/games.csv')\n",
    "display(data)\n",
    "print(data.info())\n",
    "data.hist(figsize=(5,5))\n",
    "print(data.isnull().sum())"
   ]
  },
  {
   "cell_type": "markdown",
   "metadata": {},
   "source": [
    "Выод к первому шагу:\n",
    "- данные выгружены и невооруженным глазом видно, что с данными проблемы: есть некторое количество пропусков(Name, Year_of_Release, Genre, Critic_Score, User_Score, Rating), название столбцов не приведены к нижнему регистру(почти все), типы данных не везде соответсвуют параметрам(User_Score и Year_of_Release) >>> будем все исправлять"
   ]
  },
  {
   "cell_type": "markdown",
   "metadata": {},
   "source": [
    "### Шаг 2 . Предобработка данных"
   ]
  },
  {
   "cell_type": "markdown",
   "metadata": {},
   "source": [
    "#### Заменим названия столбцов"
   ]
  },
  {
   "cell_type": "code",
   "execution_count": 3,
   "metadata": {},
   "outputs": [
    {
     "data": {
      "text/html": [
       "<div>\n",
       "<style scoped>\n",
       "    .dataframe tbody tr th:only-of-type {\n",
       "        vertical-align: middle;\n",
       "    }\n",
       "\n",
       "    .dataframe tbody tr th {\n",
       "        vertical-align: top;\n",
       "    }\n",
       "\n",
       "    .dataframe thead th {\n",
       "        text-align: right;\n",
       "    }\n",
       "</style>\n",
       "<table border=\"1\" class=\"dataframe\">\n",
       "  <thead>\n",
       "    <tr style=\"text-align: right;\">\n",
       "      <th></th>\n",
       "      <th>name</th>\n",
       "      <th>platform</th>\n",
       "      <th>year_of_release</th>\n",
       "      <th>genre</th>\n",
       "      <th>na_sales</th>\n",
       "      <th>eu_sales</th>\n",
       "      <th>jp_sales</th>\n",
       "      <th>other_sales</th>\n",
       "      <th>critic_score</th>\n",
       "      <th>user_score</th>\n",
       "      <th>rating</th>\n",
       "    </tr>\n",
       "  </thead>\n",
       "  <tbody>\n",
       "    <tr>\n",
       "      <th>0</th>\n",
       "      <td>Wii Sports</td>\n",
       "      <td>Wii</td>\n",
       "      <td>2006.0</td>\n",
       "      <td>Sports</td>\n",
       "      <td>41.36</td>\n",
       "      <td>28.96</td>\n",
       "      <td>3.77</td>\n",
       "      <td>8.45</td>\n",
       "      <td>76.0</td>\n",
       "      <td>8</td>\n",
       "      <td>E</td>\n",
       "    </tr>\n",
       "    <tr>\n",
       "      <th>1</th>\n",
       "      <td>Super Mario Bros.</td>\n",
       "      <td>NES</td>\n",
       "      <td>1985.0</td>\n",
       "      <td>Platform</td>\n",
       "      <td>29.08</td>\n",
       "      <td>3.58</td>\n",
       "      <td>6.81</td>\n",
       "      <td>0.77</td>\n",
       "      <td>NaN</td>\n",
       "      <td>NaN</td>\n",
       "      <td>NaN</td>\n",
       "    </tr>\n",
       "    <tr>\n",
       "      <th>2</th>\n",
       "      <td>Mario Kart Wii</td>\n",
       "      <td>Wii</td>\n",
       "      <td>2008.0</td>\n",
       "      <td>Racing</td>\n",
       "      <td>15.68</td>\n",
       "      <td>12.76</td>\n",
       "      <td>3.79</td>\n",
       "      <td>3.29</td>\n",
       "      <td>82.0</td>\n",
       "      <td>8.3</td>\n",
       "      <td>E</td>\n",
       "    </tr>\n",
       "    <tr>\n",
       "      <th>3</th>\n",
       "      <td>Wii Sports Resort</td>\n",
       "      <td>Wii</td>\n",
       "      <td>2009.0</td>\n",
       "      <td>Sports</td>\n",
       "      <td>15.61</td>\n",
       "      <td>10.93</td>\n",
       "      <td>3.28</td>\n",
       "      <td>2.95</td>\n",
       "      <td>80.0</td>\n",
       "      <td>8</td>\n",
       "      <td>E</td>\n",
       "    </tr>\n",
       "    <tr>\n",
       "      <th>4</th>\n",
       "      <td>Pokemon Red/Pokemon Blue</td>\n",
       "      <td>GB</td>\n",
       "      <td>1996.0</td>\n",
       "      <td>Role-Playing</td>\n",
       "      <td>11.27</td>\n",
       "      <td>8.89</td>\n",
       "      <td>10.22</td>\n",
       "      <td>1.00</td>\n",
       "      <td>NaN</td>\n",
       "      <td>NaN</td>\n",
       "      <td>NaN</td>\n",
       "    </tr>\n",
       "    <tr>\n",
       "      <th>...</th>\n",
       "      <td>...</td>\n",
       "      <td>...</td>\n",
       "      <td>...</td>\n",
       "      <td>...</td>\n",
       "      <td>...</td>\n",
       "      <td>...</td>\n",
       "      <td>...</td>\n",
       "      <td>...</td>\n",
       "      <td>...</td>\n",
       "      <td>...</td>\n",
       "      <td>...</td>\n",
       "    </tr>\n",
       "    <tr>\n",
       "      <th>16710</th>\n",
       "      <td>Samurai Warriors: Sanada Maru</td>\n",
       "      <td>PS3</td>\n",
       "      <td>2016.0</td>\n",
       "      <td>Action</td>\n",
       "      <td>0.00</td>\n",
       "      <td>0.00</td>\n",
       "      <td>0.01</td>\n",
       "      <td>0.00</td>\n",
       "      <td>NaN</td>\n",
       "      <td>NaN</td>\n",
       "      <td>NaN</td>\n",
       "    </tr>\n",
       "    <tr>\n",
       "      <th>16711</th>\n",
       "      <td>LMA Manager 2007</td>\n",
       "      <td>X360</td>\n",
       "      <td>2006.0</td>\n",
       "      <td>Sports</td>\n",
       "      <td>0.00</td>\n",
       "      <td>0.01</td>\n",
       "      <td>0.00</td>\n",
       "      <td>0.00</td>\n",
       "      <td>NaN</td>\n",
       "      <td>NaN</td>\n",
       "      <td>NaN</td>\n",
       "    </tr>\n",
       "    <tr>\n",
       "      <th>16712</th>\n",
       "      <td>Haitaka no Psychedelica</td>\n",
       "      <td>PSV</td>\n",
       "      <td>2016.0</td>\n",
       "      <td>Adventure</td>\n",
       "      <td>0.00</td>\n",
       "      <td>0.00</td>\n",
       "      <td>0.01</td>\n",
       "      <td>0.00</td>\n",
       "      <td>NaN</td>\n",
       "      <td>NaN</td>\n",
       "      <td>NaN</td>\n",
       "    </tr>\n",
       "    <tr>\n",
       "      <th>16713</th>\n",
       "      <td>Spirits &amp; Spells</td>\n",
       "      <td>GBA</td>\n",
       "      <td>2003.0</td>\n",
       "      <td>Platform</td>\n",
       "      <td>0.01</td>\n",
       "      <td>0.00</td>\n",
       "      <td>0.00</td>\n",
       "      <td>0.00</td>\n",
       "      <td>NaN</td>\n",
       "      <td>NaN</td>\n",
       "      <td>NaN</td>\n",
       "    </tr>\n",
       "    <tr>\n",
       "      <th>16714</th>\n",
       "      <td>Winning Post 8 2016</td>\n",
       "      <td>PSV</td>\n",
       "      <td>2016.0</td>\n",
       "      <td>Simulation</td>\n",
       "      <td>0.00</td>\n",
       "      <td>0.00</td>\n",
       "      <td>0.01</td>\n",
       "      <td>0.00</td>\n",
       "      <td>NaN</td>\n",
       "      <td>NaN</td>\n",
       "      <td>NaN</td>\n",
       "    </tr>\n",
       "  </tbody>\n",
       "</table>\n",
       "<p>16715 rows × 11 columns</p>\n",
       "</div>"
      ],
      "text/plain": [
       "                                name platform  year_of_release         genre  \\\n",
       "0                         Wii Sports      Wii           2006.0        Sports   \n",
       "1                  Super Mario Bros.      NES           1985.0      Platform   \n",
       "2                     Mario Kart Wii      Wii           2008.0        Racing   \n",
       "3                  Wii Sports Resort      Wii           2009.0        Sports   \n",
       "4           Pokemon Red/Pokemon Blue       GB           1996.0  Role-Playing   \n",
       "...                              ...      ...              ...           ...   \n",
       "16710  Samurai Warriors: Sanada Maru      PS3           2016.0        Action   \n",
       "16711               LMA Manager 2007     X360           2006.0        Sports   \n",
       "16712        Haitaka no Psychedelica      PSV           2016.0     Adventure   \n",
       "16713               Spirits & Spells      GBA           2003.0      Platform   \n",
       "16714            Winning Post 8 2016      PSV           2016.0    Simulation   \n",
       "\n",
       "       na_sales  eu_sales  jp_sales  other_sales  critic_score user_score  \\\n",
       "0         41.36     28.96      3.77         8.45          76.0          8   \n",
       "1         29.08      3.58      6.81         0.77           NaN        NaN   \n",
       "2         15.68     12.76      3.79         3.29          82.0        8.3   \n",
       "3         15.61     10.93      3.28         2.95          80.0          8   \n",
       "4         11.27      8.89     10.22         1.00           NaN        NaN   \n",
       "...         ...       ...       ...          ...           ...        ...   \n",
       "16710      0.00      0.00      0.01         0.00           NaN        NaN   \n",
       "16711      0.00      0.01      0.00         0.00           NaN        NaN   \n",
       "16712      0.00      0.00      0.01         0.00           NaN        NaN   \n",
       "16713      0.01      0.00      0.00         0.00           NaN        NaN   \n",
       "16714      0.00      0.00      0.01         0.00           NaN        NaN   \n",
       "\n",
       "      rating  \n",
       "0          E  \n",
       "1        NaN  \n",
       "2          E  \n",
       "3          E  \n",
       "4        NaN  \n",
       "...      ...  \n",
       "16710    NaN  \n",
       "16711    NaN  \n",
       "16712    NaN  \n",
       "16713    NaN  \n",
       "16714    NaN  \n",
       "\n",
       "[16715 rows x 11 columns]"
      ]
     },
     "metadata": {},
     "output_type": "display_data"
    }
   ],
   "source": [
    "data.columns = data.columns.str.lower()\n",
    "display(data)"
   ]
  },
  {
   "cell_type": "markdown",
   "metadata": {},
   "source": [
    "####  Преобразуем данные в нужные типы"
   ]
  },
  {
   "cell_type": "markdown",
   "metadata": {},
   "source": [
    "Смутило, что у всех рейтингов тип float, а у user_score - нет, проверям >>> "
   ]
  },
  {
   "cell_type": "code",
   "execution_count": 4,
   "metadata": {},
   "outputs": [
    {
     "name": "stdout",
     "output_type": "stream",
     "text": [
      "['8' nan '8.3' '8.5' '6.6' '8.4' '8.6' '7.7' '6.3' '7.4' '8.2' '9' '7.9'\n",
      " '8.1' '8.7' '7.1' '3.4' '5.3' '4.8' '3.2' '8.9' '6.4' '7.8' '7.5' '2.6'\n",
      " '7.2' '9.2' '7' '7.3' '4.3' '7.6' '5.7' '5' '9.1' '6.5' 'tbd' '8.8' '6.9'\n",
      " '9.4' '6.8' '6.1' '6.7' '5.4' '4' '4.9' '4.5' '9.3' '6.2' '4.2' '6' '3.7'\n",
      " '4.1' '5.8' '5.6' '5.5' '4.4' '4.6' '5.9' '3.9' '3.1' '2.9' '5.2' '3.3'\n",
      " '4.7' '5.1' '3.5' '2.5' '1.9' '3' '2.7' '2.2' '2' '9.5' '2.1' '3.6' '2.8'\n",
      " '1.8' '3.8' '0' '1.6' '9.6' '2.4' '1.7' '1.1' '0.3' '1.5' '0.7' '1.2'\n",
      " '2.3' '0.5' '1.3' '0.2' '0.6' '1.4' '0.9' '1' '9.7']\n"
     ]
    }
   ],
   "source": [
    "print(data['user_score'].unique())"
   ]
  },
  {
   "cell_type": "markdown",
   "metadata": {},
   "source": [
    "Нашли 'tbd', 'tbd' - это To Be Determined, TBD - аббревиатура от английского To Be Determined (будет определено) или To Be Decided (будет решено). Используется, если какая-то информация еще не определена или решение по вопросу не принято. Акроним служит для отметки неясностей или пропусков, которые надо заполнить, в информации требований.(источник - https://mobilradio.ru/information/vocabulary/tbd.htm)"
   ]
  },
  {
   "cell_type": "code",
   "execution_count": 5,
   "metadata": {},
   "outputs": [
    {
     "data": {
      "text/html": [
       "<div>\n",
       "<style scoped>\n",
       "    .dataframe tbody tr th:only-of-type {\n",
       "        vertical-align: middle;\n",
       "    }\n",
       "\n",
       "    .dataframe tbody tr th {\n",
       "        vertical-align: top;\n",
       "    }\n",
       "\n",
       "    .dataframe thead th {\n",
       "        text-align: right;\n",
       "    }\n",
       "</style>\n",
       "<table border=\"1\" class=\"dataframe\">\n",
       "  <thead>\n",
       "    <tr style=\"text-align: right;\">\n",
       "      <th></th>\n",
       "      <th>name</th>\n",
       "      <th>platform</th>\n",
       "      <th>year_of_release</th>\n",
       "      <th>genre</th>\n",
       "      <th>na_sales</th>\n",
       "      <th>eu_sales</th>\n",
       "      <th>jp_sales</th>\n",
       "      <th>other_sales</th>\n",
       "      <th>critic_score</th>\n",
       "      <th>user_score</th>\n",
       "      <th>rating</th>\n",
       "    </tr>\n",
       "  </thead>\n",
       "  <tbody>\n",
       "    <tr>\n",
       "      <th>119</th>\n",
       "      <td>Zumba Fitness</td>\n",
       "      <td>Wii</td>\n",
       "      <td>2010.0</td>\n",
       "      <td>Sports</td>\n",
       "      <td>3.45</td>\n",
       "      <td>2.59</td>\n",
       "      <td>0.0</td>\n",
       "      <td>0.66</td>\n",
       "      <td>NaN</td>\n",
       "      <td>tbd</td>\n",
       "      <td>E</td>\n",
       "    </tr>\n",
       "    <tr>\n",
       "      <th>301</th>\n",
       "      <td>Namco Museum: 50th Anniversary</td>\n",
       "      <td>PS2</td>\n",
       "      <td>2005.0</td>\n",
       "      <td>Misc</td>\n",
       "      <td>2.08</td>\n",
       "      <td>1.35</td>\n",
       "      <td>0.0</td>\n",
       "      <td>0.54</td>\n",
       "      <td>61.0</td>\n",
       "      <td>tbd</td>\n",
       "      <td>E10+</td>\n",
       "    </tr>\n",
       "    <tr>\n",
       "      <th>520</th>\n",
       "      <td>Zumba Fitness 2</td>\n",
       "      <td>Wii</td>\n",
       "      <td>2011.0</td>\n",
       "      <td>Sports</td>\n",
       "      <td>1.51</td>\n",
       "      <td>1.03</td>\n",
       "      <td>0.0</td>\n",
       "      <td>0.27</td>\n",
       "      <td>NaN</td>\n",
       "      <td>tbd</td>\n",
       "      <td>T</td>\n",
       "    </tr>\n",
       "    <tr>\n",
       "      <th>645</th>\n",
       "      <td>uDraw Studio</td>\n",
       "      <td>Wii</td>\n",
       "      <td>2010.0</td>\n",
       "      <td>Misc</td>\n",
       "      <td>1.65</td>\n",
       "      <td>0.57</td>\n",
       "      <td>0.0</td>\n",
       "      <td>0.20</td>\n",
       "      <td>71.0</td>\n",
       "      <td>tbd</td>\n",
       "      <td>E</td>\n",
       "    </tr>\n",
       "    <tr>\n",
       "      <th>657</th>\n",
       "      <td>Frogger's Adventures: Temple of the Frog</td>\n",
       "      <td>GBA</td>\n",
       "      <td>NaN</td>\n",
       "      <td>Adventure</td>\n",
       "      <td>2.15</td>\n",
       "      <td>0.18</td>\n",
       "      <td>0.0</td>\n",
       "      <td>0.07</td>\n",
       "      <td>73.0</td>\n",
       "      <td>tbd</td>\n",
       "      <td>E</td>\n",
       "    </tr>\n",
       "    <tr>\n",
       "      <th>...</th>\n",
       "      <td>...</td>\n",
       "      <td>...</td>\n",
       "      <td>...</td>\n",
       "      <td>...</td>\n",
       "      <td>...</td>\n",
       "      <td>...</td>\n",
       "      <td>...</td>\n",
       "      <td>...</td>\n",
       "      <td>...</td>\n",
       "      <td>...</td>\n",
       "      <td>...</td>\n",
       "    </tr>\n",
       "    <tr>\n",
       "      <th>16695</th>\n",
       "      <td>Planet Monsters</td>\n",
       "      <td>GBA</td>\n",
       "      <td>2001.0</td>\n",
       "      <td>Action</td>\n",
       "      <td>0.01</td>\n",
       "      <td>0.00</td>\n",
       "      <td>0.0</td>\n",
       "      <td>0.00</td>\n",
       "      <td>67.0</td>\n",
       "      <td>tbd</td>\n",
       "      <td>E</td>\n",
       "    </tr>\n",
       "    <tr>\n",
       "      <th>16697</th>\n",
       "      <td>Bust-A-Move 3000</td>\n",
       "      <td>GC</td>\n",
       "      <td>2003.0</td>\n",
       "      <td>Puzzle</td>\n",
       "      <td>0.01</td>\n",
       "      <td>0.00</td>\n",
       "      <td>0.0</td>\n",
       "      <td>0.00</td>\n",
       "      <td>53.0</td>\n",
       "      <td>tbd</td>\n",
       "      <td>E</td>\n",
       "    </tr>\n",
       "    <tr>\n",
       "      <th>16698</th>\n",
       "      <td>Mega Brain Boost</td>\n",
       "      <td>DS</td>\n",
       "      <td>2008.0</td>\n",
       "      <td>Puzzle</td>\n",
       "      <td>0.01</td>\n",
       "      <td>0.00</td>\n",
       "      <td>0.0</td>\n",
       "      <td>0.00</td>\n",
       "      <td>48.0</td>\n",
       "      <td>tbd</td>\n",
       "      <td>E</td>\n",
       "    </tr>\n",
       "    <tr>\n",
       "      <th>16704</th>\n",
       "      <td>Plushees</td>\n",
       "      <td>DS</td>\n",
       "      <td>2008.0</td>\n",
       "      <td>Simulation</td>\n",
       "      <td>0.01</td>\n",
       "      <td>0.00</td>\n",
       "      <td>0.0</td>\n",
       "      <td>0.00</td>\n",
       "      <td>NaN</td>\n",
       "      <td>tbd</td>\n",
       "      <td>E</td>\n",
       "    </tr>\n",
       "    <tr>\n",
       "      <th>16706</th>\n",
       "      <td>Men in Black II: Alien Escape</td>\n",
       "      <td>GC</td>\n",
       "      <td>2003.0</td>\n",
       "      <td>Shooter</td>\n",
       "      <td>0.01</td>\n",
       "      <td>0.00</td>\n",
       "      <td>0.0</td>\n",
       "      <td>0.00</td>\n",
       "      <td>NaN</td>\n",
       "      <td>tbd</td>\n",
       "      <td>T</td>\n",
       "    </tr>\n",
       "  </tbody>\n",
       "</table>\n",
       "<p>2424 rows × 11 columns</p>\n",
       "</div>"
      ],
      "text/plain": [
       "                                           name platform  year_of_release  \\\n",
       "119                               Zumba Fitness      Wii           2010.0   \n",
       "301              Namco Museum: 50th Anniversary      PS2           2005.0   \n",
       "520                             Zumba Fitness 2      Wii           2011.0   \n",
       "645                                uDraw Studio      Wii           2010.0   \n",
       "657    Frogger's Adventures: Temple of the Frog      GBA              NaN   \n",
       "...                                         ...      ...              ...   \n",
       "16695                           Planet Monsters      GBA           2001.0   \n",
       "16697                          Bust-A-Move 3000       GC           2003.0   \n",
       "16698                          Mega Brain Boost       DS           2008.0   \n",
       "16704                                  Plushees       DS           2008.0   \n",
       "16706             Men in Black II: Alien Escape       GC           2003.0   \n",
       "\n",
       "            genre  na_sales  eu_sales  jp_sales  other_sales  critic_score  \\\n",
       "119        Sports      3.45      2.59       0.0         0.66           NaN   \n",
       "301          Misc      2.08      1.35       0.0         0.54          61.0   \n",
       "520        Sports      1.51      1.03       0.0         0.27           NaN   \n",
       "645          Misc      1.65      0.57       0.0         0.20          71.0   \n",
       "657     Adventure      2.15      0.18       0.0         0.07          73.0   \n",
       "...           ...       ...       ...       ...          ...           ...   \n",
       "16695      Action      0.01      0.00       0.0         0.00          67.0   \n",
       "16697      Puzzle      0.01      0.00       0.0         0.00          53.0   \n",
       "16698      Puzzle      0.01      0.00       0.0         0.00          48.0   \n",
       "16704  Simulation      0.01      0.00       0.0         0.00           NaN   \n",
       "16706     Shooter      0.01      0.00       0.0         0.00           NaN   \n",
       "\n",
       "      user_score rating  \n",
       "119          tbd      E  \n",
       "301          tbd   E10+  \n",
       "520          tbd      T  \n",
       "645          tbd      E  \n",
       "657          tbd      E  \n",
       "...          ...    ...  \n",
       "16695        tbd      E  \n",
       "16697        tbd      E  \n",
       "16698        tbd      E  \n",
       "16704        tbd      E  \n",
       "16706        tbd      T  \n",
       "\n",
       "[2424 rows x 11 columns]"
      ]
     },
     "metadata": {},
     "output_type": "display_data"
    }
   ],
   "source": [
    "# непонятно, почему данные не определены или по ним решение еще не принятно, нужно посмотреть строки, где есть tbd\n",
    "display(data[data['user_score'] == 'tbd'])"
   ]
  },
  {
   "cell_type": "markdown",
   "metadata": {},
   "source": [
    "Получилось, что в столце using_score 2424 значений tbd, это немало. Могу предположить, что из за маленького количества продаж, информации о этих играх мало, поэтому используется 'To Be Decided'\n",
    "поэтому просто предлагаю пока заменить tbd на NaN и преобразовать в тип float, а потом дальше посмотреть как поступить с пропусками"
   ]
  },
  {
   "cell_type": "code",
   "execution_count": 6,
   "metadata": {},
   "outputs": [],
   "source": [
    "data['user_score'] = data['user_score'].replace('tbd', np.nan)\n",
    "data['user_score'] = data['user_score'].astype(float)\n",
    "# print(data.info())"
   ]
  },
  {
   "cell_type": "markdown",
   "metadata": {},
   "source": [
    "#### Обработаем пропуски"
   ]
  },
  {
   "cell_type": "code",
   "execution_count": 7,
   "metadata": {},
   "outputs": [
    {
     "name": "stdout",
     "output_type": "stream",
     "text": [
      "name                  2\n",
      "platform              0\n",
      "year_of_release     269\n",
      "genre                 2\n",
      "na_sales              0\n",
      "eu_sales              0\n",
      "jp_sales              0\n",
      "other_sales           0\n",
      "critic_score       8578\n",
      "user_score         9125\n",
      "rating             6766\n",
      "dtype: int64\n"
     ]
    }
   ],
   "source": [
    "print(data.isnull().sum())"
   ]
  },
  {
   "cell_type": "code",
   "execution_count": 8,
   "metadata": {},
   "outputs": [],
   "source": [
    "data['year_of_release'] = data['year_of_release'].astype('Int64')"
   ]
  },
  {
   "cell_type": "markdown",
   "metadata": {},
   "source": [
    "Теперь разберемся с critic_score(8578), user_score(9125), rating(6766). Медианой средним или модой заменять эти значения нецелесообразно, так как каждую игру оценивают независимо. Пропуски могли появиться из за того, что рейтинг и/или оценки пока что не успели сформироваться или наоборот игра вышла до того как появились рейтинги и/или критерии оценивания и эти игры просто напросто не кому было оценивать. Выборок с пропущенными значениями довально много, удалить нельзя(исказяться данные), нужно как то их отметить чтобы при анализе было видно, что у данных игр НЕТ РЕЙТИНГА или/и ОЦЕНОК. Отметим пропущенные оценки несуществующим для данной выборки значения, а отсутствующий рейтинг отметим no_rating."
   ]
  },
  {
   "cell_type": "code",
   "execution_count": 9,
   "metadata": {},
   "outputs": [
    {
     "name": "stdout",
     "output_type": "stream",
     "text": [
      "name                  2\n",
      "platform              0\n",
      "year_of_release     269\n",
      "genre                 2\n",
      "na_sales              0\n",
      "eu_sales              0\n",
      "jp_sales              0\n",
      "other_sales           0\n",
      "critic_score       8578\n",
      "user_score         9125\n",
      "rating                0\n",
      "dtype: int64\n"
     ]
    }
   ],
   "source": [
    "# максмум 100\n",
    "# data['critic_score'] = data['critic_score'].fillna(-1)\n",
    "# максимум 10\n",
    "# data['user_score'] = data['user_score'].fillna(-1)\n",
    "data['rating'] = data['rating'].fillna('no_rating')\n",
    "print(data.isnull().sum())"
   ]
  },
  {
   "cell_type": "markdown",
   "metadata": {},
   "source": [
    "#### Посчитаем суммарные продажи во всех регионах "
   ]
  },
  {
   "cell_type": "code",
   "execution_count": 10,
   "metadata": {},
   "outputs": [
    {
     "data": {
      "text/html": [
       "<div>\n",
       "<style scoped>\n",
       "    .dataframe tbody tr th:only-of-type {\n",
       "        vertical-align: middle;\n",
       "    }\n",
       "\n",
       "    .dataframe tbody tr th {\n",
       "        vertical-align: top;\n",
       "    }\n",
       "\n",
       "    .dataframe thead th {\n",
       "        text-align: right;\n",
       "    }\n",
       "</style>\n",
       "<table border=\"1\" class=\"dataframe\">\n",
       "  <thead>\n",
       "    <tr style=\"text-align: right;\">\n",
       "      <th></th>\n",
       "      <th>name</th>\n",
       "      <th>platform</th>\n",
       "      <th>year_of_release</th>\n",
       "      <th>genre</th>\n",
       "      <th>na_sales</th>\n",
       "      <th>eu_sales</th>\n",
       "      <th>jp_sales</th>\n",
       "      <th>other_sales</th>\n",
       "      <th>critic_score</th>\n",
       "      <th>user_score</th>\n",
       "      <th>rating</th>\n",
       "      <th>total_sale</th>\n",
       "    </tr>\n",
       "  </thead>\n",
       "  <tbody>\n",
       "    <tr>\n",
       "      <th>0</th>\n",
       "      <td>Wii Sports</td>\n",
       "      <td>Wii</td>\n",
       "      <td>2006</td>\n",
       "      <td>Sports</td>\n",
       "      <td>41.36</td>\n",
       "      <td>28.96</td>\n",
       "      <td>3.77</td>\n",
       "      <td>8.45</td>\n",
       "      <td>76.0</td>\n",
       "      <td>8.0</td>\n",
       "      <td>E</td>\n",
       "      <td>82.54</td>\n",
       "    </tr>\n",
       "    <tr>\n",
       "      <th>1</th>\n",
       "      <td>Super Mario Bros.</td>\n",
       "      <td>NES</td>\n",
       "      <td>1985</td>\n",
       "      <td>Platform</td>\n",
       "      <td>29.08</td>\n",
       "      <td>3.58</td>\n",
       "      <td>6.81</td>\n",
       "      <td>0.77</td>\n",
       "      <td>NaN</td>\n",
       "      <td>NaN</td>\n",
       "      <td>no_rating</td>\n",
       "      <td>40.24</td>\n",
       "    </tr>\n",
       "    <tr>\n",
       "      <th>2</th>\n",
       "      <td>Mario Kart Wii</td>\n",
       "      <td>Wii</td>\n",
       "      <td>2008</td>\n",
       "      <td>Racing</td>\n",
       "      <td>15.68</td>\n",
       "      <td>12.76</td>\n",
       "      <td>3.79</td>\n",
       "      <td>3.29</td>\n",
       "      <td>82.0</td>\n",
       "      <td>8.3</td>\n",
       "      <td>E</td>\n",
       "      <td>35.52</td>\n",
       "    </tr>\n",
       "    <tr>\n",
       "      <th>3</th>\n",
       "      <td>Wii Sports Resort</td>\n",
       "      <td>Wii</td>\n",
       "      <td>2009</td>\n",
       "      <td>Sports</td>\n",
       "      <td>15.61</td>\n",
       "      <td>10.93</td>\n",
       "      <td>3.28</td>\n",
       "      <td>2.95</td>\n",
       "      <td>80.0</td>\n",
       "      <td>8.0</td>\n",
       "      <td>E</td>\n",
       "      <td>32.77</td>\n",
       "    </tr>\n",
       "    <tr>\n",
       "      <th>4</th>\n",
       "      <td>Pokemon Red/Pokemon Blue</td>\n",
       "      <td>GB</td>\n",
       "      <td>1996</td>\n",
       "      <td>Role-Playing</td>\n",
       "      <td>11.27</td>\n",
       "      <td>8.89</td>\n",
       "      <td>10.22</td>\n",
       "      <td>1.00</td>\n",
       "      <td>NaN</td>\n",
       "      <td>NaN</td>\n",
       "      <td>no_rating</td>\n",
       "      <td>31.38</td>\n",
       "    </tr>\n",
       "    <tr>\n",
       "      <th>...</th>\n",
       "      <td>...</td>\n",
       "      <td>...</td>\n",
       "      <td>...</td>\n",
       "      <td>...</td>\n",
       "      <td>...</td>\n",
       "      <td>...</td>\n",
       "      <td>...</td>\n",
       "      <td>...</td>\n",
       "      <td>...</td>\n",
       "      <td>...</td>\n",
       "      <td>...</td>\n",
       "      <td>...</td>\n",
       "    </tr>\n",
       "    <tr>\n",
       "      <th>16710</th>\n",
       "      <td>Samurai Warriors: Sanada Maru</td>\n",
       "      <td>PS3</td>\n",
       "      <td>2016</td>\n",
       "      <td>Action</td>\n",
       "      <td>0.00</td>\n",
       "      <td>0.00</td>\n",
       "      <td>0.01</td>\n",
       "      <td>0.00</td>\n",
       "      <td>NaN</td>\n",
       "      <td>NaN</td>\n",
       "      <td>no_rating</td>\n",
       "      <td>0.01</td>\n",
       "    </tr>\n",
       "    <tr>\n",
       "      <th>16711</th>\n",
       "      <td>LMA Manager 2007</td>\n",
       "      <td>X360</td>\n",
       "      <td>2006</td>\n",
       "      <td>Sports</td>\n",
       "      <td>0.00</td>\n",
       "      <td>0.01</td>\n",
       "      <td>0.00</td>\n",
       "      <td>0.00</td>\n",
       "      <td>NaN</td>\n",
       "      <td>NaN</td>\n",
       "      <td>no_rating</td>\n",
       "      <td>0.01</td>\n",
       "    </tr>\n",
       "    <tr>\n",
       "      <th>16712</th>\n",
       "      <td>Haitaka no Psychedelica</td>\n",
       "      <td>PSV</td>\n",
       "      <td>2016</td>\n",
       "      <td>Adventure</td>\n",
       "      <td>0.00</td>\n",
       "      <td>0.00</td>\n",
       "      <td>0.01</td>\n",
       "      <td>0.00</td>\n",
       "      <td>NaN</td>\n",
       "      <td>NaN</td>\n",
       "      <td>no_rating</td>\n",
       "      <td>0.01</td>\n",
       "    </tr>\n",
       "    <tr>\n",
       "      <th>16713</th>\n",
       "      <td>Spirits &amp; Spells</td>\n",
       "      <td>GBA</td>\n",
       "      <td>2003</td>\n",
       "      <td>Platform</td>\n",
       "      <td>0.01</td>\n",
       "      <td>0.00</td>\n",
       "      <td>0.00</td>\n",
       "      <td>0.00</td>\n",
       "      <td>NaN</td>\n",
       "      <td>NaN</td>\n",
       "      <td>no_rating</td>\n",
       "      <td>0.01</td>\n",
       "    </tr>\n",
       "    <tr>\n",
       "      <th>16714</th>\n",
       "      <td>Winning Post 8 2016</td>\n",
       "      <td>PSV</td>\n",
       "      <td>2016</td>\n",
       "      <td>Simulation</td>\n",
       "      <td>0.00</td>\n",
       "      <td>0.00</td>\n",
       "      <td>0.01</td>\n",
       "      <td>0.00</td>\n",
       "      <td>NaN</td>\n",
       "      <td>NaN</td>\n",
       "      <td>no_rating</td>\n",
       "      <td>0.01</td>\n",
       "    </tr>\n",
       "  </tbody>\n",
       "</table>\n",
       "<p>16715 rows × 12 columns</p>\n",
       "</div>"
      ],
      "text/plain": [
       "                                name platform  year_of_release         genre  \\\n",
       "0                         Wii Sports      Wii             2006        Sports   \n",
       "1                  Super Mario Bros.      NES             1985      Platform   \n",
       "2                     Mario Kart Wii      Wii             2008        Racing   \n",
       "3                  Wii Sports Resort      Wii             2009        Sports   \n",
       "4           Pokemon Red/Pokemon Blue       GB             1996  Role-Playing   \n",
       "...                              ...      ...              ...           ...   \n",
       "16710  Samurai Warriors: Sanada Maru      PS3             2016        Action   \n",
       "16711               LMA Manager 2007     X360             2006        Sports   \n",
       "16712        Haitaka no Psychedelica      PSV             2016     Adventure   \n",
       "16713               Spirits & Spells      GBA             2003      Platform   \n",
       "16714            Winning Post 8 2016      PSV             2016    Simulation   \n",
       "\n",
       "       na_sales  eu_sales  jp_sales  other_sales  critic_score  user_score  \\\n",
       "0         41.36     28.96      3.77         8.45          76.0         8.0   \n",
       "1         29.08      3.58      6.81         0.77           NaN         NaN   \n",
       "2         15.68     12.76      3.79         3.29          82.0         8.3   \n",
       "3         15.61     10.93      3.28         2.95          80.0         8.0   \n",
       "4         11.27      8.89     10.22         1.00           NaN         NaN   \n",
       "...         ...       ...       ...          ...           ...         ...   \n",
       "16710      0.00      0.00      0.01         0.00           NaN         NaN   \n",
       "16711      0.00      0.01      0.00         0.00           NaN         NaN   \n",
       "16712      0.00      0.00      0.01         0.00           NaN         NaN   \n",
       "16713      0.01      0.00      0.00         0.00           NaN         NaN   \n",
       "16714      0.00      0.00      0.01         0.00           NaN         NaN   \n",
       "\n",
       "          rating  total_sale  \n",
       "0              E       82.54  \n",
       "1      no_rating       40.24  \n",
       "2              E       35.52  \n",
       "3              E       32.77  \n",
       "4      no_rating       31.38  \n",
       "...          ...         ...  \n",
       "16710  no_rating        0.01  \n",
       "16711  no_rating        0.01  \n",
       "16712  no_rating        0.01  \n",
       "16713  no_rating        0.01  \n",
       "16714  no_rating        0.01  \n",
       "\n",
       "[16715 rows x 12 columns]"
      ]
     },
     "metadata": {},
     "output_type": "display_data"
    }
   ],
   "source": [
    "data['total_sale'] = data['na_sales'] + data['eu_sales'] + data['jp_sales'] + data['other_sales']\n",
    "display(data)"
   ]
  },
  {
   "cell_type": "markdown",
   "metadata": {},
   "source": [
    "Вывод к шагу 2:\n",
    "- приведены название столбцов к нижнему регистру\n",
    "- столбцы year_of_release и user_score преобразованы в подходящие типы(Int64 и float соответственно).\n",
    "- сократили количество пропусков(rating 6766 --> 0)\n",
    "- Посчитали суммарные продажи во всех регионах и записали их в отдельный столбец."
   ]
  },
  {
   "cell_type": "markdown",
   "metadata": {},
   "source": [
    "### Шаг 3. Исследовательский анализ данных"
   ]
  },
  {
   "cell_type": "markdown",
   "metadata": {},
   "source": [
    "#### Посмотрим, сколько игр выпускалось в разные годы"
   ]
  },
  {
   "cell_type": "code",
   "execution_count": 11,
   "metadata": {},
   "outputs": [
    {
     "name": "stdout",
     "output_type": "stream",
     "text": [
      "count    16446.000000\n",
      "mean      2006.484616\n",
      "std          5.877050\n",
      "min       1980.000000\n",
      "25%       2003.000000\n",
      "50%       2007.000000\n",
      "75%       2010.000000\n",
      "max       2016.000000\n",
      "Name: year_of_release, dtype: float64\n"
     ]
    },
    {
     "data": {
      "image/png": "[encoded data removed]",
      "text/plain": [
       "<Figure size 720x576 with 1 Axes>"
      ]
     },
     "metadata": {
      "needs_background": "light"
     },
     "output_type": "display_data"
    }
   ],
   "source": [
    "year_group = data.groupby('year_of_release')['name'].count()\n",
    "year_group.plot(kind='bar', figsize=(10, 8), color='green', xlabel='Год релиза', ylabel='Количество')\n",
    "plt.title('Сколько игр выпускалось в разные годы')\n",
    "print(data['year_of_release'].describe())"
   ]
  },
  {
   "cell_type": "markdown",
   "metadata": {},
   "source": [
    "По графику видно, что больше всего игр было выпущено в 2008-2009 годах. После них идет некоторый спад. Я думаю, скорее всего он обусловлен как раз таки появившимся в 2008-2009 годах разнообразием игр, публика стала более требовательной к качеству игрушек и их разработка стала более трудоемким и долгим процессом. Также видно постепенное нарастание рынка видеоигр с 1990 года. Я считаю, что данные за все периоды важны, по ним можно увидеть динамику развития данный сферы. НО не забываем нашу главную задачу: 'Нужно выявить определяющие успешность игры закономерности', а для этого данных с 1980 по 1997 недостаточно, в силу мощностей старой техники игр выпускалось очень мало и поэтому данный за этот период НЕ ВАЖНЫ."
   ]
  },
  {
   "cell_type": "markdown",
   "metadata": {},
   "source": [
    "#### Посмотрим, как менялись продажи по платформам"
   ]
  },
  {
   "cell_type": "code",
   "execution_count": 12,
   "metadata": {},
   "outputs": [
    {
     "name": "stdout",
     "output_type": "stream",
     "text": [
      "   platform  platform_total_sale\n",
      "0       PS2              1255.77\n",
      "1      X360               971.42\n",
      "2       PS3               939.65\n",
      "3       Wii               907.51\n",
      "4        DS               806.12\n",
      "5        PS               730.86\n",
      "6       GBA               317.85\n",
      "7       PS4               314.14\n",
      "8       PSP               294.05\n",
      "9        PC               259.52\n",
      "10      3DS               259.00\n",
      "11       XB               257.74\n",
      "12       GB               255.46\n",
      "13      NES               251.05\n",
      "14      N64               218.68\n",
      "15     SNES               200.04\n",
      "16       GC               198.93\n",
      "17     XOne               159.32\n",
      "18     2600                96.98\n",
      "19     WiiU                82.19\n",
      "20      PSV                54.07\n",
      "21      SAT                33.59\n",
      "22      GEN                30.77\n",
      "23       DC                15.95\n",
      "24      SCD                 1.86\n",
      "25       NG                 1.44\n",
      "26       WS                 1.42\n",
      "27     TG16                 0.16\n",
      "28      3DO                 0.10\n",
      "29       GG                 0.04\n",
      "30     PCFX                 0.03\n"
     ]
    }
   ],
   "source": [
    "# Выберем платформы с наибольшими суммарными продажами\n",
    "platform_group = data.groupby('platform')['total_sale'].sum()\n",
    "# применю reset_index() для того чтобы преобразовать тип grouby в dataframe\n",
    "platform_group = platform_group.reset_index()\n",
    "# дам название стобцам\n",
    "platform_group.columns = ['platform', 'platform_total_sale']\n",
    "# выведу на экран \n",
    "print(platform_group.sort_values(by='platform_total_sale', ascending=False).reset_index(drop=True))"
   ]
  },
  {
   "cell_type": "markdown",
   "metadata": {},
   "source": [
    "Итак, платформами с наибольшими суммарными продажами будем считать первые 11. Далее, построим распределение по годам."
   ]
  },
  {
   "cell_type": "markdown",
   "metadata": {},
   "source": [
    "<div class=\"alert alert-block alert-warning\">\n",
    "<b>🔁Комментарий ревьюера:</b>\n",
    "\n",
    "Нужно всегда стараться писать более универсальный код, без ручного внесения данных. Если данные дополнятся или изменятся, то список платформ нам придется переписывать, при этом можно допустить ошибки. Лучше сразу формировать список платформ из полученной группировки по продажам и его потом использовать при фильтрации. Ниже написал пример. </div>"
   ]
  },
  {
   "cell_type": "code",
   "execution_count": 13,
   "metadata": {},
   "outputs": [
    {
     "data": {
      "text/plain": [
       "['PS2', 'X360', 'PS3', 'Wii', 'DS', 'PS', 'GBA', 'PS4', 'PSP', 'PC', '3DS']"
      ]
     },
     "execution_count": 13,
     "metadata": {},
     "output_type": "execute_result"
    }
   ],
   "source": [
    "# код ревьюера\n",
    "data.groupby('platform').agg({'total_sale': 'sum'}).sort_values(by='total_sale', ascending=False).head(11).index.to_list()"
   ]
  },
  {
   "cell_type": "code",
   "execution_count": 14,
   "metadata": {},
   "outputs": [
    {
     "data": {
      "text/html": [
       "<div>\n",
       "<style scoped>\n",
       "    .dataframe tbody tr th:only-of-type {\n",
       "        vertical-align: middle;\n",
       "    }\n",
       "\n",
       "    .dataframe tbody tr th {\n",
       "        vertical-align: top;\n",
       "    }\n",
       "\n",
       "    .dataframe thead th {\n",
       "        text-align: right;\n",
       "    }\n",
       "</style>\n",
       "<table border=\"1\" class=\"dataframe\">\n",
       "  <thead>\n",
       "    <tr style=\"text-align: right;\">\n",
       "      <th></th>\n",
       "      <th>name</th>\n",
       "      <th>platform</th>\n",
       "      <th>year_of_release</th>\n",
       "      <th>genre</th>\n",
       "      <th>na_sales</th>\n",
       "      <th>eu_sales</th>\n",
       "      <th>jp_sales</th>\n",
       "      <th>other_sales</th>\n",
       "      <th>critic_score</th>\n",
       "      <th>user_score</th>\n",
       "      <th>rating</th>\n",
       "      <th>total_sale</th>\n",
       "    </tr>\n",
       "  </thead>\n",
       "  <tbody>\n",
       "    <tr>\n",
       "      <th>0</th>\n",
       "      <td>Wii Sports</td>\n",
       "      <td>Wii</td>\n",
       "      <td>2006</td>\n",
       "      <td>Sports</td>\n",
       "      <td>41.36</td>\n",
       "      <td>28.96</td>\n",
       "      <td>3.77</td>\n",
       "      <td>8.45</td>\n",
       "      <td>76.0</td>\n",
       "      <td>8.0</td>\n",
       "      <td>E</td>\n",
       "      <td>82.54</td>\n",
       "    </tr>\n",
       "    <tr>\n",
       "      <th>1</th>\n",
       "      <td>Mario Kart Wii</td>\n",
       "      <td>Wii</td>\n",
       "      <td>2008</td>\n",
       "      <td>Racing</td>\n",
       "      <td>15.68</td>\n",
       "      <td>12.76</td>\n",
       "      <td>3.79</td>\n",
       "      <td>3.29</td>\n",
       "      <td>82.0</td>\n",
       "      <td>8.3</td>\n",
       "      <td>E</td>\n",
       "      <td>35.52</td>\n",
       "    </tr>\n",
       "    <tr>\n",
       "      <th>2</th>\n",
       "      <td>Wii Sports Resort</td>\n",
       "      <td>Wii</td>\n",
       "      <td>2009</td>\n",
       "      <td>Sports</td>\n",
       "      <td>15.61</td>\n",
       "      <td>10.93</td>\n",
       "      <td>3.28</td>\n",
       "      <td>2.95</td>\n",
       "      <td>80.0</td>\n",
       "      <td>8.0</td>\n",
       "      <td>E</td>\n",
       "      <td>32.77</td>\n",
       "    </tr>\n",
       "    <tr>\n",
       "      <th>3</th>\n",
       "      <td>New Super Mario Bros.</td>\n",
       "      <td>DS</td>\n",
       "      <td>2006</td>\n",
       "      <td>Platform</td>\n",
       "      <td>11.28</td>\n",
       "      <td>9.14</td>\n",
       "      <td>6.50</td>\n",
       "      <td>2.88</td>\n",
       "      <td>89.0</td>\n",
       "      <td>8.5</td>\n",
       "      <td>E</td>\n",
       "      <td>29.80</td>\n",
       "    </tr>\n",
       "    <tr>\n",
       "      <th>4</th>\n",
       "      <td>Wii Play</td>\n",
       "      <td>Wii</td>\n",
       "      <td>2006</td>\n",
       "      <td>Misc</td>\n",
       "      <td>13.96</td>\n",
       "      <td>9.18</td>\n",
       "      <td>2.93</td>\n",
       "      <td>2.84</td>\n",
       "      <td>58.0</td>\n",
       "      <td>6.6</td>\n",
       "      <td>E</td>\n",
       "      <td>28.91</td>\n",
       "    </tr>\n",
       "    <tr>\n",
       "      <th>...</th>\n",
       "      <td>...</td>\n",
       "      <td>...</td>\n",
       "      <td>...</td>\n",
       "      <td>...</td>\n",
       "      <td>...</td>\n",
       "      <td>...</td>\n",
       "      <td>...</td>\n",
       "      <td>...</td>\n",
       "      <td>...</td>\n",
       "      <td>...</td>\n",
       "      <td>...</td>\n",
       "      <td>...</td>\n",
       "    </tr>\n",
       "    <tr>\n",
       "      <th>13334</th>\n",
       "      <td>Woody Woodpecker in Crazy Castle 5</td>\n",
       "      <td>GBA</td>\n",
       "      <td>2002</td>\n",
       "      <td>Platform</td>\n",
       "      <td>0.01</td>\n",
       "      <td>0.00</td>\n",
       "      <td>0.00</td>\n",
       "      <td>0.00</td>\n",
       "      <td>NaN</td>\n",
       "      <td>NaN</td>\n",
       "      <td>no_rating</td>\n",
       "      <td>0.01</td>\n",
       "    </tr>\n",
       "    <tr>\n",
       "      <th>13335</th>\n",
       "      <td>SCORE International Baja 1000: The Official Game</td>\n",
       "      <td>PS2</td>\n",
       "      <td>2008</td>\n",
       "      <td>Racing</td>\n",
       "      <td>0.00</td>\n",
       "      <td>0.00</td>\n",
       "      <td>0.00</td>\n",
       "      <td>0.00</td>\n",
       "      <td>NaN</td>\n",
       "      <td>NaN</td>\n",
       "      <td>no_rating</td>\n",
       "      <td>0.00</td>\n",
       "    </tr>\n",
       "    <tr>\n",
       "      <th>13336</th>\n",
       "      <td>Samurai Warriors: Sanada Maru</td>\n",
       "      <td>PS3</td>\n",
       "      <td>2016</td>\n",
       "      <td>Action</td>\n",
       "      <td>0.00</td>\n",
       "      <td>0.00</td>\n",
       "      <td>0.01</td>\n",
       "      <td>0.00</td>\n",
       "      <td>NaN</td>\n",
       "      <td>NaN</td>\n",
       "      <td>no_rating</td>\n",
       "      <td>0.01</td>\n",
       "    </tr>\n",
       "    <tr>\n",
       "      <th>13337</th>\n",
       "      <td>LMA Manager 2007</td>\n",
       "      <td>X360</td>\n",
       "      <td>2006</td>\n",
       "      <td>Sports</td>\n",
       "      <td>0.00</td>\n",
       "      <td>0.01</td>\n",
       "      <td>0.00</td>\n",
       "      <td>0.00</td>\n",
       "      <td>NaN</td>\n",
       "      <td>NaN</td>\n",
       "      <td>no_rating</td>\n",
       "      <td>0.01</td>\n",
       "    </tr>\n",
       "    <tr>\n",
       "      <th>13338</th>\n",
       "      <td>Spirits &amp; Spells</td>\n",
       "      <td>GBA</td>\n",
       "      <td>2003</td>\n",
       "      <td>Platform</td>\n",
       "      <td>0.01</td>\n",
       "      <td>0.00</td>\n",
       "      <td>0.00</td>\n",
       "      <td>0.00</td>\n",
       "      <td>NaN</td>\n",
       "      <td>NaN</td>\n",
       "      <td>no_rating</td>\n",
       "      <td>0.01</td>\n",
       "    </tr>\n",
       "  </tbody>\n",
       "</table>\n",
       "<p>13339 rows × 12 columns</p>\n",
       "</div>"
      ],
      "text/plain": [
       "                                                   name platform  \\\n",
       "0                                            Wii Sports      Wii   \n",
       "1                                        Mario Kart Wii      Wii   \n",
       "2                                     Wii Sports Resort      Wii   \n",
       "3                                 New Super Mario Bros.       DS   \n",
       "4                                              Wii Play      Wii   \n",
       "...                                                 ...      ...   \n",
       "13334                Woody Woodpecker in Crazy Castle 5      GBA   \n",
       "13335  SCORE International Baja 1000: The Official Game      PS2   \n",
       "13336                     Samurai Warriors: Sanada Maru      PS3   \n",
       "13337                                  LMA Manager 2007     X360   \n",
       "13338                                  Spirits & Spells      GBA   \n",
       "\n",
       "       year_of_release     genre  na_sales  eu_sales  jp_sales  other_sales  \\\n",
       "0                 2006    Sports     41.36     28.96      3.77         8.45   \n",
       "1                 2008    Racing     15.68     12.76      3.79         3.29   \n",
       "2                 2009    Sports     15.61     10.93      3.28         2.95   \n",
       "3                 2006  Platform     11.28      9.14      6.50         2.88   \n",
       "4                 2006      Misc     13.96      9.18      2.93         2.84   \n",
       "...                ...       ...       ...       ...       ...          ...   \n",
       "13334             2002  Platform      0.01      0.00      0.00         0.00   \n",
       "13335             2008    Racing      0.00      0.00      0.00         0.00   \n",
       "13336             2016    Action      0.00      0.00      0.01         0.00   \n",
       "13337             2006    Sports      0.00      0.01      0.00         0.00   \n",
       "13338             2003  Platform      0.01      0.00      0.00         0.00   \n",
       "\n",
       "       critic_score  user_score     rating  total_sale  \n",
       "0              76.0         8.0          E       82.54  \n",
       "1              82.0         8.3          E       35.52  \n",
       "2              80.0         8.0          E       32.77  \n",
       "3              89.0         8.5          E       29.80  \n",
       "4              58.0         6.6          E       28.91  \n",
       "...             ...         ...        ...         ...  \n",
       "13334           NaN         NaN  no_rating        0.01  \n",
       "13335           NaN         NaN  no_rating        0.00  \n",
       "13336           NaN         NaN  no_rating        0.01  \n",
       "13337           NaN         NaN  no_rating        0.01  \n",
       "13338           NaN         NaN  no_rating        0.01  \n",
       "\n",
       "[13339 rows x 12 columns]"
      ]
     },
     "metadata": {},
     "output_type": "display_data"
    }
   ],
   "source": [
    "platforms = ['PS2', 'X360', 'PS3', 'Wii', 'DS', 'PS', 'GBA', 'PS4', 'PSP', 'PC', '3DS']\n",
    "filtered_data = data[data['platform'].isin(platforms)].reset_index(drop=True)\n",
    "display(filtered_data)"
   ]
  },
  {
   "cell_type": "markdown",
   "metadata": {},
   "source": [
    "Построим для каждой платформы распределение по годам"
   ]
  },
  {
   "cell_type": "code",
   "execution_count": 15,
   "metadata": {},
   "outputs": [
    {
     "data": {
      "image/png": "[encoded data removed]",
      "text/plain": [
       "<Figure size 432x432 with 1 Axes>"
      ]
     },
     "metadata": {
      "needs_background": "light"
     },
     "output_type": "display_data"
    },
    {
     "data": {
      "image/png": "[encoded data removed]",
      "text/plain": [
       "<Figure size 432x432 with 1 Axes>"
      ]
     },
     "metadata": {
      "needs_background": "light"
     },
     "output_type": "display_data"
    },
    {
     "data": {
      "image/png": "[encoded data removed]",
      "text/plain": [
       "<Figure size 432x432 with 1 Axes>"
      ]
     },
     "metadata": {
      "needs_background": "light"
     },
     "output_type": "display_data"
    },
    {
     "data": {
      "image/png": "[encoded data removed]",
      "text/plain": [
       "<Figure size 432x432 with 1 Axes>"
      ]
     },
     "metadata": {
      "needs_background": "light"
     },
     "output_type": "display_data"
    },
    {
     "data": {
      "image/png": "[encoded data removed]",
      "text/plain": [
       "<Figure size 432x432 with 1 Axes>"
      ]
     },
     "metadata": {
      "needs_background": "light"
     },
     "output_type": "display_data"
    },
    {
     "data": {
      "image/png": "[encoded data removed]",
      "text/plain": [
       "<Figure size 432x432 with 1 Axes>"
      ]
     },
     "metadata": {
      "needs_background": "light"
     },
     "output_type": "display_data"
    },
    {
     "data": {
      "image/png": "[encoded data removed]",
      "text/plain": [
       "<Figure size 432x432 with 1 Axes>"
      ]
     },
     "metadata": {
      "needs_background": "light"
     },
     "output_type": "display_data"
    },
    {
     "data": {
      "image/png": "[encoded data removed]",
      "text/plain": [
       "<Figure size 432x432 with 1 Axes>"
      ]
     },
     "metadata": {
      "needs_background": "light"
     },
     "output_type": "display_data"
    },
    {
     "data": {
      "image/png": "[encoded data removed]",
      "text/plain": [
       "<Figure size 432x432 with 1 Axes>"
      ]
     },
     "metadata": {
      "needs_background": "light"
     },
     "output_type": "display_data"
    },
    {
     "data": {
      "image/png": "[encoded data removed]",
      "text/plain": [
       "<Figure size 432x432 with 1 Axes>"
      ]
     },
     "metadata": {
      "needs_background": "light"
     },
     "output_type": "display_data"
    },
    {
     "data": {
      "image/png": "[encoded data removed]",
      "text/plain": [
       "<Figure size 432x432 with 1 Axes>"
      ]
     },
     "metadata": {
      "needs_background": "light"
     },
     "output_type": "display_data"
    }
   ],
   "source": [
    "for platform in platforms:\n",
    "    filtered_data[filtered_data['platform'] == platform].pivot_table(index='year_of_release', values='total_sale', aggfunc='sum').plot( kind='bar', figsize=(6, 6), color='green')\n",
    "    plt.title(platform)"
   ]
  },
  {
   "cell_type": "markdown",
   "metadata": {},
   "source": [
    "Исходя из полученных нами распределений, можно дать ответ на вопрос; - 'За какой характерный срок появляются новые и исчезают старые платформы?'. Самая живучая на момент 2016 платформа оказалась 'PC'. \n",
    "- 'PS2' - просуществовала 12 лет(2000-2011),из них особой популярностью пользовалась с 2002 по 2004 год(3 года), cтала терять популярность с 2006 года, то есть она почти полностью исчезла с площадок за 7 лет. \n",
    "- 'X360' - (2005-2016), набрала популярность на рынке примерно за 3-4 года, стала сдавать позиции с 2011 года и за 6 лет почти исчезла с площадок\n",
    "- 'PS3' - 2011 год пик популярности, появилась в 2015 году и набрала популярность за 2 года, за 5 лет потеряла ее\n",
    "- 'Wii' - 2006 - 2009 год набор популярности, 2010 - 2016 ее исчезновение с рынка(7лет)\n",
    "- 'DS' - за 4 года поднялся спрос, за 6 лет его утратила \n",
    "- 'PS' - четкий пик популярности в 1998 году, 4 года на подьем и 5 лет на падения почти до нуля по популярности \n",
    "- 'GBA' - за один год поднялся спрос, за 3 года платформа начала исчезать с площадок\n",
    "- 'PS4' - набарала популярность за год, в 2016 только начала убывать \n",
    "- 'PSP' - 2 года на набор популярности и в течении 9 лет ее потеря\n",
    "- 'PC' - рост популярности за 1 год  до 2011 года, после спад в течении 5 лет\n",
    "- '3DS' - 1 год на появление на рынке и 5 лет на упадок популярности \n",
    "\n",
    "Ответим на вопрос, характерное время за которое появляется платформа - 2-4 года. А исчезют они с рынка обычно в течении 5-9 лет."
   ]
  },
  {
   "cell_type": "code",
   "execution_count": 16,
   "metadata": {},
   "outputs": [
    {
     "data": {
      "text/plain": [
       "7.67741935483871"
      ]
     },
     "execution_count": 16,
     "metadata": {},
     "output_type": "execute_result"
    }
   ],
   "source": [
    "# код ревьюера\n",
    "data.groupby('platform')['year_of_release'].nunique().mean()"
   ]
  },
  {
   "cell_type": "markdown",
   "metadata": {},
   "source": [
    "#### Возьмем данные за соответствующий актуальный период"
   ]
  },
  {
   "cell_type": "markdown",
   "metadata": {},
   "source": [
    "За актуальный период возьмем 3 года. То есть будем рассматривать данные с 2014 года."
   ]
  },
  {
   "cell_type": "markdown",
   "metadata": {},
   "source": [
    "#### Не учитываем в работе данные за предыдущие годы"
   ]
  },
  {
   "cell_type": "code",
   "execution_count": 17,
   "metadata": {},
   "outputs": [
    {
     "data": {
      "text/html": [
       "<div>\n",
       "<style scoped>\n",
       "    .dataframe tbody tr th:only-of-type {\n",
       "        vertical-align: middle;\n",
       "    }\n",
       "\n",
       "    .dataframe tbody tr th {\n",
       "        vertical-align: top;\n",
       "    }\n",
       "\n",
       "    .dataframe thead th {\n",
       "        text-align: right;\n",
       "    }\n",
       "</style>\n",
       "<table border=\"1\" class=\"dataframe\">\n",
       "  <thead>\n",
       "    <tr style=\"text-align: right;\">\n",
       "      <th></th>\n",
       "      <th>name</th>\n",
       "      <th>platform</th>\n",
       "      <th>year_of_release</th>\n",
       "      <th>genre</th>\n",
       "      <th>na_sales</th>\n",
       "      <th>eu_sales</th>\n",
       "      <th>jp_sales</th>\n",
       "      <th>other_sales</th>\n",
       "      <th>critic_score</th>\n",
       "      <th>user_score</th>\n",
       "      <th>rating</th>\n",
       "      <th>total_sale</th>\n",
       "    </tr>\n",
       "  </thead>\n",
       "  <tbody>\n",
       "    <tr>\n",
       "      <th>0</th>\n",
       "      <td>Call of Duty: Black Ops 3</td>\n",
       "      <td>PS4</td>\n",
       "      <td>2015</td>\n",
       "      <td>Shooter</td>\n",
       "      <td>6.03</td>\n",
       "      <td>5.86</td>\n",
       "      <td>0.36</td>\n",
       "      <td>2.38</td>\n",
       "      <td>NaN</td>\n",
       "      <td>NaN</td>\n",
       "      <td>no_rating</td>\n",
       "      <td>14.63</td>\n",
       "    </tr>\n",
       "    <tr>\n",
       "      <th>1</th>\n",
       "      <td>Grand Theft Auto V</td>\n",
       "      <td>PS4</td>\n",
       "      <td>2014</td>\n",
       "      <td>Action</td>\n",
       "      <td>3.96</td>\n",
       "      <td>6.31</td>\n",
       "      <td>0.38</td>\n",
       "      <td>1.97</td>\n",
       "      <td>97.0</td>\n",
       "      <td>8.3</td>\n",
       "      <td>M</td>\n",
       "      <td>12.62</td>\n",
       "    </tr>\n",
       "    <tr>\n",
       "      <th>2</th>\n",
       "      <td>Pokemon Omega Ruby/Pokemon Alpha Sapphire</td>\n",
       "      <td>3DS</td>\n",
       "      <td>2014</td>\n",
       "      <td>Role-Playing</td>\n",
       "      <td>4.35</td>\n",
       "      <td>3.49</td>\n",
       "      <td>3.10</td>\n",
       "      <td>0.74</td>\n",
       "      <td>NaN</td>\n",
       "      <td>NaN</td>\n",
       "      <td>no_rating</td>\n",
       "      <td>11.68</td>\n",
       "    </tr>\n",
       "    <tr>\n",
       "      <th>3</th>\n",
       "      <td>FIFA 16</td>\n",
       "      <td>PS4</td>\n",
       "      <td>2015</td>\n",
       "      <td>Sports</td>\n",
       "      <td>1.12</td>\n",
       "      <td>6.12</td>\n",
       "      <td>0.06</td>\n",
       "      <td>1.28</td>\n",
       "      <td>82.0</td>\n",
       "      <td>4.3</td>\n",
       "      <td>E</td>\n",
       "      <td>8.58</td>\n",
       "    </tr>\n",
       "    <tr>\n",
       "      <th>4</th>\n",
       "      <td>Star Wars Battlefront (2015)</td>\n",
       "      <td>PS4</td>\n",
       "      <td>2015</td>\n",
       "      <td>Shooter</td>\n",
       "      <td>2.99</td>\n",
       "      <td>3.49</td>\n",
       "      <td>0.22</td>\n",
       "      <td>1.28</td>\n",
       "      <td>NaN</td>\n",
       "      <td>NaN</td>\n",
       "      <td>no_rating</td>\n",
       "      <td>7.98</td>\n",
       "    </tr>\n",
       "    <tr>\n",
       "      <th>...</th>\n",
       "      <td>...</td>\n",
       "      <td>...</td>\n",
       "      <td>...</td>\n",
       "      <td>...</td>\n",
       "      <td>...</td>\n",
       "      <td>...</td>\n",
       "      <td>...</td>\n",
       "      <td>...</td>\n",
       "      <td>...</td>\n",
       "      <td>...</td>\n",
       "      <td>...</td>\n",
       "      <td>...</td>\n",
       "    </tr>\n",
       "    <tr>\n",
       "      <th>1684</th>\n",
       "      <td>Strawberry Nauts</td>\n",
       "      <td>PSV</td>\n",
       "      <td>2016</td>\n",
       "      <td>Adventure</td>\n",
       "      <td>0.00</td>\n",
       "      <td>0.00</td>\n",
       "      <td>0.01</td>\n",
       "      <td>0.00</td>\n",
       "      <td>NaN</td>\n",
       "      <td>NaN</td>\n",
       "      <td>no_rating</td>\n",
       "      <td>0.01</td>\n",
       "    </tr>\n",
       "    <tr>\n",
       "      <th>1685</th>\n",
       "      <td>Aiyoku no Eustia</td>\n",
       "      <td>PSV</td>\n",
       "      <td>2014</td>\n",
       "      <td>Misc</td>\n",
       "      <td>0.00</td>\n",
       "      <td>0.00</td>\n",
       "      <td>0.01</td>\n",
       "      <td>0.00</td>\n",
       "      <td>NaN</td>\n",
       "      <td>NaN</td>\n",
       "      <td>no_rating</td>\n",
       "      <td>0.01</td>\n",
       "    </tr>\n",
       "    <tr>\n",
       "      <th>1686</th>\n",
       "      <td>Samurai Warriors: Sanada Maru</td>\n",
       "      <td>PS3</td>\n",
       "      <td>2016</td>\n",
       "      <td>Action</td>\n",
       "      <td>0.00</td>\n",
       "      <td>0.00</td>\n",
       "      <td>0.01</td>\n",
       "      <td>0.00</td>\n",
       "      <td>NaN</td>\n",
       "      <td>NaN</td>\n",
       "      <td>no_rating</td>\n",
       "      <td>0.01</td>\n",
       "    </tr>\n",
       "    <tr>\n",
       "      <th>1687</th>\n",
       "      <td>Haitaka no Psychedelica</td>\n",
       "      <td>PSV</td>\n",
       "      <td>2016</td>\n",
       "      <td>Adventure</td>\n",
       "      <td>0.00</td>\n",
       "      <td>0.00</td>\n",
       "      <td>0.01</td>\n",
       "      <td>0.00</td>\n",
       "      <td>NaN</td>\n",
       "      <td>NaN</td>\n",
       "      <td>no_rating</td>\n",
       "      <td>0.01</td>\n",
       "    </tr>\n",
       "    <tr>\n",
       "      <th>1688</th>\n",
       "      <td>Winning Post 8 2016</td>\n",
       "      <td>PSV</td>\n",
       "      <td>2016</td>\n",
       "      <td>Simulation</td>\n",
       "      <td>0.00</td>\n",
       "      <td>0.00</td>\n",
       "      <td>0.01</td>\n",
       "      <td>0.00</td>\n",
       "      <td>NaN</td>\n",
       "      <td>NaN</td>\n",
       "      <td>no_rating</td>\n",
       "      <td>0.01</td>\n",
       "    </tr>\n",
       "  </tbody>\n",
       "</table>\n",
       "<p>1689 rows × 12 columns</p>\n",
       "</div>"
      ],
      "text/plain": [
       "                                           name platform  year_of_release  \\\n",
       "0                     Call of Duty: Black Ops 3      PS4             2015   \n",
       "1                            Grand Theft Auto V      PS4             2014   \n",
       "2     Pokemon Omega Ruby/Pokemon Alpha Sapphire      3DS             2014   \n",
       "3                                       FIFA 16      PS4             2015   \n",
       "4                  Star Wars Battlefront (2015)      PS4             2015   \n",
       "...                                         ...      ...              ...   \n",
       "1684                           Strawberry Nauts      PSV             2016   \n",
       "1685                           Aiyoku no Eustia      PSV             2014   \n",
       "1686              Samurai Warriors: Sanada Maru      PS3             2016   \n",
       "1687                    Haitaka no Psychedelica      PSV             2016   \n",
       "1688                        Winning Post 8 2016      PSV             2016   \n",
       "\n",
       "             genre  na_sales  eu_sales  jp_sales  other_sales  critic_score  \\\n",
       "0          Shooter      6.03      5.86      0.36         2.38           NaN   \n",
       "1           Action      3.96      6.31      0.38         1.97          97.0   \n",
       "2     Role-Playing      4.35      3.49      3.10         0.74           NaN   \n",
       "3           Sports      1.12      6.12      0.06         1.28          82.0   \n",
       "4          Shooter      2.99      3.49      0.22         1.28           NaN   \n",
       "...            ...       ...       ...       ...          ...           ...   \n",
       "1684     Adventure      0.00      0.00      0.01         0.00           NaN   \n",
       "1685          Misc      0.00      0.00      0.01         0.00           NaN   \n",
       "1686        Action      0.00      0.00      0.01         0.00           NaN   \n",
       "1687     Adventure      0.00      0.00      0.01         0.00           NaN   \n",
       "1688    Simulation      0.00      0.00      0.01         0.00           NaN   \n",
       "\n",
       "      user_score     rating  total_sale  \n",
       "0            NaN  no_rating       14.63  \n",
       "1            8.3          M       12.62  \n",
       "2            NaN  no_rating       11.68  \n",
       "3            4.3          E        8.58  \n",
       "4            NaN  no_rating        7.98  \n",
       "...          ...        ...         ...  \n",
       "1684         NaN  no_rating        0.01  \n",
       "1685         NaN  no_rating        0.01  \n",
       "1686         NaN  no_rating        0.01  \n",
       "1687         NaN  no_rating        0.01  \n",
       "1688         NaN  no_rating        0.01  \n",
       "\n",
       "[1689 rows x 12 columns]"
      ]
     },
     "metadata": {},
     "output_type": "display_data"
    }
   ],
   "source": [
    "actual_data = data[data['year_of_release'] >= 2014]\n",
    "actual_data = actual_data.reset_index(drop=True)\n",
    "display(actual_data)"
   ]
  },
  {
   "cell_type": "markdown",
   "metadata": {},
   "source": [
    "####  Выберим несколько потенциально прибыльных платформ."
   ]
  },
  {
   "cell_type": "code",
   "execution_count": 18,
   "metadata": {},
   "outputs": [
    {
     "data": {
      "text/html": [
       "<div>\n",
       "<style scoped>\n",
       "    .dataframe tbody tr th:only-of-type {\n",
       "        vertical-align: middle;\n",
       "    }\n",
       "\n",
       "    .dataframe tbody tr th {\n",
       "        vertical-align: top;\n",
       "    }\n",
       "\n",
       "    .dataframe thead th {\n",
       "        text-align: right;\n",
       "    }\n",
       "</style>\n",
       "<table border=\"1\" class=\"dataframe\">\n",
       "  <thead>\n",
       "    <tr style=\"text-align: right;\">\n",
       "      <th></th>\n",
       "      <th>name</th>\n",
       "      <th>platform</th>\n",
       "      <th>year_of_release</th>\n",
       "      <th>genre</th>\n",
       "      <th>na_sales</th>\n",
       "      <th>eu_sales</th>\n",
       "      <th>jp_sales</th>\n",
       "      <th>other_sales</th>\n",
       "      <th>critic_score</th>\n",
       "      <th>user_score</th>\n",
       "      <th>rating</th>\n",
       "      <th>total_sale</th>\n",
       "    </tr>\n",
       "  </thead>\n",
       "  <tbody>\n",
       "    <tr>\n",
       "      <th>0</th>\n",
       "      <td>Call of Duty: Black Ops 3</td>\n",
       "      <td>PS4</td>\n",
       "      <td>2015</td>\n",
       "      <td>Shooter</td>\n",
       "      <td>6.03</td>\n",
       "      <td>5.86</td>\n",
       "      <td>0.36</td>\n",
       "      <td>2.38</td>\n",
       "      <td>NaN</td>\n",
       "      <td>NaN</td>\n",
       "      <td>no_rating</td>\n",
       "      <td>14.63</td>\n",
       "    </tr>\n",
       "    <tr>\n",
       "      <th>1</th>\n",
       "      <td>Grand Theft Auto V</td>\n",
       "      <td>PS4</td>\n",
       "      <td>2014</td>\n",
       "      <td>Action</td>\n",
       "      <td>3.96</td>\n",
       "      <td>6.31</td>\n",
       "      <td>0.38</td>\n",
       "      <td>1.97</td>\n",
       "      <td>97.0</td>\n",
       "      <td>8.3</td>\n",
       "      <td>M</td>\n",
       "      <td>12.62</td>\n",
       "    </tr>\n",
       "    <tr>\n",
       "      <th>2</th>\n",
       "      <td>FIFA 16</td>\n",
       "      <td>PS4</td>\n",
       "      <td>2015</td>\n",
       "      <td>Sports</td>\n",
       "      <td>1.12</td>\n",
       "      <td>6.12</td>\n",
       "      <td>0.06</td>\n",
       "      <td>1.28</td>\n",
       "      <td>82.0</td>\n",
       "      <td>4.3</td>\n",
       "      <td>E</td>\n",
       "      <td>8.58</td>\n",
       "    </tr>\n",
       "    <tr>\n",
       "      <th>3</th>\n",
       "      <td>Star Wars Battlefront (2015)</td>\n",
       "      <td>PS4</td>\n",
       "      <td>2015</td>\n",
       "      <td>Shooter</td>\n",
       "      <td>2.99</td>\n",
       "      <td>3.49</td>\n",
       "      <td>0.22</td>\n",
       "      <td>1.28</td>\n",
       "      <td>NaN</td>\n",
       "      <td>NaN</td>\n",
       "      <td>no_rating</td>\n",
       "      <td>7.98</td>\n",
       "    </tr>\n",
       "    <tr>\n",
       "      <th>4</th>\n",
       "      <td>Call of Duty: Advanced Warfare</td>\n",
       "      <td>PS4</td>\n",
       "      <td>2014</td>\n",
       "      <td>Shooter</td>\n",
       "      <td>2.81</td>\n",
       "      <td>3.48</td>\n",
       "      <td>0.14</td>\n",
       "      <td>1.23</td>\n",
       "      <td>83.0</td>\n",
       "      <td>5.7</td>\n",
       "      <td>M</td>\n",
       "      <td>7.66</td>\n",
       "    </tr>\n",
       "    <tr>\n",
       "      <th>...</th>\n",
       "      <td>...</td>\n",
       "      <td>...</td>\n",
       "      <td>...</td>\n",
       "      <td>...</td>\n",
       "      <td>...</td>\n",
       "      <td>...</td>\n",
       "      <td>...</td>\n",
       "      <td>...</td>\n",
       "      <td>...</td>\n",
       "      <td>...</td>\n",
       "      <td>...</td>\n",
       "      <td>...</td>\n",
       "    </tr>\n",
       "    <tr>\n",
       "      <th>750</th>\n",
       "      <td>Rugby Challenge 3</td>\n",
       "      <td>XOne</td>\n",
       "      <td>2016</td>\n",
       "      <td>Sports</td>\n",
       "      <td>0.00</td>\n",
       "      <td>0.01</td>\n",
       "      <td>0.00</td>\n",
       "      <td>0.00</td>\n",
       "      <td>NaN</td>\n",
       "      <td>6.6</td>\n",
       "      <td>E</td>\n",
       "      <td>0.01</td>\n",
       "    </tr>\n",
       "    <tr>\n",
       "      <th>751</th>\n",
       "      <td>ZombiU</td>\n",
       "      <td>XOne</td>\n",
       "      <td>2016</td>\n",
       "      <td>Action</td>\n",
       "      <td>0.00</td>\n",
       "      <td>0.01</td>\n",
       "      <td>0.00</td>\n",
       "      <td>0.00</td>\n",
       "      <td>NaN</td>\n",
       "      <td>NaN</td>\n",
       "      <td>no_rating</td>\n",
       "      <td>0.01</td>\n",
       "    </tr>\n",
       "    <tr>\n",
       "      <th>752</th>\n",
       "      <td>Prison Architect</td>\n",
       "      <td>XOne</td>\n",
       "      <td>2016</td>\n",
       "      <td>Action</td>\n",
       "      <td>0.01</td>\n",
       "      <td>0.00</td>\n",
       "      <td>0.00</td>\n",
       "      <td>0.00</td>\n",
       "      <td>74.0</td>\n",
       "      <td>6.7</td>\n",
       "      <td>no_rating</td>\n",
       "      <td>0.01</td>\n",
       "    </tr>\n",
       "    <tr>\n",
       "      <th>753</th>\n",
       "      <td>Metal Gear Solid V: The Definitive Experience</td>\n",
       "      <td>XOne</td>\n",
       "      <td>2016</td>\n",
       "      <td>Action</td>\n",
       "      <td>0.01</td>\n",
       "      <td>0.00</td>\n",
       "      <td>0.00</td>\n",
       "      <td>0.00</td>\n",
       "      <td>NaN</td>\n",
       "      <td>NaN</td>\n",
       "      <td>M</td>\n",
       "      <td>0.01</td>\n",
       "    </tr>\n",
       "    <tr>\n",
       "      <th>754</th>\n",
       "      <td>Metal Gear Solid V: Ground Zeroes</td>\n",
       "      <td>PC</td>\n",
       "      <td>2014</td>\n",
       "      <td>Action</td>\n",
       "      <td>0.00</td>\n",
       "      <td>0.01</td>\n",
       "      <td>0.00</td>\n",
       "      <td>0.00</td>\n",
       "      <td>80.0</td>\n",
       "      <td>7.6</td>\n",
       "      <td>M</td>\n",
       "      <td>0.01</td>\n",
       "    </tr>\n",
       "  </tbody>\n",
       "</table>\n",
       "<p>755 rows × 12 columns</p>\n",
       "</div>"
      ],
      "text/plain": [
       "                                              name platform  year_of_release  \\\n",
       "0                        Call of Duty: Black Ops 3      PS4             2015   \n",
       "1                               Grand Theft Auto V      PS4             2014   \n",
       "2                                          FIFA 16      PS4             2015   \n",
       "3                     Star Wars Battlefront (2015)      PS4             2015   \n",
       "4                   Call of Duty: Advanced Warfare      PS4             2014   \n",
       "..                                             ...      ...              ...   \n",
       "750                              Rugby Challenge 3     XOne             2016   \n",
       "751                                         ZombiU     XOne             2016   \n",
       "752                               Prison Architect     XOne             2016   \n",
       "753  Metal Gear Solid V: The Definitive Experience     XOne             2016   \n",
       "754              Metal Gear Solid V: Ground Zeroes       PC             2014   \n",
       "\n",
       "       genre  na_sales  eu_sales  jp_sales  other_sales  critic_score  \\\n",
       "0    Shooter      6.03      5.86      0.36         2.38           NaN   \n",
       "1     Action      3.96      6.31      0.38         1.97          97.0   \n",
       "2     Sports      1.12      6.12      0.06         1.28          82.0   \n",
       "3    Shooter      2.99      3.49      0.22         1.28           NaN   \n",
       "4    Shooter      2.81      3.48      0.14         1.23          83.0   \n",
       "..       ...       ...       ...       ...          ...           ...   \n",
       "750   Sports      0.00      0.01      0.00         0.00           NaN   \n",
       "751   Action      0.00      0.01      0.00         0.00           NaN   \n",
       "752   Action      0.01      0.00      0.00         0.00          74.0   \n",
       "753   Action      0.01      0.00      0.00         0.00           NaN   \n",
       "754   Action      0.00      0.01      0.00         0.00          80.0   \n",
       "\n",
       "     user_score     rating  total_sale  \n",
       "0           NaN  no_rating       14.63  \n",
       "1           8.3          M       12.62  \n",
       "2           4.3          E        8.58  \n",
       "3           NaN  no_rating        7.98  \n",
       "4           5.7          M        7.66  \n",
       "..          ...        ...         ...  \n",
       "750         6.6          E        0.01  \n",
       "751         NaN  no_rating        0.01  \n",
       "752         6.7  no_rating        0.01  \n",
       "753         NaN          M        0.01  \n",
       "754         7.6          M        0.01  \n",
       "\n",
       "[755 rows x 12 columns]"
      ]
     },
     "metadata": {},
     "output_type": "display_data"
    }
   ],
   "source": [
    "top_platforms = ['PS4', 'PC', 'XOne']\n",
    "data_top_platforms = actual_data[actual_data['platform'].isin(top_platforms)].reset_index(drop=True)\n",
    "display(data_top_platforms)https://k8s.jupyterhub.praktikum-services.ru/user/user-0-1891705885/notebooks/48a04d31-755b-4ca1-a953-1a9bd1b3169e.ipynb#%D0%92%D1%8B%D0%B1%D0%B5%D1%80%D0%B8%D0%BC-%D0%BD%D0%B5%D1%81%D0%BA%D0%BE%D0%BB%D1%8C%D0%BA%D0%BE-%D0%BF%D0%BE%D1%82%D0%B5%D0%BD%D1%86%D0%B8%D0%B0%D0%BB%D1%8C%D0%BD%D0%BE-%D0%BF%D1%80%D0%B8%D0%B1%D1%8B%D0%BB%D1%8C%D0%BD%D1%8B%D1%85-%D0%BF%D0%BB%D0%B0%D1%82%D1%84%D0%BE%D1%80%D0%BC."
   ]
  },
  {
   "cell_type": "markdown",
   "metadata": {},
   "source": [
    "Мой топ 3, исходя из построенных в шаге 3.2 графиков: \n",
    "1) PS4\n",
    "2) PC\n",
    "3) XOne\n",
    "- Логика такая, лидируют по продажам  PS2(1255.77), X360(971.42), PS3(939.65), но эти платформы утратили свою популярность(они стремительно падают или уже упали) и их дальнейшее продвижение в магазине может принести убытки. Поэтому исходя из графиков будет разумно считать PS4, PC и XOne - потенциально прибыльными платформами, так как PS4 относительно недавно вышла в релиз и ее спад не такой интенсивный как у других платформ,также все ее предшественники пользовались большой популярностью, PC - всегда будет пользоваться популярностью и его спад опять же не такой инетенсивный как у других, XOne - вышла недавно, ее предшественник пользовался популярностью."
   ]
  },
  {
   "cell_type": "markdown",
   "metadata": {},
   "source": [
    "#### Построим график «ящик с усами» по глобальным продажам игр в разбивке по платформам"
   ]
  },
  {
   "cell_type": "code",
   "execution_count": 19,
   "metadata": {},
   "outputs": [
    {
     "data": {
      "text/plain": [
       "Text(0, 0.5, 'Продажи')"
      ]
     },
     "execution_count": 19,
     "metadata": {},
     "output_type": "execute_result"
    },
    {
     "data": {
      "image/png": "[encoded data removed]",
      "text/plain": [
       "<Figure size 1080x720 with 1 Axes>"
      ]
     },
     "metadata": {
      "needs_background": "light"
     },
     "output_type": "display_data"
    }
   ],
   "source": [
    "plt.figure(figsize=(15,10))\n",
    "sns.boxplot(data = actual_data, x='platform', y='total_sale')\n",
    "plt.title('Ящик с усами', fontsize=15)\n",
    "plt.xlabel('Платформа', fontsize=12)\n",
    "plt.ylabel('Продажи',fontsize=12)"
   ]
  },
  {
   "cell_type": "markdown",
   "metadata": {},
   "source": [
    "Много выбросов, избавимся от них"
   ]
  },
  {
   "cell_type": "code",
   "execution_count": 20,
   "metadata": {},
   "outputs": [
    {
     "data": {
      "text/plain": [
       "Text(0, 0.5, 'Продажи')"
      ]
     },
     "execution_count": 20,
     "metadata": {},
     "output_type": "execute_result"
    },
    {
     "data": {
      "image/png": "[encoded data removed]",
      "text/plain": [
       "<Figure size 1080x720 with 1 Axes>"
      ]
     },
     "metadata": {
      "needs_background": "light"
     },
     "output_type": "display_data"
    }
   ],
   "source": [
    "# заново нарисуем ящик с усами\n",
    "plt.figure(figsize=(15,10))\n",
    "sns.boxplot(data = actual_data, x='platform', y='total_sale')\n",
    "plt.ylim(0, 1.7)\n",
    "plt.title('Ящик с усами', fontsize=15)\n",
    "plt.xlabel('Платформа', fontsize=12)\n",
    "plt.ylabel('Продажи',fontsize=12)"
   ]
  },
  {
   "cell_type": "markdown",
   "metadata": {},
   "source": [
    "Итак, лидерами продаж становяться Wii, PS4 и XOne. Самой непопулярной платформой за актуальный период становиться PSP"
   ]
  },
  {
   "cell_type": "markdown",
   "metadata": {},
   "source": [
    "#### Посмотрим, как влияют на продажи внутри одной популярной платформы отзывы пользователей и критиков."
   ]
  },
  {
   "cell_type": "markdown",
   "metadata": {},
   "source": [
    "Выберу платформу котрая входит в топ 3 платформ и в топ лидеров продаж, а также которая находится на рынке большое количество времени, так как по таким данным будет очень удобно проводить анализ. Это платформа - 'PC'"
   ]
  },
  {
   "cell_type": "code",
   "execution_count": 21,
   "metadata": {},
   "outputs": [
    {
     "data": {
      "text/html": [
       "<div>\n",
       "<style scoped>\n",
       "    .dataframe tbody tr th:only-of-type {\n",
       "        vertical-align: middle;\n",
       "    }\n",
       "\n",
       "    .dataframe tbody tr th {\n",
       "        vertical-align: top;\n",
       "    }\n",
       "\n",
       "    .dataframe thead th {\n",
       "        text-align: right;\n",
       "    }\n",
       "</style>\n",
       "<table border=\"1\" class=\"dataframe\">\n",
       "  <thead>\n",
       "    <tr style=\"text-align: right;\">\n",
       "      <th></th>\n",
       "      <th>name</th>\n",
       "      <th>platform</th>\n",
       "      <th>year_of_release</th>\n",
       "      <th>genre</th>\n",
       "      <th>na_sales</th>\n",
       "      <th>eu_sales</th>\n",
       "      <th>jp_sales</th>\n",
       "      <th>other_sales</th>\n",
       "      <th>critic_score</th>\n",
       "      <th>user_score</th>\n",
       "      <th>rating</th>\n",
       "      <th>total_sale</th>\n",
       "    </tr>\n",
       "  </thead>\n",
       "  <tbody>\n",
       "    <tr>\n",
       "      <th>0</th>\n",
       "      <td>The Sims 4</td>\n",
       "      <td>PC</td>\n",
       "      <td>2014</td>\n",
       "      <td>Simulation</td>\n",
       "      <td>1.00</td>\n",
       "      <td>1.82</td>\n",
       "      <td>0.0</td>\n",
       "      <td>0.23</td>\n",
       "      <td>70.0</td>\n",
       "      <td>3.9</td>\n",
       "      <td>T</td>\n",
       "      <td>3.05</td>\n",
       "    </tr>\n",
       "    <tr>\n",
       "      <th>1</th>\n",
       "      <td>Fallout 4</td>\n",
       "      <td>PC</td>\n",
       "      <td>2015</td>\n",
       "      <td>Role-Playing</td>\n",
       "      <td>0.51</td>\n",
       "      <td>0.67</td>\n",
       "      <td>0.0</td>\n",
       "      <td>0.10</td>\n",
       "      <td>84.0</td>\n",
       "      <td>5.4</td>\n",
       "      <td>M</td>\n",
       "      <td>1.28</td>\n",
       "    </tr>\n",
       "    <tr>\n",
       "      <th>2</th>\n",
       "      <td>Farming Simulator 2015</td>\n",
       "      <td>PC</td>\n",
       "      <td>2014</td>\n",
       "      <td>Simulation</td>\n",
       "      <td>0.08</td>\n",
       "      <td>1.04</td>\n",
       "      <td>0.0</td>\n",
       "      <td>0.07</td>\n",
       "      <td>NaN</td>\n",
       "      <td>NaN</td>\n",
       "      <td>no_rating</td>\n",
       "      <td>1.19</td>\n",
       "    </tr>\n",
       "    <tr>\n",
       "      <th>3</th>\n",
       "      <td>Grand Theft Auto V</td>\n",
       "      <td>PC</td>\n",
       "      <td>2015</td>\n",
       "      <td>Action</td>\n",
       "      <td>0.39</td>\n",
       "      <td>0.69</td>\n",
       "      <td>0.0</td>\n",
       "      <td>0.09</td>\n",
       "      <td>96.0</td>\n",
       "      <td>7.9</td>\n",
       "      <td>M</td>\n",
       "      <td>1.17</td>\n",
       "    </tr>\n",
       "    <tr>\n",
       "      <th>4</th>\n",
       "      <td>The Elder Scrolls Online</td>\n",
       "      <td>PC</td>\n",
       "      <td>2014</td>\n",
       "      <td>Role-Playing</td>\n",
       "      <td>0.32</td>\n",
       "      <td>0.51</td>\n",
       "      <td>0.0</td>\n",
       "      <td>0.07</td>\n",
       "      <td>71.0</td>\n",
       "      <td>5.7</td>\n",
       "      <td>M</td>\n",
       "      <td>0.90</td>\n",
       "    </tr>\n",
       "    <tr>\n",
       "      <th>...</th>\n",
       "      <td>...</td>\n",
       "      <td>...</td>\n",
       "      <td>...</td>\n",
       "      <td>...</td>\n",
       "      <td>...</td>\n",
       "      <td>...</td>\n",
       "      <td>...</td>\n",
       "      <td>...</td>\n",
       "      <td>...</td>\n",
       "      <td>...</td>\n",
       "      <td>...</td>\n",
       "      <td>...</td>\n",
       "    </tr>\n",
       "    <tr>\n",
       "      <th>146</th>\n",
       "      <td>Ride 2</td>\n",
       "      <td>PC</td>\n",
       "      <td>2016</td>\n",
       "      <td>Racing</td>\n",
       "      <td>0.00</td>\n",
       "      <td>0.01</td>\n",
       "      <td>0.0</td>\n",
       "      <td>0.00</td>\n",
       "      <td>78.0</td>\n",
       "      <td>7.9</td>\n",
       "      <td>E</td>\n",
       "      <td>0.01</td>\n",
       "    </tr>\n",
       "    <tr>\n",
       "      <th>147</th>\n",
       "      <td>Rugby World Cup 2015</td>\n",
       "      <td>PC</td>\n",
       "      <td>2015</td>\n",
       "      <td>Sports</td>\n",
       "      <td>0.00</td>\n",
       "      <td>0.01</td>\n",
       "      <td>0.0</td>\n",
       "      <td>0.00</td>\n",
       "      <td>NaN</td>\n",
       "      <td>1.4</td>\n",
       "      <td>E</td>\n",
       "      <td>0.01</td>\n",
       "    </tr>\n",
       "    <tr>\n",
       "      <th>148</th>\n",
       "      <td>Codename: Panzers Complete Collection</td>\n",
       "      <td>PC</td>\n",
       "      <td>2016</td>\n",
       "      <td>Strategy</td>\n",
       "      <td>0.00</td>\n",
       "      <td>0.01</td>\n",
       "      <td>0.0</td>\n",
       "      <td>0.00</td>\n",
       "      <td>NaN</td>\n",
       "      <td>NaN</td>\n",
       "      <td>no_rating</td>\n",
       "      <td>0.01</td>\n",
       "    </tr>\n",
       "    <tr>\n",
       "      <th>149</th>\n",
       "      <td>The Amazing Spider-Man 2 (2014)</td>\n",
       "      <td>PC</td>\n",
       "      <td>2014</td>\n",
       "      <td>Action</td>\n",
       "      <td>0.00</td>\n",
       "      <td>0.01</td>\n",
       "      <td>0.0</td>\n",
       "      <td>0.00</td>\n",
       "      <td>NaN</td>\n",
       "      <td>NaN</td>\n",
       "      <td>no_rating</td>\n",
       "      <td>0.01</td>\n",
       "    </tr>\n",
       "    <tr>\n",
       "      <th>150</th>\n",
       "      <td>Metal Gear Solid V: Ground Zeroes</td>\n",
       "      <td>PC</td>\n",
       "      <td>2014</td>\n",
       "      <td>Action</td>\n",
       "      <td>0.00</td>\n",
       "      <td>0.01</td>\n",
       "      <td>0.0</td>\n",
       "      <td>0.00</td>\n",
       "      <td>80.0</td>\n",
       "      <td>7.6</td>\n",
       "      <td>M</td>\n",
       "      <td>0.01</td>\n",
       "    </tr>\n",
       "  </tbody>\n",
       "</table>\n",
       "<p>151 rows × 12 columns</p>\n",
       "</div>"
      ],
      "text/plain": [
       "                                      name platform  year_of_release  \\\n",
       "0                               The Sims 4       PC             2014   \n",
       "1                                Fallout 4       PC             2015   \n",
       "2                   Farming Simulator 2015       PC             2014   \n",
       "3                       Grand Theft Auto V       PC             2015   \n",
       "4                 The Elder Scrolls Online       PC             2014   \n",
       "..                                     ...      ...              ...   \n",
       "146                                 Ride 2       PC             2016   \n",
       "147                   Rugby World Cup 2015       PC             2015   \n",
       "148  Codename: Panzers Complete Collection       PC             2016   \n",
       "149        The Amazing Spider-Man 2 (2014)       PC             2014   \n",
       "150      Metal Gear Solid V: Ground Zeroes       PC             2014   \n",
       "\n",
       "            genre  na_sales  eu_sales  jp_sales  other_sales  critic_score  \\\n",
       "0      Simulation      1.00      1.82       0.0         0.23          70.0   \n",
       "1    Role-Playing      0.51      0.67       0.0         0.10          84.0   \n",
       "2      Simulation      0.08      1.04       0.0         0.07           NaN   \n",
       "3          Action      0.39      0.69       0.0         0.09          96.0   \n",
       "4    Role-Playing      0.32      0.51       0.0         0.07          71.0   \n",
       "..            ...       ...       ...       ...          ...           ...   \n",
       "146        Racing      0.00      0.01       0.0         0.00          78.0   \n",
       "147        Sports      0.00      0.01       0.0         0.00           NaN   \n",
       "148      Strategy      0.00      0.01       0.0         0.00           NaN   \n",
       "149        Action      0.00      0.01       0.0         0.00           NaN   \n",
       "150        Action      0.00      0.01       0.0         0.00          80.0   \n",
       "\n",
       "     user_score     rating  total_sale  \n",
       "0           3.9          T        3.05  \n",
       "1           5.4          M        1.28  \n",
       "2           NaN  no_rating        1.19  \n",
       "3           7.9          M        1.17  \n",
       "4           5.7          M        0.90  \n",
       "..          ...        ...         ...  \n",
       "146         7.9          E        0.01  \n",
       "147         1.4          E        0.01  \n",
       "148         NaN  no_rating        0.01  \n",
       "149         NaN  no_rating        0.01  \n",
       "150         7.6          M        0.01  \n",
       "\n",
       "[151 rows x 12 columns]"
      ]
     },
     "metadata": {},
     "output_type": "display_data"
    }
   ],
   "source": [
    "pc_platform = actual_data[actual_data['platform'] == 'PC'].reset_index(drop=True)\n",
    "display(pc_platform)"
   ]
  },
  {
   "cell_type": "markdown",
   "metadata": {},
   "source": [
    "Построим сначала для 'critic_score'"
   ]
  },
  {
   "cell_type": "code",
   "execution_count": 22,
   "metadata": {},
   "outputs": [
    {
     "data": {
      "text/plain": [
       "(30.0, 100.0)"
      ]
     },
     "execution_count": 22,
     "metadata": {},
     "output_type": "execute_result"
    },
    {
     "data": {
      "image/png": "[encoded data removed]",
      "text/plain": [
       "<Figure size 432x288 with 1 Axes>"
      ]
     },
     "metadata": {
      "needs_background": "light"
     },
     "output_type": "display_data"
    }
   ],
   "source": [
    "# во первых отфильтруем наш датафрэйм \n",
    "# pc_platform = pc_platform[pc_platform['critic_score'] <= 100]\n",
    "\n",
    "# так как у мы проверяем зависимость 'total_sale' от 'critic_score', то тогда 'total_sale' - это 'y', а 'critic_score' - это 'x'\n",
    "pc_platform.plot(x='critic_score', y='total_sale', kind='scatter', alpha=0.3) \n",
    "plt.title('Как влияют на продажи внутри одной популярной платформы отзывы критиков')\n",
    "plt.xlabel('Оценка критиков')\n",
    "plt.ylabel('Суммарные продажи')\n",
    "plt.xlim(30, 100)"
   ]
  },
  {
   "cell_type": "markdown",
   "metadata": {},
   "source": [
    "Теперь для 'user_score'"
   ]
  },
  {
   "cell_type": "code",
   "execution_count": 23,
   "metadata": {},
   "outputs": [
    {
     "data": {
      "text/plain": [
       "(1.0, 10.0)"
      ]
     },
     "execution_count": 23,
     "metadata": {},
     "output_type": "execute_result"
    },
    {
     "data": {
      "image/png": "[encoded data removed]",
      "text/plain": [
       "<Figure size 432x288 with 1 Axes>"
      ]
     },
     "metadata": {
      "needs_background": "light"
     },
     "output_type": "display_data"
    }
   ],
   "source": [
    "# pc_platform = pc_platform[pc_platform['user_score'] <= 10]\n",
    "pc_platform.plot(x='user_score', y='total_sale', kind='scatter', alpha=0.3) \n",
    "plt.title('Как влияют на продажи внутри одной популярной платформы отзывы пользователей')\n",
    "plt.xlabel('Оценка пользователей')\n",
    "plt.ylabel('Суммарные продажи')\n",
    "plt.xlim(1, 10)"
   ]
  },
  {
   "cell_type": "code",
   "execution_count": 24,
   "metadata": {
    "scrolled": true
   },
   "outputs": [
    {
     "name": "stdout",
     "output_type": "stream",
     "text": [
      "715\n",
      "770\n",
      "703\n"
     ]
    }
   ],
   "source": [
    "# код ревьюера\n",
    "\n",
    "print(data[(data['platform'] == 'PC') & (data['critic_score'] <= 100)].shape[0])\n",
    "print(data[(data['platform'] == 'PC') & (data['user_score'] <= 10)].shape[0])\n",
    "print(data[(data['platform'] == 'PC') & (data['critic_score'] <= 100) & (data['user_score'] <= 10)].shape[0])"
   ]
  },
  {
   "cell_type": "markdown",
   "metadata": {},
   "source": [
    "Теперь построим матрицу корреляции"
   ]
  },
  {
   "cell_type": "code",
   "execution_count": 25,
   "metadata": {},
   "outputs": [
    {
     "name": "stdout",
     "output_type": "stream",
     "text": [
      "Корреляция между продажами и оценкой критиков:  0.17463413769350036\n",
      "Корреляция между продажами и оценкой пользователей:  -0.07159665703472452\n"
     ]
    }
   ],
   "source": [
    "print('Корреляция между продажами и оценкой критиков: ', pc_platform['total_sale'].corr(pc_platform['critic_score']))\n",
    "print('Корреляция между продажами и оценкой пользователей: ', pc_platform['total_sale'].corr(pc_platform['user_score']))"
   ]
  },
  {
   "cell_type": "markdown",
   "metadata": {},
   "source": [
    "Вывод для PC, отсутствует корреляция между оценкой критиков и продажами, что означает что оценка критиков игры не влиет на ее спрос. Кореляции между оценкой пользователей и продажами не наблюдается, следует данные велечины не связаны. \n"
   ]
  },
  {
   "cell_type": "code",
   "execution_count": 26,
   "metadata": {},
   "outputs": [
    {
     "name": "stdout",
     "output_type": "stream",
     "text": [
      "Корреляция между продажами и оценкой критиков для PS4:  0.40266141068104083\n",
      "Корреляция между продажами и оценкой критиков для WiiU:  0.370201412480884\n",
      "Корреляция между продажами и оценкой критиков для XOne:  0.42867694370333226\n"
     ]
    },
    {
     "data": {
      "image/png": "[encoded data removed]",
      "text/plain": [
       "<Figure size 432x288 with 1 Axes>"
      ]
     },
     "metadata": {
      "needs_background": "light"
     },
     "output_type": "display_data"
    },
    {
     "data": {
      "image/png": "[encoded data removed]",
      "text/plain": [
       "<Figure size 432x288 with 1 Axes>"
      ]
     },
     "metadata": {
      "needs_background": "light"
     },
     "output_type": "display_data"
    },
    {
     "data": {
      "image/png": "[encoded data removed]",
      "text/plain": [
       "<Figure size 432x288 with 1 Axes>"
      ]
     },
     "metadata": {
      "needs_background": "light"
     },
     "output_type": "display_data"
    }
   ],
   "source": [
    "chosen_platforms = ['PS4', 'WiiU', 'XOne']\n",
    "\n",
    "for chosen_platform in chosen_platforms:\n",
    "    set_platform = actual_data[actual_data['platform'] == chosen_platform].reset_index(drop=True)\n",
    "    set_platform.plot(x='critic_score', y='total_sale', kind='scatter', alpha=0.3) \n",
    "    plt.title(chosen_platform)\n",
    "    plt.xlabel('Оценка критиков')\n",
    "    plt.ylabel('Суммарные продажи')\n",
    "    plt.xlim(0, 100)\n",
    "    print(f'Корреляция между продажами и оценкой критиков для {chosen_platform}: ', set_platform['total_sale'].corr(set_platform['critic_score']))\n",
    "    "
   ]
  },
  {
   "cell_type": "markdown",
   "metadata": {},
   "source": [
    "Для всех 3 платформ прослеживается средняя корреляция, это значит, что оценки критиков все таки влияют на спрос игры и на них стоит обращать внимание "
   ]
  },
  {
   "cell_type": "code",
   "execution_count": 27,
   "metadata": {},
   "outputs": [
    {
     "name": "stdout",
     "output_type": "stream",
     "text": [
      "Корреляция между продажами и оценкой пользователей для PS4:  -0.040131589472697356\n",
      "Корреляция между продажами и оценкой пользователей для WiiU:  0.4079264579217078\n",
      "Корреляция между продажами и оценкой пользователей для XOne:  -0.0703839280647581\n"
     ]
    },
    {
     "data": {
      "image/png": "[encoded data removed]",
      "text/plain": [
       "<Figure size 432x288 with 1 Axes>"
      ]
     },
     "metadata": {
      "needs_background": "light"
     },
     "output_type": "display_data"
    },
    {
     "data": {
      "image/png": "[encoded data removed]",
      "text/plain": [
       "<Figure size 432x288 with 1 Axes>"
      ]
     },
     "metadata": {
      "needs_background": "light"
     },
     "output_type": "display_data"
    },
    {
     "data": {
      "image/png": "[encoded data removed]",
      "text/plain": [
       "<Figure size 432x288 with 1 Axes>"
      ]
     },
     "metadata": {
      "needs_background": "light"
     },
     "output_type": "display_data"
    }
   ],
   "source": [
    "for chosen_platform in chosen_platforms:\n",
    "    set_platform = actual_data[actual_data['platform'] == chosen_platform].reset_index(drop=True)\n",
    "    set_platform.plot(x='user_score', y='total_sale', kind='scatter', alpha=0.3) \n",
    "    plt.title(chosen_platform)\n",
    "    plt.xlabel('Оценка пользователей')\n",
    "    plt.ylabel('Суммарные продажи')\n",
    "    plt.xlim(0, 10)\n",
    "    print(f'Корреляция между продажами и оценкой пользователей для {chosen_platform}: ', set_platform['total_sale'].corr(set_platform['user_score']))\n",
    "    "
   ]
  },
  {
   "cell_type": "markdown",
   "metadata": {},
   "source": [
    "Есть средняя корреляция между оценкой пользователей и продажами у платформы WiiU, соответственно спрос на игры на этой платформе  будет зависеть от оценки других пользоватлей. \n",
    "У платформ XOne и PS4 корреляция отсутствует, следовательно никакого влияния нет."
   ]
  },
  {
   "cell_type": "markdown",
   "metadata": {},
   "source": [
    "Общий вывод для всех платформ: Оценки пользователей никак не часто, но могут влиять на продажи игры, а оценки критиков оказывают  влияние на спрос игр в большинстве случаев. Поэтому все таки стоит обращать внимание на данные критерии при нахождении потенциально популярного продукта."
   ]
  },
  {
   "cell_type": "markdown",
   "metadata": {},
   "source": [
    "#### Посмотрим на общее распределение игр по жанрам"
   ]
  },
  {
   "cell_type": "markdown",
   "metadata": {},
   "source": [
    "Теперь посмотрим по популярность жанра по суммарным продажам >>> "
   ]
  },
  {
   "cell_type": "code",
   "execution_count": 28,
   "metadata": {},
   "outputs": [
    {
     "name": "stdout",
     "output_type": "stream",
     "text": [
      "count    12.000000\n",
      "mean      0.131250\n",
      "std       0.127585\n",
      "min       0.030000\n",
      "25%       0.082500\n",
      "50%       0.095000\n",
      "75%       0.128750\n",
      "max       0.515000\n",
      "Name: total_sale, dtype: float64\n"
     ]
    },
    {
     "data": {
      "image/png": "[encoded data removed]",
      "text/plain": [
       "<Figure size 720x576 with 1 Axes>"
      ]
     },
     "metadata": {
      "needs_background": "light"
     },
     "output_type": "display_data"
    }
   ],
   "source": [
    "genre_sale = actual_data.groupby('genre')['total_sale'].median()\n",
    "genre_sale.sort_values(ascending = False).plot(kind='bar', figsize=(10, 8), color='green', xlabel='Жанр', ylabel='Продажи', grid='on')\n",
    "plt.title('Популярность жанра по суммарным продажам')\n",
    "print(genre_sale.describe())"
   ]
  },
  {
   "cell_type": "markdown",
   "metadata": {},
   "source": [
    "В ТОПЕ - 3 самых прибыльных жанров оказываются 'Shooter', 'Sports', 'Platform'. Самые низкие продажи у 'Puzzle', 'Adventure'"
   ]
  },
  {
   "cell_type": "markdown",
   "metadata": {},
   "source": [
    "Вывод к шагу 3:\n",
    "- Период за который выпускалось большее количество игр 2008 - 2009 года. Определили что данные за 1980 по 1997 не важны для нашей конечной цели\n",
    "\n",
    "- Определи ли топ-лидеров по продажам среди платформ 1 -'PS2', 2- 'X360', 3 -'PS3', 4 -'Wii', 5 - 'DS', 6- 'PS', 7 -'GBA', 8 -'PS4', 9 - 'PSP', 10 - 'PC'\n",
    "\n",
    "- Определили за какой характерный срок появляются и исчезают платформы. Характерное время за которое появляется платформа - 2-4 года. А исчезют они с рынка обычно в течении 5-9 лет\n",
    "\n",
    "- Для дальнейшего анализа за актуальный период взяли 3 года. То есть далее будут рассматриваться данные с 2014 года.\n",
    "\n",
    "-  Лидируют по продажам PS2(1255.77), X360(971.42), PS3(939.65), но их динамика стремительно падает, поэтому считаться потенциально популярными платформами будут  PS4, PC и XOne.\n",
    "\n",
    "- Итак, самой непопулярной платформой за актуальный период становиться PSP', а лидерами продаж становяться Wii, PS4 и XOne. Следовательно, при составлении портрета потенциально популярного продука это нужно учесть и сделать вывод, что потенциально популярный продукт должен иметь возморжность быть размещен на данных платформах.\n",
    "\n",
    "- Сделали вывод, что оценки пользователей никак не влияют на продажи игры, а оценки критиков оказывают минимальное влияние. Поэтому не стоит обращать особое внимание на данные критерии при нахождении потенциально популярного продукта.\n",
    "\n",
    "- В ТОПЕ - 3 самых прибыльных жанров оказываются 'Shooter', 'Sports', 'Platform'. Самые низкие продажи у 'Puzzle', 'Adventure'\n"
   ]
  },
  {
   "cell_type": "markdown",
   "metadata": {},
   "source": [
    "###  Шаг 4. Портрет пользователя каждого региона"
   ]
  },
  {
   "cell_type": "markdown",
   "metadata": {},
   "source": [
    "Определим для пользователя каждого региона (NA, EU, JP):"
   ]
  },
  {
   "cell_type": "markdown",
   "metadata": {},
   "source": [
    "#### Самые популярные платформы (топ-5)"
   ]
  },
  {
   "cell_type": "code",
   "execution_count": 29,
   "metadata": {},
   "outputs": [
    {
     "data": {
      "text/html": [
       "<div>\n",
       "<style scoped>\n",
       "    .dataframe tbody tr th:only-of-type {\n",
       "        vertical-align: middle;\n",
       "    }\n",
       "\n",
       "    .dataframe tbody tr th {\n",
       "        vertical-align: top;\n",
       "    }\n",
       "\n",
       "    .dataframe thead th {\n",
       "        text-align: right;\n",
       "    }\n",
       "</style>\n",
       "<table border=\"1\" class=\"dataframe\">\n",
       "  <thead>\n",
       "    <tr style=\"text-align: right;\">\n",
       "      <th></th>\n",
       "      <th>platform</th>\n",
       "      <th>na_sales</th>\n",
       "      <th>share, %</th>\n",
       "    </tr>\n",
       "  </thead>\n",
       "  <tbody>\n",
       "    <tr>\n",
       "      <th>0</th>\n",
       "      <td>PS4</td>\n",
       "      <td>98.61</td>\n",
       "      <td>34.714497</td>\n",
       "    </tr>\n",
       "    <tr>\n",
       "      <th>1</th>\n",
       "      <td>XOne</td>\n",
       "      <td>81.27</td>\n",
       "      <td>28.610153</td>\n",
       "    </tr>\n",
       "    <tr>\n",
       "      <th>2</th>\n",
       "      <td>Others</td>\n",
       "      <td>31.19</td>\n",
       "      <td>10.980075</td>\n",
       "    </tr>\n",
       "    <tr>\n",
       "      <th>3</th>\n",
       "      <td>X360</td>\n",
       "      <td>28.30</td>\n",
       "      <td>9.962684</td>\n",
       "    </tr>\n",
       "    <tr>\n",
       "      <th>4</th>\n",
       "      <td>3DS</td>\n",
       "      <td>22.64</td>\n",
       "      <td>7.970147</td>\n",
       "    </tr>\n",
       "    <tr>\n",
       "      <th>5</th>\n",
       "      <td>PS3</td>\n",
       "      <td>22.05</td>\n",
       "      <td>7.762445</td>\n",
       "    </tr>\n",
       "  </tbody>\n",
       "</table>\n",
       "</div>"
      ],
      "text/plain": [
       "  platform  na_sales   share, %\n",
       "0      PS4     98.61  34.714497\n",
       "1     XOne     81.27  28.610153\n",
       "2   Others     31.19  10.980075\n",
       "3     X360     28.30   9.962684\n",
       "4      3DS     22.64   7.970147\n",
       "5      PS3     22.05   7.762445"
      ]
     },
     "metadata": {},
     "output_type": "display_data"
    },
    {
     "data": {
      "image/png": "[encoded data removed]",
      "text/plain": [
       "<Figure size 504x504 with 1 Axes>"
      ]
     },
     "metadata": {},
     "output_type": "display_data"
    }
   ],
   "source": [
    "data_na = actual_data.groupby('platform')['na_sales'].sum()\n",
    "data_na = data_na.reset_index()\n",
    "data_na = data_na.sort_values(by='na_sales', ascending=False).reset_index(drop=True)\n",
    "data_na.loc[data_na['na_sales'] < 22 , 'platform'] = 'Others'\n",
    "\n",
    "# посчитаем сразу долю\n",
    "na_sum = data_na['na_sales'].sum()\n",
    "data_na['share, %'] = data_na['na_sales']/na_sum*100\n",
    "#l,;.'display(data_na)\n",
    "\n",
    "# объеденю не попавшие в топ 5 платформы в ДРУГИЕ\n",
    "data_na = data_na.groupby(\"platform\").agg({\"na_sales\":\"sum\",\"share, %\":\"sum\"}).reset_index()\n",
    "data_na = data_na.sort_values(by='na_sales', ascending = False).reset_index(drop=True)\n",
    "\n",
    "# создам диаграмму \n",
    "data_na.groupby(['platform']).sum().plot(kind='pie', y=\"na_sales\", legend=None, figsize=(7, 7))\n",
    "\n",
    "###-----------------------------------------------------------------------------------------------------------------------------\n",
    "plt.title('Топ популярных платформ в Северной Америке')\n",
    "plt.gca().set_axis_off()\n",
    "###-----------------------------------------------------------------------------------------------------------------------------\n",
    "\n",
    "display(data_na)"
   ]
  },
  {
   "cell_type": "code",
   "execution_count": 30,
   "metadata": {},
   "outputs": [
    {
     "data": {
      "text/html": [
       "<div>\n",
       "<style scoped>\n",
       "    .dataframe tbody tr th:only-of-type {\n",
       "        vertical-align: middle;\n",
       "    }\n",
       "\n",
       "    .dataframe tbody tr th {\n",
       "        vertical-align: top;\n",
       "    }\n",
       "\n",
       "    .dataframe thead th {\n",
       "        text-align: right;\n",
       "    }\n",
       "</style>\n",
       "<table border=\"1\" class=\"dataframe\">\n",
       "  <thead>\n",
       "    <tr style=\"text-align: right;\">\n",
       "      <th></th>\n",
       "      <th>platform</th>\n",
       "      <th>eu_sales</th>\n",
       "      <th>share, %</th>\n",
       "    </tr>\n",
       "  </thead>\n",
       "  <tbody>\n",
       "    <tr>\n",
       "      <th>0</th>\n",
       "      <td>PS4</td>\n",
       "      <td>130.04</td>\n",
       "      <td>48.041968</td>\n",
       "    </tr>\n",
       "    <tr>\n",
       "      <th>1</th>\n",
       "      <td>XOne</td>\n",
       "      <td>46.25</td>\n",
       "      <td>17.086597</td>\n",
       "    </tr>\n",
       "    <tr>\n",
       "      <th>2</th>\n",
       "      <td>Others</td>\n",
       "      <td>34.76</td>\n",
       "      <td>12.841732</td>\n",
       "    </tr>\n",
       "    <tr>\n",
       "      <th>3</th>\n",
       "      <td>PS3</td>\n",
       "      <td>25.54</td>\n",
       "      <td>9.435496</td>\n",
       "    </tr>\n",
       "    <tr>\n",
       "      <th>4</th>\n",
       "      <td>PC</td>\n",
       "      <td>17.97</td>\n",
       "      <td>6.638836</td>\n",
       "    </tr>\n",
       "    <tr>\n",
       "      <th>5</th>\n",
       "      <td>3DS</td>\n",
       "      <td>16.12</td>\n",
       "      <td>5.955372</td>\n",
       "    </tr>\n",
       "  </tbody>\n",
       "</table>\n",
       "</div>"
      ],
      "text/plain": [
       "  platform  eu_sales   share, %\n",
       "0      PS4    130.04  48.041968\n",
       "1     XOne     46.25  17.086597\n",
       "2   Others     34.76  12.841732\n",
       "3      PS3     25.54   9.435496\n",
       "4       PC     17.97   6.638836\n",
       "5      3DS     16.12   5.955372"
      ]
     },
     "metadata": {},
     "output_type": "display_data"
    },
    {
     "data": {
      "image/png": "[encoded data removed]",
      "text/plain": [
       "<Figure size 504x504 with 1 Axes>"
      ]
     },
     "metadata": {},
     "output_type": "display_data"
    }
   ],
   "source": [
    "data_eu = actual_data.groupby('platform')['eu_sales'].sum()\n",
    "data_eu = data_eu.reset_index()\n",
    "data_eu = data_eu.sort_values(by='eu_sales', ascending=False).reset_index(drop=True)\n",
    "data_eu.loc[data_eu['eu_sales'] < 16 , 'platform'] = 'Others'\n",
    "\n",
    "# посчитаем сразу долю\n",
    "eu_sum = data_eu['eu_sales'].sum()\n",
    "data_eu['share, %'] = data_eu['eu_sales']/eu_sum*100\n",
    "#display(data_eu)\n",
    "\n",
    "# объеденю не попавшие в топ 5 платформы в ДРУГИЕ\n",
    "data_eu = data_eu.groupby(\"platform\").agg({\"eu_sales\":\"sum\",\"share, %\":\"sum\"}).reset_index()\n",
    "data_eu = data_eu.sort_values(by='eu_sales', ascending = False).reset_index(drop=True)\n",
    "\n",
    "# создам диаграмму \n",
    "data_eu.groupby(['platform']).sum().plot(kind='pie', y=\"eu_sales\",legend=None,  figsize=(7, 7))\n",
    "\n",
    "###-----------------------------------------------------------------------------------------------------------------------------\n",
    "plt.title('Топ популярных платформ в Европе')\n",
    "plt.gca().set_axis_off()\n",
    "###-----------------------------------------------------------------------------------------------------------------------------\n",
    "\n",
    "display(data_eu)"
   ]
  },
  {
   "cell_type": "code",
   "execution_count": 31,
   "metadata": {},
   "outputs": [
    {
     "data": {
      "text/html": [
       "<div>\n",
       "<style scoped>\n",
       "    .dataframe tbody tr th:only-of-type {\n",
       "        vertical-align: middle;\n",
       "    }\n",
       "\n",
       "    .dataframe tbody tr th {\n",
       "        vertical-align: top;\n",
       "    }\n",
       "\n",
       "    .dataframe thead th {\n",
       "        text-align: right;\n",
       "    }\n",
       "</style>\n",
       "<table border=\"1\" class=\"dataframe\">\n",
       "  <thead>\n",
       "    <tr style=\"text-align: right;\">\n",
       "      <th></th>\n",
       "      <th>platform</th>\n",
       "      <th>jp_sales</th>\n",
       "      <th>share, %</th>\n",
       "    </tr>\n",
       "  </thead>\n",
       "  <tbody>\n",
       "    <tr>\n",
       "      <th>0</th>\n",
       "      <td>3DS</td>\n",
       "      <td>44.24</td>\n",
       "      <td>47.523902</td>\n",
       "    </tr>\n",
       "    <tr>\n",
       "      <th>1</th>\n",
       "      <td>PS4</td>\n",
       "      <td>15.02</td>\n",
       "      <td>16.134923</td>\n",
       "    </tr>\n",
       "    <tr>\n",
       "      <th>2</th>\n",
       "      <td>PSV</td>\n",
       "      <td>14.54</td>\n",
       "      <td>15.619293</td>\n",
       "    </tr>\n",
       "    <tr>\n",
       "      <th>3</th>\n",
       "      <td>PS3</td>\n",
       "      <td>11.22</td>\n",
       "      <td>12.052852</td>\n",
       "    </tr>\n",
       "    <tr>\n",
       "      <th>4</th>\n",
       "      <td>WiiU</td>\n",
       "      <td>7.31</td>\n",
       "      <td>7.852616</td>\n",
       "    </tr>\n",
       "    <tr>\n",
       "      <th>5</th>\n",
       "      <td>Others</td>\n",
       "      <td>0.76</td>\n",
       "      <td>0.816414</td>\n",
       "    </tr>\n",
       "  </tbody>\n",
       "</table>\n",
       "</div>"
      ],
      "text/plain": [
       "  platform  jp_sales   share, %\n",
       "0      3DS     44.24  47.523902\n",
       "1      PS4     15.02  16.134923\n",
       "2      PSV     14.54  15.619293\n",
       "3      PS3     11.22  12.052852\n",
       "4     WiiU      7.31   7.852616\n",
       "5   Others      0.76   0.816414"
      ]
     },
     "metadata": {},
     "output_type": "display_data"
    },
    {
     "data": {
      "image/png": "[encoded data removed]",
      "text/plain": [
       "<Figure size 504x504 with 1 Axes>"
      ]
     },
     "metadata": {},
     "output_type": "display_data"
    }
   ],
   "source": [
    "data_jp = actual_data.groupby('platform')['jp_sales'].sum()\n",
    "data_jp = data_jp.reset_index()\n",
    "data_jp = data_jp.sort_values(by='jp_sales', ascending=False).reset_index(drop=True)\n",
    "data_jp.loc[data_jp['jp_sales'] <7 , 'platform'] = 'Others'\n",
    "\n",
    "# посчитаем сразу долю\n",
    "jp_sum = data_jp['jp_sales'].sum()\n",
    "data_jp['share, %'] = data_jp['jp_sales']/jp_sum*100\n",
    "# display(data_jp)\n",
    "\n",
    "# объеденю не попавшие в топ 5 платформы в ДРУГИЕ\n",
    "data_jp = data_jp.groupby(\"platform\").agg({\"jp_sales\":\"sum\",\"share, %\":\"sum\"}).reset_index()\n",
    "data_jp = data_jp.sort_values(by='jp_sales', ascending = False).reset_index(drop=True)\n",
    "\n",
    "# создам диаграмму \n",
    "data_jp.groupby(['platform']).sum().plot(kind='pie', y=\"jp_sales\",legend=None, figsize=(7, 7))\n",
    "\n",
    "###-----------------------------------------------------------------------------------------------------------------------------\n",
    "plt.title('Топ популярных платформ в Японии')\n",
    "plt.gca().set_axis_off()\n",
    "###-----------------------------------------------------------------------------------------------------------------------------\n",
    "\n",
    "display(data_jp)"
   ]
  },
  {
   "cell_type": "markdown",
   "metadata": {},
   "source": [
    "Итак, топ - 5 популярных платформ для пользователя каждого региона(обращение к данным с 2006 года):\n",
    "\n",
    "- Для NA 1)PS4 2)XOne 3)X360 4)3DS 5)PS3\n",
    "\n",
    "- Для EU 1)PS4 2)XOne 3)PS3 4)PC 5)3DS\n",
    "\n",
    "- Для JP 1)3DS 2)PS4 3)PSV 4)PS3 5)WiiU\n",
    "\n",
    "Можно сказать, что PS4, PS3 и 3DS пользовались популярностью во всех регионах. XOne была популярной в европе и северной америке, а WiiU и PSV пользовались популярностью только в японии. И еще, в европейсокй части больше пользователей отдают предпочтения PC платформе, чем в других регионах."
   ]
  },
  {
   "cell_type": "markdown",
   "metadata": {},
   "source": [
    "#### Самые популярные жанры (топ-5)"
   ]
  },
  {
   "cell_type": "code",
   "execution_count": 32,
   "metadata": {},
   "outputs": [
    {
     "name": "stdout",
     "output_type": "stream",
     "text": [
      "           genre  na_sales   share, %\n",
      "0        Shooter     79.02  27.818067\n",
      "1         Action     72.53  25.533338\n",
      "2         Sports     46.13  16.239527\n",
      "3   Role-Playing     33.47  11.782722\n",
      "4           Misc     15.05   5.298176\n",
      "5       Fighting     12.43   4.375836\n",
      "6         Racing      8.74   3.076815\n",
      "7       Platform      6.79   2.390340\n",
      "8      Adventure      5.64   1.985496\n",
      "9     Simulation      2.63   0.925861\n",
      "10      Strategy      0.98   0.344998\n",
      "11        Puzzle      0.65   0.228825\n"
     ]
    },
    {
     "data": {
      "image/png": "[encoded data removed]",
      "text/plain": [
       "<Figure size 720x576 with 1 Axes>"
      ]
     },
     "metadata": {
      "needs_background": "light"
     },
     "output_type": "display_data"
    }
   ],
   "source": [
    "genre_na = actual_data.groupby('genre')['na_sales'].sum()\n",
    "genre_na.sort_values(ascending = False).plot(kind='bar', figsize=(10, 8), color='green', xlabel='Жанр', ylabel='Количество продаж', legend='na_sales')\n",
    "genre_na = genre_na.reset_index()\n",
    "genre_na = genre_na.sort_values(by='na_sales', ascending=False).reset_index(drop=True)\n",
    "plt.title('Самые популярные жанры (топ-5)')\n",
    "\n",
    "# посчитаем сразу долю\n",
    "na_sum = genre_na['na_sales'].sum()\n",
    "genre_na['share, %'] = genre_na['na_sales']/na_sum*100\n",
    "print(genre_na)"
   ]
  },
  {
   "cell_type": "code",
   "execution_count": 33,
   "metadata": {},
   "outputs": [
    {
     "name": "stdout",
     "output_type": "stream",
     "text": [
      "           genre  eu_sales   share, %\n",
      "0         Action     74.68  27.589774\n",
      "1        Shooter     65.52  24.205704\n",
      "2         Sports     45.73  16.894488\n",
      "3   Role-Playing     28.17  10.407123\n",
      "4         Racing     14.13   5.220186\n",
      "5           Misc     12.86   4.750997\n",
      "6     Simulation      7.30   2.696911\n",
      "7       Platform      6.80   2.512192\n",
      "8       Fighting      6.69   2.471553\n",
      "9      Adventure      6.49   2.397665\n",
      "10      Strategy      1.79   0.661297\n",
      "11        Puzzle      0.52   0.192109\n"
     ]
    },
    {
     "data": {
      "image/png": "[encoded data removed]",
      "text/plain": [
       "<Figure size 720x576 with 1 Axes>"
      ]
     },
     "metadata": {
      "needs_background": "light"
     },
     "output_type": "display_data"
    }
   ],
   "source": [
    "genre_eu = actual_data.groupby('genre')['eu_sales'].sum()\n",
    "genre_eu.sort_values(ascending = False).plot(kind='bar', figsize=(10, 8), color='red', xlabel='Жанр', ylabel='Количество продаж', legend='eu_sales')\n",
    "genre_eu = genre_eu.reset_index()\n",
    "genre_eu = genre_eu.sort_values(by='eu_sales', ascending=False).reset_index(drop=True)\n",
    "plt.title('Самые популярные жанры (топ-5)')\n",
    "\n",
    "# посчитаем сразу долю\n",
    "eu_sum = genre_eu['eu_sales'].sum()\n",
    "genre_eu['share, %'] = genre_eu['eu_sales']/eu_sum*100\n",
    "print(genre_eu)"
   ]
  },
  {
   "cell_type": "code",
   "execution_count": 34,
   "metadata": {},
   "outputs": [
    {
     "name": "stdout",
     "output_type": "stream",
     "text": [
      "           genre  jp_sales   share, %\n",
      "0   Role-Playing     31.16  33.472983\n",
      "1         Action     29.58  31.775701\n",
      "2       Fighting      6.37   6.842840\n",
      "3           Misc      5.61   6.026426\n",
      "4        Shooter      4.87   5.231496\n",
      "5      Adventure      3.60   3.867225\n",
      "6         Sports      3.26   3.501987\n",
      "7       Platform      2.69   2.889677\n",
      "8     Simulation      2.31   2.481470\n",
      "9         Racing      1.76   1.890643\n",
      "10      Strategy      0.95   1.020518\n",
      "11        Puzzle      0.93   0.999033\n"
     ]
    },
    {
     "data": {
      "image/png": "[encoded data removed]",
      "text/plain": [
       "<Figure size 720x576 with 1 Axes>"
      ]
     },
     "metadata": {
      "needs_background": "light"
     },
     "output_type": "display_data"
    }
   ],
   "source": [
    "genre_jp = actual_data.groupby('genre')['jp_sales'].sum()\n",
    "genre_jp.sort_values(ascending = False).plot(kind='bar', figsize=(10, 8), color='yellow', xlabel='Жанр', ylabel='Количество продаж', legend='jp_sales')\n",
    "genre_jp = genre_jp.reset_index()\n",
    "genre_jp = genre_jp.sort_values(by='jp_sales', ascending=False).reset_index(drop=True)\n",
    "plt.title('Самые популярные жанры (топ-5)')\n",
    "\n",
    "# посчитаем сразу долю\n",
    "jp_sum = genre_jp['jp_sales'].sum()\n",
    "genre_jp['share, %'] = genre_jp['jp_sales']/jp_sum*100\n",
    "print(genre_jp)"
   ]
  },
  {
   "cell_type": "markdown",
   "metadata": {},
   "source": [
    "Итак, топ - 5 популярных жанров для пользователей из каждого региона:\n",
    "\n",
    "Для NA\n",
    "\n",
    "1 -       Shooter\n",
    "2 -        Action\n",
    "3 -        Sports\n",
    "4 -  Role-Playing\n",
    "5 -          Misc\n",
    "\n",
    "Для EU\n",
    "\n",
    "1 -        Action\n",
    "2 -       Shooter\n",
    "3 -        Sports\n",
    "4 -  Role-Playing\n",
    "5 -        Racing\n",
    "\n",
    "Для JP\n",
    "\n",
    "1 -  Role-Playing\n",
    "2 -        Action\n",
    "3 -      Fighting\n",
    "4 -          Misc\n",
    "5 -       Shooter\n",
    "\n",
    "Видим, что для пользователей из европы и северной америки первые 4 жанра в топе совпадают, это Shooter, Action, Sports, Role-Playing. Предпочтения пользователей из японии сильно отличаются, от na и eu, самым популярным там жанром стал Role-Playing, и еще в топ попал жанр Fighting."
   ]
  },
  {
   "cell_type": "markdown",
   "metadata": {},
   "source": [
    "#### Влияет ли рейтинг ESRB на продажи в отдельном регионе?"
   ]
  },
  {
   "cell_type": "markdown",
   "metadata": {},
   "source": [
    "P.S столбцы с no_rating игнорируем"
   ]
  },
  {
   "cell_type": "code",
   "execution_count": 35,
   "metadata": {},
   "outputs": [
    {
     "name": "stdout",
     "output_type": "stream",
     "text": [
      "      rating  na_sales   share, %\n",
      "0          M     96.42  33.943533\n",
      "1  no_rating     64.72  22.783919\n",
      "2          E     50.74  17.862423\n",
      "3          T     38.95  13.711892\n",
      "4       E10+     33.23  11.698233\n"
     ]
    },
    {
     "data": {
      "image/png": "[encoded data removed]",
      "text/plain": [
       "<Figure size 720x576 with 1 Axes>"
      ]
     },
     "metadata": {
      "needs_background": "light"
     },
     "output_type": "display_data"
    }
   ],
   "source": [
    "rating_na = actual_data.groupby('rating')['na_sales'].sum()\n",
    "rating_na.sort_values(ascending = False).plot(kind='bar', figsize=(10, 8), color='green', xlabel='Жанр', ylabel='Количество продаж', legend='na_sales', grid='on')\n",
    "plt.title('Влияние рейтинга ESRB на продажи в Северной Америке')\n",
    "rating_na = rating_na.reset_index()\n",
    "rating_na = rating_na.sort_values(by='na_sales', ascending=False).reset_index(drop=True)\n",
    "# посчитаем сразу долю\n",
    "na_sum = rating_na['na_sales'].sum()\n",
    "rating_na['share, %'] = rating_na['na_sales']/na_sum*100\n",
    "print(rating_na)"
   ]
  },
  {
   "cell_type": "code",
   "execution_count": 36,
   "metadata": {},
   "outputs": [
    {
     "name": "stdout",
     "output_type": "stream",
     "text": [
      "      rating  eu_sales   share, %\n",
      "0          M     93.44  34.520467\n",
      "1  no_rating     58.95  21.778484\n",
      "2          E     58.06  21.449682\n",
      "3          T     34.07  12.586818\n",
      "4       E10+     26.16   9.664549\n"
     ]
    },
    {
     "data": {
      "image/png": "[encoded data removed]",
      "text/plain": [
       "<Figure size 720x576 with 1 Axes>"
      ]
     },
     "metadata": {
      "needs_background": "light"
     },
     "output_type": "display_data"
    }
   ],
   "source": [
    "rating_eu = actual_data.groupby('rating')['eu_sales'].sum()\n",
    "rating_eu.sort_values(ascending = False).plot(kind='bar', figsize=(10, 8), color='red', xlabel='Жанр', ylabel='Количество продаж', legend='eu_sales')\n",
    "plt.title('Влияние рейтинга ESRB на продажи в Европе')\n",
    "rating_eu = rating_eu.reset_index()\n",
    "rating_eu = rating_eu.sort_values(by='eu_sales', ascending=False).reset_index(drop=True)\n",
    "# посчитаем сразу долю\n",
    "eu_sum = rating_eu['eu_sales'].sum()\n",
    "rating_eu['share, %'] = rating_eu['eu_sales']/eu_sum*100\n",
    "print(rating_eu)"
   ]
  },
  {
   "cell_type": "code",
   "execution_count": 37,
   "metadata": {},
   "outputs": [
    {
     "name": "stdout",
     "output_type": "stream",
     "text": [
      "           genre  jp_sales   share, %\n",
      "0   Role-Playing     31.16  33.472983\n",
      "1         Action     29.58  31.775701\n",
      "2       Fighting      6.37   6.842840\n",
      "3           Misc      5.61   6.026426\n",
      "4        Shooter      4.87   5.231496\n",
      "5      Adventure      3.60   3.867225\n",
      "6         Sports      3.26   3.501987\n",
      "7       Platform      2.69   2.889677\n",
      "8     Simulation      2.31   2.481470\n",
      "9         Racing      1.76   1.890643\n",
      "10      Strategy      0.95   1.020518\n",
      "11        Puzzle      0.93   0.999033\n"
     ]
    },
    {
     "data": {
      "image/png": "[encoded data removed]",
      "text/plain": [
       "<Figure size 720x576 with 1 Axes>"
      ]
     },
     "metadata": {
      "needs_background": "light"
     },
     "output_type": "display_data"
    }
   ],
   "source": [
    "rating_jp = actual_data.groupby('rating')['jp_sales'].sum()\n",
    "rating_jp.sort_values(ascending = False).plot(kind='bar', figsize=(10, 8), color='yellow', xlabel='Жанр', ylabel='Количество продаж', legend='jp_sales')\n",
    "plt.title('Влияние рейтинга ESRB на продажи в Японии')\n",
    "rating_jp = genre_jp.reset_index()\n",
    "rating_jp = genre_jp.sort_values(by='jp_sales', ascending=False).reset_index(drop=True)\n",
    "# посчитаем сразу долю\n",
    "jp_sum = rating_jp['jp_sales'].sum()\n",
    "rating_jp['share, %'] = rating_jp['jp_sales']/jp_sum*100\n",
    "print(rating_jp)"
   ]
  },
  {
   "cell_type": "markdown",
   "metadata": {},
   "source": [
    "Влияет ли рейтинг на продажи в каждом регионе:\n",
    "- Да влияет, в 2 регионах(NA и EU) самые большие продажи были среди игр с рейтингом M. Далее, у na и eu совпали E, T и E10+. У японии наоборот, сначала идет рейтинг T потом E и M, но в этом регионе нет сильного влияние возрастного рейтинга на покупаемость)"
   ]
  },
  {
   "cell_type": "markdown",
   "metadata": {},
   "source": [
    "Вывод к шагу 4:\n",
    "\n",
    "Портрет пользователя каждого региона:\n",
    "\n",
    "- Северная Америка(NA) - пользователь, чаще всего приобретающий игры, с возрастным рейтингом M, на платформе  PS4, и отдающий предпочтения жанрам Shooter, Action, Sports.\n",
    "\n",
    "- Европа(EU) - пользователь, чаще всего приобретающий игры, с возрастным рейтингом M, на платформе  PS4, и отдающий предпочтения жанрам Shooter, Action, Sports.\n",
    "\n",
    "- Япония(JP) - пользователь, чаще всего приобретающий игры, с возрастным рейтингом T, на платформе  DS, и отдающий предпочтения жанрам Role-Playing, Action, Fighting.\n",
    "\n",
    "Можно обратить внимание на очевидное сходство портретов пользователей из na и eu, и сильно отличающийся от них портрет пользователя из японии."
   ]
  },
  {
   "cell_type": "markdown",
   "metadata": {},
   "source": [
    "### Шаг 5. Проверка гипотезы"
   ]
  },
  {
   "cell_type": "markdown",
   "metadata": {},
   "source": [
    "Гипотезы сформированы противоположно друг другу, критерий выбирался для проверки гипотезы о равенстве среднего двух генеральных совокупностей по взятым из них выборкам: scipy.stats.ttest_ind(array1, array2, equal_var, alternative)"
   ]
  },
  {
   "cell_type": "markdown",
   "metadata": {},
   "source": [
    "#### Средние пользовательские рейтинги платформ Xbox One и PC одинаковые"
   ]
  },
  {
   "cell_type": "markdown",
   "metadata": {},
   "source": [
    "Нулевая гипотеза - Средние пользовательские рейтинги платформ Xbox One и PC одинаковые\n",
    "\n",
    "Альтернативная гипотеза - Средние пользовательские рейтинги платформ Xbox One и PC разные"
   ]
  },
  {
   "cell_type": "code",
   "execution_count": 38,
   "metadata": {},
   "outputs": [
    {
     "name": "stdout",
     "output_type": "stream",
     "text": [
      "p-значение: 0.10450507919348415\n",
      "Не получилось отвергнуть нулевую гипотезу\n"
     ]
    }
   ],
   "source": [
    "xbox_one = actual_data[actual_data['platform'] == 'XOne']\n",
    "pc = actual_data[actual_data['platform'] == 'PC']\n",
    "\n",
    "xbox_one = xbox_one[xbox_one['user_score'] <= 10]\n",
    "pc = pc[pc['user_score'] <= 10]\n",
    "\n",
    "# display(xbox_one)\n",
    "# display(pc)\n",
    "\n",
    "alpha = 0.05 \n",
    "\n",
    "results = st.ttest_ind(xbox_one['user_score'], pc['user_score'], alternative = 'two-sided')\n",
    "\n",
    "print('p-значение:', results.pvalue)\n",
    "\n",
    "if results.pvalue < alpha:\n",
    "    print('Отвергаем нулевую гипотезу')\n",
    "else:\n",
    "    print('Не получилось отвергнуть нулевую гипотезу') "
   ]
  },
  {
   "cell_type": "markdown",
   "metadata": {},
   "source": [
    "Нулевая гипотеза НЕ отвергнута, значит средние пользовательские рейтинги платформ Xbox One и PC не имеют статистически значимых отличий) \n",
    "ПРОВЕРИМ ЭТО >>> "
   ]
  },
  {
   "cell_type": "code",
   "execution_count": 39,
   "metadata": {},
   "outputs": [
    {
     "name": "stdout",
     "output_type": "stream",
     "text": [
      "Средний пользовательский рейтинг игр для платформы Xbox One:  6.594545454545456\n",
      "Средний пользовательский рейтинг игр для платформы PC:  6.298360655737705\n"
     ]
    }
   ],
   "source": [
    "print('Средний пользовательский рейтинг игр для платформы Xbox One: ',  xbox_one['user_score'].mean())\n",
    "print('Средний пользовательский рейтинг игр для платформы PC: ', pc['user_score'].mean())"
   ]
  },
  {
   "cell_type": "markdown",
   "metadata": {},
   "source": [
    "Ну так то все вроде совпало, вопросов нет)"
   ]
  },
  {
   "cell_type": "markdown",
   "metadata": {},
   "source": [
    "#### Средние пользовательские рейтинги жанров Action и Sports  разные"
   ]
  },
  {
   "cell_type": "markdown",
   "metadata": {},
   "source": [
    "Нулевая гипотеза - Средние пользовательские рейтинги жанров Action и Sports одинаковые\n",
    "\n",
    "Альтернативная гипотеза - Средние пользовательские рейтинги жанров Action и Sports разные"
   ]
  },
  {
   "cell_type": "code",
   "execution_count": 40,
   "metadata": {},
   "outputs": [
    {
     "name": "stdout",
     "output_type": "stream",
     "text": [
      "p-значение: 2.8711147985105864e-19\n",
      "Отвергаем нулевую гипотезу\n"
     ]
    }
   ],
   "source": [
    "action = actual_data[actual_data['genre'] == 'Action']\n",
    "sports = actual_data[actual_data['genre'] == 'Sports']\n",
    "\n",
    "action = action[action['user_score'] <= 10]\n",
    "sports = sports[sports['user_score'] <= 10]\n",
    "\n",
    "# display(action)\n",
    "# display(sports)\n",
    "\n",
    "alpha = 0.05 \n",
    "\n",
    "results = st.ttest_ind(action['user_score'], sports['user_score'], alternative = 'two-sided')\n",
    "\n",
    "print('p-значение:', results.pvalue)\n",
    "\n",
    "if results.pvalue < alpha:\n",
    "    print('Отвергаем нулевую гипотезу')\n",
    "else:\n",
    "    print('Не получилось отвергнуть нулевую гипотезу') "
   ]
  },
  {
   "cell_type": "markdown",
   "metadata": {},
   "source": [
    "Нулевая гипотеза отвергнута, значит можно говорить о том, что средние пользовательские рейтинги жанров Action и Sports разные,\n",
    "ПОВЕРЯЕМ >>>"
   ]
  },
  {
   "cell_type": "code",
   "execution_count": 41,
   "metadata": {},
   "outputs": [
    {
     "name": "stdout",
     "output_type": "stream",
     "text": [
      "Средний пользовательский рейтинг игр для жанра Action:  6.760606060606061\n",
      "Средний пользовательский рейтинг игр для платформы Sports:  5.2251968503937\n"
     ]
    }
   ],
   "source": [
    "print('Средний пользовательский рейтинг игр для жанра Action: ',  action['user_score'].mean())\n",
    "print('Средний пользовательский рейтинг игр для платформы Sports: ', sports['user_score'].mean())"
   ]
  },
  {
   "cell_type": "markdown",
   "metadata": {},
   "source": [
    "Снова вопросов нет, вроде мой кодик не врет))"
   ]
  },
  {
   "cell_type": "markdown",
   "metadata": {},
   "source": [
    "Вывод к шагу 5: \n",
    "\n",
    "- Итого, одна гипотеза была подтвердилась, другая была отвергнута. То есть, можно говорить о том, что средние пользовательские рейтинги платформ Xbox One и PC не имеют статистически значимых отличий, а средние пользовательские рейтинги жанров Action и Sports  разные."
   ]
  },
  {
   "cell_type": "markdown",
   "metadata": {},
   "source": [
    "### Шаг 6. Общий вывод"
   ]
  },
  {
   "cell_type": "markdown",
   "metadata": {},
   "source": [
    "- Первым шагом были выгружены данные и в них были обнаружены следующие проблемы: было некторое количество пропусков(Name, Year_of_Release, Genre, Critic_Score, User_Score, Rating), название столбцов не были приведены к нижнему регистру(почти все), типы данных не везде соответсвовали параметрам(User_Score и Year_of_Release)\n",
    "\n",
    "- Вторым шагом проводилась предобработка данных: приведены название столбцов к нижнему регистру, столбцы year_of_release и user_score преобразованы в подходящие типы(int и float соответственно), сократили количество пропусков(rating 6766 --> 0), посчитали суммарные продажи во всех регионах и записали их в отдельный столбец\n",
    "\n",
    "- Третим шагом был проведен исследовательский анализ данных, и выявили следующие закономерности:\n",
    "\n",
    "-период за который выпускалось большее количество игр 2008 - 2009 года. Определили что данные за 1980 по 1997 не важны для нашей конечной цели\n",
    "\n",
    "-топ-лидеров по продажам среди платформ 1 -'PS2', 2- 'X360', 3 -'PS3', 4 -'Wii', 5 - 'DS', 6- 'PS', 7 -'GBA', 8 -'PS4', 9 - 'PSP', 10 - 'PC'\n",
    "\n",
    "-характерное время за которое появляется платформа - 2-4 года. А исчезют они с рынка обычно в течении 5-9 лет\n",
    "\n",
    "-далее будут рассматриваться данные с 2014 года.\n",
    "\n",
    "-лидеры по продажам PS2(1255.77), X360(971.42), PS3(939.65), но их динамика стремительно падает, поэтому считаться потенциально популярными платформами будут  PS4, PC и XOne.\n",
    "\n",
    "- самой непопулярной платформой за актуальный период становиться PSP', а лидерами продаж становяться Wii, PS4 и XOne.\n",
    "\n",
    "- оценки пользователей не часто, но могут влиять на продажи игры, а оценки критиков оказывают влияние на спрос игр в большинстве случаев. Поэтому все таки стоит обращать внимание на данные критерии при нахождении потенциально популярного продукта.\n",
    "\n",
    "-В ТОПЕ - 3 самых прибыльных жанров оказываются 'Shooter', 'Sports', 'Platform'. Самые низкие продажи у 'Puzzle', 'Adventure'\n",
    "\n",
    "\n",
    "- Четвертый шаг - составление портрета пользователя для каждого региона: \n",
    "\n",
    "-Северная Америка(NA) - пользователь, чаще всего приобретающий игры, с возрастным рейтингом M, на платформе PS4, и отдающий предпочтения жанрам Shooter, Action, Sports.\n",
    "\n",
    "-Европа(EU) - пользователь, чаще всего приобретающий игры, с возрастным рейтингом M, на платформе PS4, и отдающий предпочтения жанрам Shooter, Action, Sports.\n",
    "\n",
    "-Япония(JP) - пользователь, чаще всего приобретающий игры, с возрастным рейтингом T, на платформе DS, и отдающий предпочтения жанрам Role-Playing, Action, Fighting.\n",
    "\n",
    "- Пятый шаг - проверялись две гипотезы, после их проверки были сделаны выводы --> средние пользовательские рейтинги платформ Xbox One и PC не имеют статистически значимых отличий, а средние пользовательские рейтинги жанров Action и Sports  разные..\n",
    "\n",
    "Исходя из проделанной работы, следует, что при нахождении потенциально популярного продукта, нужно использовать свежие данные, так как рынок видеоигр быстрорастущий и постоянно меняющий тенденции. Также нужно делать опору на платформы для игр нового поколения, отслеживая успешность их предыдущих моделей(например как X360 и XOne или PS4 и PS3), и иногда ссылаться на оценки пользователей и критиков видеоигр. Также подбирать продукт для каждого из регионов, следуя их интересам, потому что у разных регионов свои потребности в мире игровой индустрии))). Стоит обратить внимание какие игровые жанры преобладают последние годы и тоже делать на них опору. И не забывать про ПК-боярей, которые создают непрерывный спрос на игры уже очень долгое время."
   ]
  }
 ],
 "metadata": {
  "ExecuteTimeLog": [
   {
    "duration": 1307,
    "start_time": "2024-04-23T18:24:00.422Z"
   },
   {
    "duration": 130,
    "start_time": "2024-04-23T18:41:16.231Z"
   },
   {
    "duration": 78,
    "start_time": "2024-04-23T18:48:47.094Z"
   },
   {
    "duration": 567,
    "start_time": "2024-04-23T18:49:31.495Z"
   },
   {
    "duration": 563,
    "start_time": "2024-04-23T18:54:51.368Z"
   },
   {
    "duration": 525,
    "start_time": "2024-04-23T18:57:35.895Z"
   },
   {
    "duration": 705,
    "start_time": "2024-04-23T19:01:40.616Z"
   },
   {
    "duration": 519,
    "start_time": "2024-04-23T19:03:21.101Z"
   },
   {
    "duration": 560,
    "start_time": "2024-04-23T19:05:30.931Z"
   },
   {
    "duration": 794,
    "start_time": "2024-04-23T19:06:06.856Z"
   },
   {
    "duration": 670,
    "start_time": "2024-04-23T19:06:51.000Z"
   },
   {
    "duration": 537,
    "start_time": "2024-04-23T19:07:40.344Z"
   },
   {
    "duration": 513,
    "start_time": "2024-04-23T19:12:27.129Z"
   },
   {
    "duration": 20,
    "start_time": "2024-04-23T19:21:44.848Z"
   },
   {
    "duration": 11,
    "start_time": "2024-04-23T19:33:13.168Z"
   },
   {
    "duration": 286,
    "start_time": "2024-04-23T19:33:49.416Z"
   },
   {
    "duration": 141,
    "start_time": "2024-04-23T19:34:02.448Z"
   },
   {
    "duration": 17,
    "start_time": "2024-04-23T19:34:17.352Z"
   },
   {
    "duration": 23,
    "start_time": "2024-04-23T19:34:54.984Z"
   },
   {
    "duration": 210,
    "start_time": "2024-04-23T19:35:16.655Z"
   },
   {
    "duration": 12,
    "start_time": "2024-04-23T19:39:10.141Z"
   },
   {
    "duration": 23,
    "start_time": "2024-04-23T19:51:34.169Z"
   },
   {
    "duration": 12,
    "start_time": "2024-04-23T20:01:42.049Z"
   },
   {
    "duration": 5,
    "start_time": "2024-04-23T20:01:45.752Z"
   },
   {
    "duration": 13,
    "start_time": "2024-04-23T20:01:49.593Z"
   },
   {
    "duration": 8,
    "start_time": "2024-04-23T20:01:56.153Z"
   },
   {
    "duration": 1145,
    "start_time": "2024-04-23T20:04:52.369Z"
   },
   {
    "duration": 597,
    "start_time": "2024-04-23T20:04:53.516Z"
   },
   {
    "duration": 21,
    "start_time": "2024-04-23T20:04:54.114Z"
   },
   {
    "duration": 112,
    "start_time": "2024-04-23T20:04:54.136Z"
   },
   {
    "duration": 0,
    "start_time": "2024-04-23T20:04:54.250Z"
   },
   {
    "duration": 0,
    "start_time": "2024-04-23T20:04:54.251Z"
   },
   {
    "duration": 0,
    "start_time": "2024-04-23T20:04:54.252Z"
   },
   {
    "duration": 4,
    "start_time": "2024-04-23T20:06:12.821Z"
   },
   {
    "duration": 5,
    "start_time": "2024-04-23T20:06:15.968Z"
   },
   {
    "duration": 16,
    "start_time": "2024-04-23T20:06:19.160Z"
   },
   {
    "duration": 7,
    "start_time": "2024-04-23T20:06:44.258Z"
   },
   {
    "duration": 13,
    "start_time": "2024-04-23T20:09:00.410Z"
   },
   {
    "duration": 10,
    "start_time": "2024-04-23T20:17:29.753Z"
   },
   {
    "duration": 7,
    "start_time": "2024-04-23T20:22:42.216Z"
   },
   {
    "duration": 5,
    "start_time": "2024-04-23T20:23:06.281Z"
   },
   {
    "duration": 5,
    "start_time": "2024-04-23T20:23:17.096Z"
   },
   {
    "duration": 5,
    "start_time": "2024-04-23T20:23:23.497Z"
   },
   {
    "duration": 4,
    "start_time": "2024-04-23T20:23:29.257Z"
   },
   {
    "duration": 6,
    "start_time": "2024-04-23T20:23:56.065Z"
   },
   {
    "duration": 4,
    "start_time": "2024-04-23T20:24:13.577Z"
   },
   {
    "duration": 5,
    "start_time": "2024-04-23T20:24:23.497Z"
   },
   {
    "duration": 7,
    "start_time": "2024-04-23T20:24:54.417Z"
   },
   {
    "duration": 65,
    "start_time": "2024-04-23T20:25:06.178Z"
   },
   {
    "duration": 10,
    "start_time": "2024-04-23T20:25:12.002Z"
   },
   {
    "duration": 7,
    "start_time": "2024-04-23T20:25:17.753Z"
   },
   {
    "duration": 7,
    "start_time": "2024-04-23T20:25:27.225Z"
   },
   {
    "duration": 1099,
    "start_time": "2024-04-24T07:02:24.511Z"
   },
   {
    "duration": 504,
    "start_time": "2024-04-24T07:02:26.326Z"
   },
   {
    "duration": 16,
    "start_time": "2024-04-24T07:02:30.214Z"
   },
   {
    "duration": 112,
    "start_time": "2024-04-24T07:02:32.359Z"
   },
   {
    "duration": 12,
    "start_time": "2024-04-24T07:28:46.503Z"
   },
   {
    "duration": 932,
    "start_time": "2024-04-24T07:33:12.347Z"
   },
   {
    "duration": 458,
    "start_time": "2024-04-24T07:33:13.280Z"
   },
   {
    "duration": 18,
    "start_time": "2024-04-24T07:33:13.740Z"
   },
   {
    "duration": 4,
    "start_time": "2024-04-24T07:33:13.759Z"
   },
   {
    "duration": 5,
    "start_time": "2024-04-24T07:33:13.765Z"
   },
   {
    "duration": 37,
    "start_time": "2024-04-24T07:33:13.772Z"
   },
   {
    "duration": 8,
    "start_time": "2024-04-24T07:33:13.810Z"
   },
   {
    "duration": 8,
    "start_time": "2024-04-24T07:33:13.820Z"
   },
   {
    "duration": 17,
    "start_time": "2024-04-24T07:33:13.829Z"
   },
   {
    "duration": 84,
    "start_time": "2024-04-24T07:45:39.315Z"
   },
   {
    "duration": 10,
    "start_time": "2024-04-24T07:45:52.841Z"
   },
   {
    "duration": 6,
    "start_time": "2024-04-24T07:48:55.236Z"
   },
   {
    "duration": 6,
    "start_time": "2024-04-24T07:49:24.755Z"
   },
   {
    "duration": 75,
    "start_time": "2024-04-24T08:17:37.018Z"
   },
   {
    "duration": 6,
    "start_time": "2024-04-24T08:18:18.189Z"
   },
   {
    "duration": 6,
    "start_time": "2024-04-24T08:20:16.717Z"
   },
   {
    "duration": 6,
    "start_time": "2024-04-24T08:20:25.781Z"
   },
   {
    "duration": 8,
    "start_time": "2024-04-24T08:21:01.821Z"
   },
   {
    "duration": 12,
    "start_time": "2024-04-24T08:21:42.963Z"
   },
   {
    "duration": 17,
    "start_time": "2024-04-24T08:22:36.053Z"
   },
   {
    "duration": 4,
    "start_time": "2024-04-24T08:31:04.500Z"
   },
   {
    "duration": 7,
    "start_time": "2024-04-24T08:31:09.165Z"
   },
   {
    "duration": 20,
    "start_time": "2024-04-24T08:34:22.756Z"
   },
   {
    "duration": 81,
    "start_time": "2024-04-24T08:34:35.655Z"
   },
   {
    "duration": 1025,
    "start_time": "2024-04-24T08:37:29.481Z"
   },
   {
    "duration": 446,
    "start_time": "2024-04-24T08:37:31.698Z"
   },
   {
    "duration": 18,
    "start_time": "2024-04-24T08:37:36.122Z"
   },
   {
    "duration": 4,
    "start_time": "2024-04-24T08:37:38.922Z"
   },
   {
    "duration": 10,
    "start_time": "2024-04-24T08:37:45.954Z"
   },
   {
    "duration": 5,
    "start_time": "2024-04-24T08:37:49.538Z"
   },
   {
    "duration": 8,
    "start_time": "2024-04-24T08:37:53.169Z"
   },
   {
    "duration": 144,
    "start_time": "2024-04-24T08:37:56.170Z"
   },
   {
    "duration": 4,
    "start_time": "2024-04-24T08:40:26.193Z"
   },
   {
    "duration": 45,
    "start_time": "2024-04-24T08:49:22.720Z"
   },
   {
    "duration": 982,
    "start_time": "2024-04-24T08:50:21.126Z"
   },
   {
    "duration": 445,
    "start_time": "2024-04-24T08:50:22.109Z"
   },
   {
    "duration": 16,
    "start_time": "2024-04-24T08:50:22.556Z"
   },
   {
    "duration": 4,
    "start_time": "2024-04-24T08:50:22.573Z"
   },
   {
    "duration": 5,
    "start_time": "2024-04-24T08:50:22.579Z"
   },
   {
    "duration": 23,
    "start_time": "2024-04-24T08:50:22.585Z"
   },
   {
    "duration": 5,
    "start_time": "2024-04-24T08:50:22.609Z"
   },
   {
    "duration": 13,
    "start_time": "2024-04-24T08:50:22.615Z"
   },
   {
    "duration": 272,
    "start_time": "2024-04-24T08:50:22.629Z"
   },
   {
    "duration": 147,
    "start_time": "2024-04-24T08:59:07.470Z"
   },
   {
    "duration": 975,
    "start_time": "2024-04-24T09:02:26.728Z"
   },
   {
    "duration": 457,
    "start_time": "2024-04-24T09:02:27.705Z"
   },
   {
    "duration": 17,
    "start_time": "2024-04-24T09:02:28.163Z"
   },
   {
    "duration": 19,
    "start_time": "2024-04-24T09:02:28.182Z"
   },
   {
    "duration": 23,
    "start_time": "2024-04-24T09:02:28.202Z"
   },
   {
    "duration": 20,
    "start_time": "2024-04-24T09:02:28.227Z"
   },
   {
    "duration": 6,
    "start_time": "2024-04-24T09:02:28.248Z"
   },
   {
    "duration": 23,
    "start_time": "2024-04-24T09:02:28.256Z"
   },
   {
    "duration": 303,
    "start_time": "2024-04-24T09:02:28.281Z"
   },
   {
    "duration": 971,
    "start_time": "2024-04-24T09:23:02.639Z"
   },
   {
    "duration": 443,
    "start_time": "2024-04-24T09:27:53.704Z"
   },
   {
    "duration": 451,
    "start_time": "2024-04-24T09:28:14.593Z"
   },
   {
    "duration": 503,
    "start_time": "2024-04-24T09:29:00.409Z"
   },
   {
    "duration": 980,
    "start_time": "2024-04-24T09:29:55.986Z"
   },
   {
    "duration": 1090,
    "start_time": "2024-04-24T09:30:05.857Z"
   },
   {
    "duration": 948,
    "start_time": "2024-04-24T09:30:22.144Z"
   },
   {
    "duration": 470,
    "start_time": "2024-04-24T09:30:23.094Z"
   },
   {
    "duration": 17,
    "start_time": "2024-04-24T09:30:23.565Z"
   },
   {
    "duration": 22,
    "start_time": "2024-04-24T09:30:23.584Z"
   },
   {
    "duration": 25,
    "start_time": "2024-04-24T09:30:23.607Z"
   },
   {
    "duration": 25,
    "start_time": "2024-04-24T09:30:23.633Z"
   },
   {
    "duration": 39,
    "start_time": "2024-04-24T09:30:23.659Z"
   },
   {
    "duration": 18,
    "start_time": "2024-04-24T09:30:23.699Z"
   },
   {
    "duration": 280,
    "start_time": "2024-04-24T09:30:23.719Z"
   },
   {
    "duration": 107,
    "start_time": "2024-04-24T09:30:24.002Z"
   },
   {
    "duration": 8,
    "start_time": "2024-04-24T09:33:01.578Z"
   },
   {
    "duration": 8,
    "start_time": "2024-04-24T09:34:09.962Z"
   },
   {
    "duration": 103,
    "start_time": "2024-04-24T09:47:03.247Z"
   },
   {
    "duration": 19,
    "start_time": "2024-04-24T09:47:12.727Z"
   },
   {
    "duration": 1115,
    "start_time": "2024-04-24T09:48:20.899Z"
   },
   {
    "duration": 512,
    "start_time": "2024-04-24T09:48:22.016Z"
   },
   {
    "duration": 17,
    "start_time": "2024-04-24T09:48:22.529Z"
   },
   {
    "duration": 7,
    "start_time": "2024-04-24T09:48:22.549Z"
   },
   {
    "duration": 5,
    "start_time": "2024-04-24T09:48:22.557Z"
   },
   {
    "duration": 16,
    "start_time": "2024-04-24T09:48:22.563Z"
   },
   {
    "duration": 25,
    "start_time": "2024-04-24T09:48:22.580Z"
   },
   {
    "duration": 7,
    "start_time": "2024-04-24T09:48:22.606Z"
   },
   {
    "duration": 290,
    "start_time": "2024-04-24T09:48:22.614Z"
   },
   {
    "duration": 8,
    "start_time": "2024-04-24T09:48:22.906Z"
   },
   {
    "duration": 19,
    "start_time": "2024-04-24T09:48:22.915Z"
   },
   {
    "duration": 49,
    "start_time": "2024-04-24T16:36:58.119Z"
   },
   {
    "duration": 1336,
    "start_time": "2024-04-24T16:37:20.500Z"
   },
   {
    "duration": 720,
    "start_time": "2024-04-24T16:37:21.838Z"
   },
   {
    "duration": 23,
    "start_time": "2024-04-24T16:37:22.560Z"
   },
   {
    "duration": 26,
    "start_time": "2024-04-24T16:37:22.586Z"
   },
   {
    "duration": 31,
    "start_time": "2024-04-24T16:37:22.614Z"
   },
   {
    "duration": 37,
    "start_time": "2024-04-24T16:37:22.646Z"
   },
   {
    "duration": 8,
    "start_time": "2024-04-24T16:37:22.685Z"
   },
   {
    "duration": 20,
    "start_time": "2024-04-24T16:37:22.694Z"
   },
   {
    "duration": 408,
    "start_time": "2024-04-24T16:37:22.715Z"
   },
   {
    "duration": 12,
    "start_time": "2024-04-24T16:37:23.125Z"
   },
   {
    "duration": 38,
    "start_time": "2024-04-24T16:37:23.138Z"
   },
   {
    "duration": 17,
    "start_time": "2024-04-24T16:37:23.178Z"
   },
   {
    "duration": 9,
    "start_time": "2024-04-24T16:37:51.611Z"
   },
   {
    "duration": 18,
    "start_time": "2024-04-24T16:38:59.204Z"
   },
   {
    "duration": 755,
    "start_time": "2024-04-24T16:43:59.028Z"
   },
   {
    "duration": 1160,
    "start_time": "2024-04-24T16:47:37.062Z"
   },
   {
    "duration": 594,
    "start_time": "2024-04-24T16:47:38.224Z"
   },
   {
    "duration": 22,
    "start_time": "2024-04-24T16:47:38.820Z"
   },
   {
    "duration": 3,
    "start_time": "2024-04-24T16:47:38.858Z"
   },
   {
    "duration": 13,
    "start_time": "2024-04-24T16:47:38.863Z"
   },
   {
    "duration": 21,
    "start_time": "2024-04-24T16:47:38.878Z"
   },
   {
    "duration": 9,
    "start_time": "2024-04-24T16:47:38.901Z"
   },
   {
    "duration": 11,
    "start_time": "2024-04-24T16:47:38.911Z"
   },
   {
    "duration": 422,
    "start_time": "2024-04-24T16:47:38.923Z"
   },
   {
    "duration": 16,
    "start_time": "2024-04-24T16:47:39.347Z"
   },
   {
    "duration": 26,
    "start_time": "2024-04-24T16:47:39.364Z"
   },
   {
    "duration": 226,
    "start_time": "2024-04-24T16:47:39.391Z"
   },
   {
    "duration": 1151,
    "start_time": "2024-04-24T16:50:46.484Z"
   },
   {
    "duration": 631,
    "start_time": "2024-04-24T16:50:47.637Z"
   },
   {
    "duration": 22,
    "start_time": "2024-04-24T16:50:48.269Z"
   },
   {
    "duration": 19,
    "start_time": "2024-04-24T16:50:48.293Z"
   },
   {
    "duration": 18,
    "start_time": "2024-04-24T16:50:48.314Z"
   },
   {
    "duration": 7,
    "start_time": "2024-04-24T16:50:48.334Z"
   },
   {
    "duration": 19,
    "start_time": "2024-04-24T16:50:48.343Z"
   },
   {
    "duration": 551,
    "start_time": "2024-04-24T16:50:48.363Z"
   },
   {
    "duration": 0,
    "start_time": "2024-04-24T16:50:48.916Z"
   },
   {
    "duration": 0,
    "start_time": "2024-04-24T16:50:48.917Z"
   },
   {
    "duration": 0,
    "start_time": "2024-04-24T16:50:48.918Z"
   },
   {
    "duration": 254,
    "start_time": "2024-04-24T16:54:51.292Z"
   },
   {
    "duration": 254,
    "start_time": "2024-04-24T16:58:34.358Z"
   },
   {
    "duration": 619,
    "start_time": "2024-04-24T16:58:47.410Z"
   },
   {
    "duration": 1234,
    "start_time": "2024-04-24T17:02:29.967Z"
   },
   {
    "duration": 622,
    "start_time": "2024-04-24T17:02:31.203Z"
   },
   {
    "duration": 35,
    "start_time": "2024-04-24T17:02:31.827Z"
   },
   {
    "duration": 7,
    "start_time": "2024-04-24T17:02:31.870Z"
   },
   {
    "duration": 41,
    "start_time": "2024-04-24T17:02:31.878Z"
   },
   {
    "duration": 55,
    "start_time": "2024-04-24T17:02:31.921Z"
   },
   {
    "duration": 99,
    "start_time": "2024-04-24T17:02:31.979Z"
   },
   {
    "duration": 448,
    "start_time": "2024-04-24T17:02:32.080Z"
   },
   {
    "duration": 11,
    "start_time": "2024-04-24T17:02:32.529Z"
   },
   {
    "duration": 38,
    "start_time": "2024-04-24T17:02:32.543Z"
   },
   {
    "duration": 731,
    "start_time": "2024-04-24T17:02:32.583Z"
   },
   {
    "duration": 156,
    "start_time": "2024-04-24T17:03:16.784Z"
   },
   {
    "duration": 1227,
    "start_time": "2024-04-24T17:12:20.933Z"
   },
   {
    "duration": 630,
    "start_time": "2024-04-24T17:12:22.164Z"
   },
   {
    "duration": 33,
    "start_time": "2024-04-24T17:12:22.796Z"
   },
   {
    "duration": 26,
    "start_time": "2024-04-24T17:12:22.831Z"
   },
   {
    "duration": 39,
    "start_time": "2024-04-24T17:12:22.859Z"
   },
   {
    "duration": 21,
    "start_time": "2024-04-24T17:12:22.900Z"
   },
   {
    "duration": 20,
    "start_time": "2024-04-24T17:12:22.923Z"
   },
   {
    "duration": 429,
    "start_time": "2024-04-24T17:12:22.945Z"
   },
   {
    "duration": 11,
    "start_time": "2024-04-24T17:12:23.376Z"
   },
   {
    "duration": 30,
    "start_time": "2024-04-24T17:12:23.389Z"
   },
   {
    "duration": 201,
    "start_time": "2024-04-24T17:12:23.421Z"
   },
   {
    "duration": 219,
    "start_time": "2024-04-24T17:15:40.783Z"
   },
   {
    "duration": 206,
    "start_time": "2024-04-24T17:16:06.876Z"
   },
   {
    "duration": 209,
    "start_time": "2024-04-24T17:16:15.202Z"
   },
   {
    "duration": 186,
    "start_time": "2024-04-24T17:16:32.689Z"
   },
   {
    "duration": 5,
    "start_time": "2024-04-24T17:19:06.230Z"
   },
   {
    "duration": 267,
    "start_time": "2024-04-24T17:19:12.617Z"
   },
   {
    "duration": 155,
    "start_time": "2024-04-24T17:19:29.577Z"
   },
   {
    "duration": 182,
    "start_time": "2024-04-24T17:19:38.845Z"
   },
   {
    "duration": 113,
    "start_time": "2024-04-24T17:20:09.324Z"
   },
   {
    "duration": 1212,
    "start_time": "2024-04-24T17:25:57.341Z"
   },
   {
    "duration": 622,
    "start_time": "2024-04-24T17:25:58.555Z"
   },
   {
    "duration": 22,
    "start_time": "2024-04-24T17:25:59.178Z"
   },
   {
    "duration": 17,
    "start_time": "2024-04-24T17:25:59.202Z"
   },
   {
    "duration": 24,
    "start_time": "2024-04-24T17:25:59.221Z"
   },
   {
    "duration": 17,
    "start_time": "2024-04-24T17:25:59.247Z"
   },
   {
    "duration": 15,
    "start_time": "2024-04-24T17:25:59.268Z"
   },
   {
    "duration": 464,
    "start_time": "2024-04-24T17:25:59.284Z"
   },
   {
    "duration": 24,
    "start_time": "2024-04-24T17:25:59.749Z"
   },
   {
    "duration": 32,
    "start_time": "2024-04-24T17:25:59.776Z"
   },
   {
    "duration": 128,
    "start_time": "2024-04-24T17:25:59.810Z"
   },
   {
    "duration": 19,
    "start_time": "2024-04-24T17:26:16.114Z"
   },
   {
    "duration": 145,
    "start_time": "2024-04-24T17:26:26.543Z"
   },
   {
    "duration": 177,
    "start_time": "2024-04-24T17:26:41.662Z"
   },
   {
    "duration": 1219,
    "start_time": "2024-04-24T17:30:39.578Z"
   },
   {
    "duration": 688,
    "start_time": "2024-04-24T17:30:40.799Z"
   },
   {
    "duration": 30,
    "start_time": "2024-04-24T17:30:41.488Z"
   },
   {
    "duration": 5,
    "start_time": "2024-04-24T17:30:41.521Z"
   },
   {
    "duration": 42,
    "start_time": "2024-04-24T17:30:41.527Z"
   },
   {
    "duration": 9,
    "start_time": "2024-04-24T17:30:41.571Z"
   },
   {
    "duration": 15,
    "start_time": "2024-04-24T17:30:41.583Z"
   },
   {
    "duration": 481,
    "start_time": "2024-04-24T17:30:41.600Z"
   },
   {
    "duration": 14,
    "start_time": "2024-04-24T17:30:42.084Z"
   },
   {
    "duration": 40,
    "start_time": "2024-04-24T17:30:42.101Z"
   },
   {
    "duration": 221,
    "start_time": "2024-04-24T17:30:42.143Z"
   },
   {
    "duration": 5,
    "start_time": "2024-04-24T17:33:59.427Z"
   },
   {
    "duration": 10,
    "start_time": "2024-04-24T17:34:05.214Z"
   },
   {
    "duration": 128,
    "start_time": "2024-04-24T17:36:16.563Z"
   },
   {
    "duration": 358,
    "start_time": "2024-04-24T17:38:26.667Z"
   },
   {
    "duration": 416,
    "start_time": "2024-04-24T17:38:37.163Z"
   },
   {
    "duration": 389,
    "start_time": "2024-04-24T17:39:03.250Z"
   },
   {
    "duration": 490,
    "start_time": "2024-04-24T17:39:11.120Z"
   },
   {
    "duration": 341,
    "start_time": "2024-04-24T17:40:29.585Z"
   },
   {
    "duration": 1148,
    "start_time": "2024-04-24T17:41:34.338Z"
   },
   {
    "duration": 680,
    "start_time": "2024-04-24T17:41:35.491Z"
   },
   {
    "duration": 27,
    "start_time": "2024-04-24T17:41:36.177Z"
   },
   {
    "duration": 6,
    "start_time": "2024-04-24T17:41:36.205Z"
   },
   {
    "duration": 24,
    "start_time": "2024-04-24T17:41:36.213Z"
   },
   {
    "duration": 8,
    "start_time": "2024-04-24T17:41:36.239Z"
   },
   {
    "duration": 29,
    "start_time": "2024-04-24T17:41:36.249Z"
   },
   {
    "duration": 441,
    "start_time": "2024-04-24T17:41:36.280Z"
   },
   {
    "duration": 17,
    "start_time": "2024-04-24T17:41:36.723Z"
   },
   {
    "duration": 49,
    "start_time": "2024-04-24T17:41:36.741Z"
   },
   {
    "duration": 398,
    "start_time": "2024-04-24T17:41:36.792Z"
   },
   {
    "duration": 8,
    "start_time": "2024-04-24T18:04:10.705Z"
   },
   {
    "duration": 10,
    "start_time": "2024-04-24T18:06:48.900Z"
   },
   {
    "duration": 104,
    "start_time": "2024-04-24T18:07:40.160Z"
   },
   {
    "duration": 9,
    "start_time": "2024-04-24T18:07:44.930Z"
   },
   {
    "duration": 8,
    "start_time": "2024-04-24T18:08:00.826Z"
   },
   {
    "duration": 13,
    "start_time": "2024-04-24T18:10:35.492Z"
   },
   {
    "duration": 12,
    "start_time": "2024-04-24T18:12:32.767Z"
   },
   {
    "duration": 13,
    "start_time": "2024-04-24T18:14:09.318Z"
   },
   {
    "duration": 10,
    "start_time": "2024-04-24T18:14:41.557Z"
   },
   {
    "duration": 76,
    "start_time": "2024-04-24T18:15:41.707Z"
   },
   {
    "duration": 12,
    "start_time": "2024-04-24T18:15:47.643Z"
   },
   {
    "duration": 8,
    "start_time": "2024-04-24T18:16:04.524Z"
   },
   {
    "duration": 10,
    "start_time": "2024-04-24T18:16:13.452Z"
   },
   {
    "duration": 10,
    "start_time": "2024-04-24T18:16:49.741Z"
   },
   {
    "duration": 10,
    "start_time": "2024-04-24T18:19:09.511Z"
   },
   {
    "duration": 144,
    "start_time": "2024-04-24T18:26:52.638Z"
   },
   {
    "duration": 343,
    "start_time": "2024-04-24T18:27:55.893Z"
   },
   {
    "duration": 390,
    "start_time": "2024-04-24T18:28:12.214Z"
   },
   {
    "duration": 264,
    "start_time": "2024-04-24T18:28:31.580Z"
   },
   {
    "duration": 10,
    "start_time": "2024-04-24T18:29:10.911Z"
   },
   {
    "duration": 252,
    "start_time": "2024-04-24T18:29:22.292Z"
   },
   {
    "duration": 279,
    "start_time": "2024-04-24T18:29:58.972Z"
   },
   {
    "duration": 11,
    "start_time": "2024-04-24T18:33:18.331Z"
   },
   {
    "duration": 295,
    "start_time": "2024-04-24T18:39:58.147Z"
   },
   {
    "duration": 16,
    "start_time": "2024-04-24T18:41:09.312Z"
   },
   {
    "duration": 293,
    "start_time": "2024-04-24T18:42:04.308Z"
   },
   {
    "duration": 384,
    "start_time": "2024-04-24T18:42:43.230Z"
   },
   {
    "duration": 282,
    "start_time": "2024-04-24T18:43:41.547Z"
   },
   {
    "duration": 283,
    "start_time": "2024-04-24T18:43:49.393Z"
   },
   {
    "duration": 264,
    "start_time": "2024-04-24T18:44:13.786Z"
   },
   {
    "duration": 22,
    "start_time": "2024-04-24T18:44:24.138Z"
   },
   {
    "duration": 10,
    "start_time": "2024-04-24T18:44:30.635Z"
   },
   {
    "duration": 1200,
    "start_time": "2024-04-24T18:53:43.354Z"
   },
   {
    "duration": 1187,
    "start_time": "2024-04-24T18:53:50.621Z"
   },
   {
    "duration": 8,
    "start_time": "2024-04-24T19:07:21.819Z"
   },
   {
    "duration": 737,
    "start_time": "2024-04-24T19:08:06.258Z"
   },
   {
    "duration": 139,
    "start_time": "2024-04-24T19:08:32.387Z"
   },
   {
    "duration": 8,
    "start_time": "2024-04-24T19:13:11.420Z"
   },
   {
    "duration": 1124,
    "start_time": "2024-04-24T19:16:41.451Z"
   },
   {
    "duration": 10,
    "start_time": "2024-04-24T19:18:39.885Z"
   },
   {
    "duration": 23,
    "start_time": "2024-04-24T19:19:53.236Z"
   },
   {
    "duration": 9,
    "start_time": "2024-04-24T19:20:18.338Z"
   },
   {
    "duration": 1208,
    "start_time": "2024-04-24T19:20:38.548Z"
   },
   {
    "duration": 642,
    "start_time": "2024-04-24T19:20:39.760Z"
   },
   {
    "duration": 33,
    "start_time": "2024-04-24T19:20:40.404Z"
   },
   {
    "duration": 21,
    "start_time": "2024-04-24T19:20:40.440Z"
   },
   {
    "duration": 15,
    "start_time": "2024-04-24T19:20:40.463Z"
   },
   {
    "duration": 49,
    "start_time": "2024-04-24T19:20:40.480Z"
   },
   {
    "duration": 28,
    "start_time": "2024-04-24T19:20:40.531Z"
   },
   {
    "duration": 431,
    "start_time": "2024-04-24T19:20:40.560Z"
   },
   {
    "duration": 14,
    "start_time": "2024-04-24T19:20:40.992Z"
   },
   {
    "duration": 27,
    "start_time": "2024-04-24T19:20:41.008Z"
   },
   {
    "duration": 396,
    "start_time": "2024-04-24T19:20:41.036Z"
   },
   {
    "duration": 11,
    "start_time": "2024-04-24T19:20:41.434Z"
   },
   {
    "duration": 36,
    "start_time": "2024-04-24T19:20:41.459Z"
   },
   {
    "duration": 109,
    "start_time": "2024-04-24T19:21:03.761Z"
   },
   {
    "duration": 71,
    "start_time": "2024-04-24T19:24:52.272Z"
   },
   {
    "duration": 29,
    "start_time": "2024-04-24T19:26:19.858Z"
   },
   {
    "duration": 173,
    "start_time": "2024-04-24T19:35:09.355Z"
   },
   {
    "duration": 308,
    "start_time": "2024-04-24T19:37:08.676Z"
   },
   {
    "duration": 314,
    "start_time": "2024-04-24T19:37:33.266Z"
   },
   {
    "duration": 20,
    "start_time": "2024-04-24T19:37:53.755Z"
   },
   {
    "duration": 11,
    "start_time": "2024-04-24T19:38:01.474Z"
   },
   {
    "duration": 1200,
    "start_time": "2024-04-24T19:38:14.443Z"
   },
   {
    "duration": 565,
    "start_time": "2024-04-24T19:38:15.645Z"
   },
   {
    "duration": 20,
    "start_time": "2024-04-24T19:38:16.212Z"
   },
   {
    "duration": 16,
    "start_time": "2024-04-24T19:38:16.234Z"
   },
   {
    "duration": 25,
    "start_time": "2024-04-24T19:38:16.252Z"
   },
   {
    "duration": 7,
    "start_time": "2024-04-24T19:38:16.278Z"
   },
   {
    "duration": 24,
    "start_time": "2024-04-24T19:38:16.286Z"
   },
   {
    "duration": 396,
    "start_time": "2024-04-24T19:38:16.312Z"
   },
   {
    "duration": 12,
    "start_time": "2024-04-24T19:38:16.710Z"
   },
   {
    "duration": 42,
    "start_time": "2024-04-24T19:38:16.725Z"
   },
   {
    "duration": 341,
    "start_time": "2024-04-24T19:38:16.769Z"
   },
   {
    "duration": 11,
    "start_time": "2024-04-24T19:38:17.112Z"
   },
   {
    "duration": 49,
    "start_time": "2024-04-24T19:38:17.125Z"
   },
   {
    "duration": 100,
    "start_time": "2024-04-24T19:40:55.763Z"
   },
   {
    "duration": 2047,
    "start_time": "2024-04-24T19:41:11.819Z"
   },
   {
    "duration": 2115,
    "start_time": "2024-04-24T19:41:42.318Z"
   },
   {
    "duration": 2097,
    "start_time": "2024-04-24T19:42:15.770Z"
   },
   {
    "duration": 2038,
    "start_time": "2024-04-24T19:42:27.523Z"
   },
   {
    "duration": 104,
    "start_time": "2024-04-24T19:43:33.371Z"
   },
   {
    "duration": 73,
    "start_time": "2024-04-24T19:43:41.387Z"
   },
   {
    "duration": 1853,
    "start_time": "2024-04-24T19:44:00.652Z"
   },
   {
    "duration": 2066,
    "start_time": "2024-04-24T19:44:13.180Z"
   },
   {
    "duration": 18,
    "start_time": "2024-04-24T20:24:31.254Z"
   },
   {
    "duration": 25,
    "start_time": "2024-04-24T20:24:35.909Z"
   },
   {
    "duration": 23,
    "start_time": "2024-04-24T20:36:13.149Z"
   },
   {
    "duration": 6,
    "start_time": "2024-04-24T20:58:18.503Z"
   },
   {
    "duration": 4,
    "start_time": "2024-04-24T20:58:26.742Z"
   },
   {
    "duration": 11,
    "start_time": "2024-04-24T21:00:01.703Z"
   },
   {
    "duration": 10,
    "start_time": "2024-04-24T21:00:24.343Z"
   },
   {
    "duration": 9,
    "start_time": "2024-04-24T21:01:22.663Z"
   },
   {
    "duration": 1122,
    "start_time": "2024-04-24T21:01:29.204Z"
   },
   {
    "duration": 580,
    "start_time": "2024-04-24T21:01:30.328Z"
   },
   {
    "duration": 23,
    "start_time": "2024-04-24T21:01:30.909Z"
   },
   {
    "duration": 47,
    "start_time": "2024-04-24T21:01:30.934Z"
   },
   {
    "duration": 37,
    "start_time": "2024-04-24T21:01:30.983Z"
   },
   {
    "duration": 25,
    "start_time": "2024-04-24T21:01:31.022Z"
   },
   {
    "duration": 45,
    "start_time": "2024-04-24T21:01:31.049Z"
   },
   {
    "duration": 466,
    "start_time": "2024-04-24T21:01:31.096Z"
   },
   {
    "duration": 15,
    "start_time": "2024-04-24T21:01:31.564Z"
   },
   {
    "duration": 26,
    "start_time": "2024-04-24T21:01:31.581Z"
   },
   {
    "duration": 370,
    "start_time": "2024-04-24T21:01:31.609Z"
   },
   {
    "duration": 11,
    "start_time": "2024-04-24T21:01:31.980Z"
   },
   {
    "duration": 133,
    "start_time": "2024-04-24T21:01:31.992Z"
   },
   {
    "duration": 2044,
    "start_time": "2024-04-24T21:01:32.127Z"
   },
   {
    "duration": 24,
    "start_time": "2024-04-24T21:01:34.172Z"
   },
   {
    "duration": 118,
    "start_time": "2024-04-24T21:01:34.198Z"
   },
   {
    "duration": 9,
    "start_time": "2024-04-24T21:02:20.414Z"
   },
   {
    "duration": 4,
    "start_time": "2024-04-24T21:02:29.310Z"
   },
   {
    "duration": 4,
    "start_time": "2024-04-24T21:03:03.605Z"
   },
   {
    "duration": 12,
    "start_time": "2024-04-24T21:03:13.478Z"
   },
   {
    "duration": 13,
    "start_time": "2024-04-24T21:06:05.119Z"
   },
   {
    "duration": 20,
    "start_time": "2024-04-24T21:07:57.621Z"
   },
   {
    "duration": 14,
    "start_time": "2024-04-24T21:09:08.510Z"
   },
   {
    "duration": 4,
    "start_time": "2024-04-24T21:13:22.880Z"
   },
   {
    "duration": 12,
    "start_time": "2024-04-24T21:16:04.190Z"
   },
   {
    "duration": 8,
    "start_time": "2024-04-24T21:16:15.894Z"
   },
   {
    "duration": 1360,
    "start_time": "2024-04-25T06:54:59.120Z"
   },
   {
    "duration": 800,
    "start_time": "2024-04-25T06:55:00.482Z"
   },
   {
    "duration": 23,
    "start_time": "2024-04-25T06:55:01.284Z"
   },
   {
    "duration": 98,
    "start_time": "2024-04-25T06:55:01.309Z"
   },
   {
    "duration": 65,
    "start_time": "2024-04-25T06:55:01.409Z"
   },
   {
    "duration": 29,
    "start_time": "2024-04-25T06:55:01.475Z"
   },
   {
    "duration": 91,
    "start_time": "2024-04-25T06:55:01.505Z"
   },
   {
    "duration": 455,
    "start_time": "2024-04-25T06:55:01.597Z"
   },
   {
    "duration": 16,
    "start_time": "2024-04-25T06:55:02.055Z"
   },
   {
    "duration": 51,
    "start_time": "2024-04-25T06:55:02.073Z"
   },
   {
    "duration": 445,
    "start_time": "2024-04-25T06:55:02.126Z"
   },
   {
    "duration": 11,
    "start_time": "2024-04-25T06:55:02.572Z"
   },
   {
    "duration": 57,
    "start_time": "2024-04-25T06:55:02.585Z"
   },
   {
    "duration": 2086,
    "start_time": "2024-04-25T06:55:02.646Z"
   },
   {
    "duration": 32,
    "start_time": "2024-04-25T06:55:04.733Z"
   },
   {
    "duration": 27,
    "start_time": "2024-04-25T07:26:03.227Z"
   },
   {
    "duration": 107,
    "start_time": "2024-04-25T07:30:15.323Z"
   },
   {
    "duration": 1263,
    "start_time": "2024-04-25T07:30:57.336Z"
   },
   {
    "duration": 614,
    "start_time": "2024-04-25T07:30:58.601Z"
   },
   {
    "duration": 24,
    "start_time": "2024-04-25T07:30:59.217Z"
   },
   {
    "duration": 8,
    "start_time": "2024-04-25T07:30:59.258Z"
   },
   {
    "duration": 22,
    "start_time": "2024-04-25T07:30:59.267Z"
   },
   {
    "duration": 7,
    "start_time": "2024-04-25T07:30:59.290Z"
   },
   {
    "duration": 35,
    "start_time": "2024-04-25T07:30:59.299Z"
   },
   {
    "duration": 425,
    "start_time": "2024-04-25T07:30:59.335Z"
   },
   {
    "duration": 11,
    "start_time": "2024-04-25T07:30:59.761Z"
   },
   {
    "duration": 47,
    "start_time": "2024-04-25T07:30:59.774Z"
   },
   {
    "duration": 369,
    "start_time": "2024-04-25T07:30:59.822Z"
   },
   {
    "duration": 14,
    "start_time": "2024-04-25T07:31:00.193Z"
   },
   {
    "duration": 147,
    "start_time": "2024-04-25T07:31:00.209Z"
   },
   {
    "duration": 2213,
    "start_time": "2024-04-25T07:31:00.358Z"
   },
   {
    "duration": 24,
    "start_time": "2024-04-25T07:31:02.573Z"
   },
   {
    "duration": 61,
    "start_time": "2024-04-25T07:31:02.599Z"
   },
   {
    "duration": 125,
    "start_time": "2024-04-25T07:31:02.662Z"
   },
   {
    "duration": 12,
    "start_time": "2024-04-25T07:32:03.124Z"
   },
   {
    "duration": 11,
    "start_time": "2024-04-25T07:33:14.156Z"
   },
   {
    "duration": 252,
    "start_time": "2024-04-25T07:33:22.732Z"
   },
   {
    "duration": 243,
    "start_time": "2024-04-25T07:33:50.573Z"
   },
   {
    "duration": 195,
    "start_time": "2024-04-25T07:34:33.460Z"
   },
   {
    "duration": 199,
    "start_time": "2024-04-25T07:34:45.420Z"
   },
   {
    "duration": 13,
    "start_time": "2024-04-25T07:37:06.981Z"
   },
   {
    "duration": 316,
    "start_time": "2024-04-25T07:37:17.652Z"
   },
   {
    "duration": 197,
    "start_time": "2024-04-25T07:37:28.300Z"
   },
   {
    "duration": 14,
    "start_time": "2024-04-25T07:39:19.043Z"
   },
   {
    "duration": 1185,
    "start_time": "2024-04-25T07:39:28.900Z"
   },
   {
    "duration": 27,
    "start_time": "2024-04-25T07:39:36.139Z"
   },
   {
    "duration": 205,
    "start_time": "2024-04-25T07:39:38.740Z"
   },
   {
    "duration": 1269,
    "start_time": "2024-04-25T07:41:10.332Z"
   },
   {
    "duration": 622,
    "start_time": "2024-04-25T07:41:11.603Z"
   },
   {
    "duration": 22,
    "start_time": "2024-04-25T07:41:12.226Z"
   },
   {
    "duration": 28,
    "start_time": "2024-04-25T07:41:12.259Z"
   },
   {
    "duration": 27,
    "start_time": "2024-04-25T07:41:12.289Z"
   },
   {
    "duration": 7,
    "start_time": "2024-04-25T07:41:12.317Z"
   },
   {
    "duration": 28,
    "start_time": "2024-04-25T07:41:12.326Z"
   },
   {
    "duration": 413,
    "start_time": "2024-04-25T07:41:12.357Z"
   },
   {
    "duration": 11,
    "start_time": "2024-04-25T07:41:12.771Z"
   },
   {
    "duration": 25,
    "start_time": "2024-04-25T07:41:12.785Z"
   },
   {
    "duration": 370,
    "start_time": "2024-04-25T07:41:12.812Z"
   },
   {
    "duration": 12,
    "start_time": "2024-04-25T07:41:13.183Z"
   },
   {
    "duration": 46,
    "start_time": "2024-04-25T07:41:13.196Z"
   },
   {
    "duration": 2197,
    "start_time": "2024-04-25T07:41:13.244Z"
   },
   {
    "duration": 39,
    "start_time": "2024-04-25T07:41:15.443Z"
   },
   {
    "duration": 25,
    "start_time": "2024-04-25T07:41:15.483Z"
   },
   {
    "duration": 223,
    "start_time": "2024-04-25T07:41:15.509Z"
   },
   {
    "duration": 1253,
    "start_time": "2024-04-25T07:44:00.391Z"
   },
   {
    "duration": 623,
    "start_time": "2024-04-25T07:44:01.646Z"
   },
   {
    "duration": 23,
    "start_time": "2024-04-25T07:44:02.270Z"
   },
   {
    "duration": 72,
    "start_time": "2024-04-25T07:44:02.294Z"
   },
   {
    "duration": 52,
    "start_time": "2024-04-25T07:44:02.368Z"
   },
   {
    "duration": 18,
    "start_time": "2024-04-25T07:44:02.421Z"
   },
   {
    "duration": 19,
    "start_time": "2024-04-25T07:44:02.441Z"
   },
   {
    "duration": 469,
    "start_time": "2024-04-25T07:44:02.462Z"
   },
   {
    "duration": 12,
    "start_time": "2024-04-25T07:44:02.932Z"
   },
   {
    "duration": 36,
    "start_time": "2024-04-25T07:44:02.946Z"
   },
   {
    "duration": 354,
    "start_time": "2024-04-25T07:44:02.984Z"
   },
   {
    "duration": 10,
    "start_time": "2024-04-25T07:44:03.340Z"
   },
   {
    "duration": 37,
    "start_time": "2024-04-25T07:44:03.359Z"
   },
   {
    "duration": 2163,
    "start_time": "2024-04-25T07:44:03.399Z"
   },
   {
    "duration": 26,
    "start_time": "2024-04-25T07:44:05.564Z"
   },
   {
    "duration": 35,
    "start_time": "2024-04-25T07:44:05.592Z"
   },
   {
    "duration": 225,
    "start_time": "2024-04-25T07:44:05.629Z"
   },
   {
    "duration": 27,
    "start_time": "2024-04-25T07:44:27.804Z"
   },
   {
    "duration": 235,
    "start_time": "2024-04-25T07:45:51.460Z"
   },
   {
    "duration": 216,
    "start_time": "2024-04-25T07:46:24.556Z"
   },
   {
    "duration": 204,
    "start_time": "2024-04-25T07:50:41.340Z"
   },
   {
    "duration": 207,
    "start_time": "2024-04-25T07:53:15.732Z"
   },
   {
    "duration": 196,
    "start_time": "2024-04-25T07:53:18.564Z"
   },
   {
    "duration": 201,
    "start_time": "2024-04-25T07:53:20.860Z"
   },
   {
    "duration": 1253,
    "start_time": "2024-04-25T07:53:32.770Z"
   },
   {
    "duration": 594,
    "start_time": "2024-04-25T07:53:34.025Z"
   },
   {
    "duration": 21,
    "start_time": "2024-04-25T07:53:34.621Z"
   },
   {
    "duration": 15,
    "start_time": "2024-04-25T07:53:34.644Z"
   },
   {
    "duration": 18,
    "start_time": "2024-04-25T07:53:34.661Z"
   },
   {
    "duration": 33,
    "start_time": "2024-04-25T07:53:34.680Z"
   },
   {
    "duration": 21,
    "start_time": "2024-04-25T07:53:34.715Z"
   },
   {
    "duration": 454,
    "start_time": "2024-04-25T07:53:34.737Z"
   },
   {
    "duration": 13,
    "start_time": "2024-04-25T07:53:35.192Z"
   },
   {
    "duration": 33,
    "start_time": "2024-04-25T07:53:35.208Z"
   },
   {
    "duration": 343,
    "start_time": "2024-04-25T07:53:35.243Z"
   },
   {
    "duration": 10,
    "start_time": "2024-04-25T07:53:35.588Z"
   },
   {
    "duration": 58,
    "start_time": "2024-04-25T07:53:35.599Z"
   },
   {
    "duration": 2094,
    "start_time": "2024-04-25T07:53:35.659Z"
   },
   {
    "duration": 23,
    "start_time": "2024-04-25T07:53:37.759Z"
   },
   {
    "duration": 25,
    "start_time": "2024-04-25T07:53:37.783Z"
   },
   {
    "duration": 243,
    "start_time": "2024-04-25T07:53:37.809Z"
   },
   {
    "duration": 216,
    "start_time": "2024-04-25T07:53:38.053Z"
   },
   {
    "duration": 1198,
    "start_time": "2024-04-25T07:57:46.306Z"
   },
   {
    "duration": 595,
    "start_time": "2024-04-25T07:57:47.506Z"
   },
   {
    "duration": 28,
    "start_time": "2024-04-25T07:57:48.102Z"
   },
   {
    "duration": 26,
    "start_time": "2024-04-25T07:57:48.133Z"
   },
   {
    "duration": 15,
    "start_time": "2024-04-25T07:57:48.161Z"
   },
   {
    "duration": 8,
    "start_time": "2024-04-25T07:57:48.178Z"
   },
   {
    "duration": 13,
    "start_time": "2024-04-25T07:57:48.187Z"
   },
   {
    "duration": 440,
    "start_time": "2024-04-25T07:57:48.202Z"
   },
   {
    "duration": 19,
    "start_time": "2024-04-25T07:57:48.644Z"
   },
   {
    "duration": 27,
    "start_time": "2024-04-25T07:57:48.665Z"
   },
   {
    "duration": 365,
    "start_time": "2024-04-25T07:57:48.694Z"
   },
   {
    "duration": 11,
    "start_time": "2024-04-25T07:57:49.060Z"
   },
   {
    "duration": 28,
    "start_time": "2024-04-25T07:57:49.072Z"
   },
   {
    "duration": 2192,
    "start_time": "2024-04-25T07:57:49.102Z"
   },
   {
    "duration": 25,
    "start_time": "2024-04-25T07:57:51.296Z"
   },
   {
    "duration": 37,
    "start_time": "2024-04-25T07:57:51.323Z"
   },
   {
    "duration": 206,
    "start_time": "2024-04-25T07:57:51.362Z"
   },
   {
    "duration": 208,
    "start_time": "2024-04-25T07:57:51.570Z"
   },
   {
    "duration": 1172,
    "start_time": "2024-04-25T08:01:04.619Z"
   },
   {
    "duration": 592,
    "start_time": "2024-04-25T08:01:05.793Z"
   },
   {
    "duration": 22,
    "start_time": "2024-04-25T08:01:06.386Z"
   },
   {
    "duration": 19,
    "start_time": "2024-04-25T08:01:06.410Z"
   },
   {
    "duration": 32,
    "start_time": "2024-04-25T08:01:06.431Z"
   },
   {
    "duration": 14,
    "start_time": "2024-04-25T08:01:06.464Z"
   },
   {
    "duration": 67,
    "start_time": "2024-04-25T08:01:06.479Z"
   },
   {
    "duration": 439,
    "start_time": "2024-04-25T08:01:06.548Z"
   },
   {
    "duration": 11,
    "start_time": "2024-04-25T08:01:06.988Z"
   },
   {
    "duration": 49,
    "start_time": "2024-04-25T08:01:07.002Z"
   },
   {
    "duration": 354,
    "start_time": "2024-04-25T08:01:07.053Z"
   },
   {
    "duration": 11,
    "start_time": "2024-04-25T08:01:07.408Z"
   },
   {
    "duration": 42,
    "start_time": "2024-04-25T08:01:07.420Z"
   },
   {
    "duration": 2161,
    "start_time": "2024-04-25T08:01:07.463Z"
   },
   {
    "duration": 33,
    "start_time": "2024-04-25T08:01:09.626Z"
   },
   {
    "duration": 35,
    "start_time": "2024-04-25T08:01:09.661Z"
   },
   {
    "duration": 213,
    "start_time": "2024-04-25T08:01:09.698Z"
   },
   {
    "duration": 213,
    "start_time": "2024-04-25T08:01:09.913Z"
   },
   {
    "duration": 188,
    "start_time": "2024-04-25T08:08:07.528Z"
   },
   {
    "duration": 25,
    "start_time": "2024-04-25T08:14:39.996Z"
   },
   {
    "duration": 24,
    "start_time": "2024-04-25T08:14:54.260Z"
   },
   {
    "duration": 79,
    "start_time": "2024-04-25T08:15:09.189Z"
   },
   {
    "duration": 29,
    "start_time": "2024-04-25T08:15:15.059Z"
   },
   {
    "duration": 27,
    "start_time": "2024-04-25T08:16:00.644Z"
   },
   {
    "duration": 25,
    "start_time": "2024-04-25T08:16:14.029Z"
   },
   {
    "duration": 25,
    "start_time": "2024-04-25T08:16:20.755Z"
   },
   {
    "duration": 121,
    "start_time": "2024-04-25T08:17:09.587Z"
   },
   {
    "duration": 1252,
    "start_time": "2024-04-25T08:17:35.526Z"
   },
   {
    "duration": 585,
    "start_time": "2024-04-25T08:17:36.780Z"
   },
   {
    "duration": 21,
    "start_time": "2024-04-25T08:17:37.366Z"
   },
   {
    "duration": 30,
    "start_time": "2024-04-25T08:17:37.389Z"
   },
   {
    "duration": 51,
    "start_time": "2024-04-25T08:17:37.421Z"
   },
   {
    "duration": 33,
    "start_time": "2024-04-25T08:17:37.475Z"
   },
   {
    "duration": 34,
    "start_time": "2024-04-25T08:17:37.510Z"
   },
   {
    "duration": 413,
    "start_time": "2024-04-25T08:17:37.546Z"
   },
   {
    "duration": 11,
    "start_time": "2024-04-25T08:17:37.960Z"
   },
   {
    "duration": 41,
    "start_time": "2024-04-25T08:17:37.973Z"
   },
   {
    "duration": 322,
    "start_time": "2024-04-25T08:17:38.016Z"
   },
   {
    "duration": 19,
    "start_time": "2024-04-25T08:17:38.340Z"
   },
   {
    "duration": 26,
    "start_time": "2024-04-25T08:17:38.361Z"
   },
   {
    "duration": 2110,
    "start_time": "2024-04-25T08:17:38.389Z"
   },
   {
    "duration": 23,
    "start_time": "2024-04-25T08:17:40.501Z"
   },
   {
    "duration": 42,
    "start_time": "2024-04-25T08:17:40.526Z"
   },
   {
    "duration": 195,
    "start_time": "2024-04-25T08:17:40.569Z"
   },
   {
    "duration": 195,
    "start_time": "2024-04-25T08:17:40.766Z"
   },
   {
    "duration": 25,
    "start_time": "2024-04-25T08:17:40.962Z"
   },
   {
    "duration": 139,
    "start_time": "2024-04-25T08:20:14.673Z"
   },
   {
    "duration": 136,
    "start_time": "2024-04-25T08:20:42.713Z"
   },
   {
    "duration": 151,
    "start_time": "2024-04-25T08:21:45.665Z"
   },
   {
    "duration": 140,
    "start_time": "2024-04-25T08:22:25.570Z"
   },
   {
    "duration": 212,
    "start_time": "2024-04-25T08:25:45.152Z"
   },
   {
    "duration": 243,
    "start_time": "2024-04-25T08:25:51.400Z"
   },
   {
    "duration": 8,
    "start_time": "2024-04-25T08:28:30.360Z"
   },
   {
    "duration": 151,
    "start_time": "2024-04-25T08:32:37.439Z"
   },
   {
    "duration": 1224,
    "start_time": "2024-04-25T08:41:53.260Z"
   },
   {
    "duration": 585,
    "start_time": "2024-04-25T08:41:54.485Z"
   },
   {
    "duration": 21,
    "start_time": "2024-04-25T08:41:55.071Z"
   },
   {
    "duration": 9,
    "start_time": "2024-04-25T08:41:55.095Z"
   },
   {
    "duration": 15,
    "start_time": "2024-04-25T08:41:55.106Z"
   },
   {
    "duration": 7,
    "start_time": "2024-04-25T08:41:55.122Z"
   },
   {
    "duration": 32,
    "start_time": "2024-04-25T08:41:55.130Z"
   },
   {
    "duration": 434,
    "start_time": "2024-04-25T08:41:55.163Z"
   },
   {
    "duration": 17,
    "start_time": "2024-04-25T08:41:55.599Z"
   },
   {
    "duration": 45,
    "start_time": "2024-04-25T08:41:55.620Z"
   },
   {
    "duration": 334,
    "start_time": "2024-04-25T08:41:55.667Z"
   },
   {
    "duration": 10,
    "start_time": "2024-04-25T08:41:56.003Z"
   },
   {
    "duration": 32,
    "start_time": "2024-04-25T08:41:56.014Z"
   },
   {
    "duration": 2125,
    "start_time": "2024-04-25T08:41:56.048Z"
   },
   {
    "duration": 24,
    "start_time": "2024-04-25T08:41:58.175Z"
   },
   {
    "duration": 25,
    "start_time": "2024-04-25T08:41:58.201Z"
   },
   {
    "duration": 231,
    "start_time": "2024-04-25T08:41:58.228Z"
   },
   {
    "duration": 199,
    "start_time": "2024-04-25T08:41:58.461Z"
   },
   {
    "duration": 26,
    "start_time": "2024-04-25T08:41:58.662Z"
   },
   {
    "duration": 168,
    "start_time": "2024-04-25T08:41:58.690Z"
   },
   {
    "duration": 160,
    "start_time": "2024-04-25T08:41:58.860Z"
   },
   {
    "duration": 11,
    "start_time": "2024-04-25T08:41:59.022Z"
   },
   {
    "duration": 1179,
    "start_time": "2024-04-25T08:42:23.114Z"
   },
   {
    "duration": 587,
    "start_time": "2024-04-25T08:42:24.295Z"
   },
   {
    "duration": 23,
    "start_time": "2024-04-25T08:42:24.883Z"
   },
   {
    "duration": 4,
    "start_time": "2024-04-25T08:42:24.908Z"
   },
   {
    "duration": 19,
    "start_time": "2024-04-25T08:42:24.913Z"
   },
   {
    "duration": 28,
    "start_time": "2024-04-25T08:42:24.934Z"
   },
   {
    "duration": 15,
    "start_time": "2024-04-25T08:42:24.964Z"
   },
   {
    "duration": 405,
    "start_time": "2024-04-25T08:42:24.980Z"
   },
   {
    "duration": 10,
    "start_time": "2024-04-25T08:42:25.387Z"
   },
   {
    "duration": 30,
    "start_time": "2024-04-25T08:42:25.400Z"
   },
   {
    "duration": 368,
    "start_time": "2024-04-25T08:42:25.432Z"
   },
   {
    "duration": 10,
    "start_time": "2024-04-25T08:42:25.802Z"
   },
   {
    "duration": 38,
    "start_time": "2024-04-25T08:42:25.814Z"
   },
   {
    "duration": 2080,
    "start_time": "2024-04-25T08:42:25.858Z"
   },
   {
    "duration": 32,
    "start_time": "2024-04-25T08:42:27.939Z"
   },
   {
    "duration": 24,
    "start_time": "2024-04-25T08:42:27.973Z"
   },
   {
    "duration": 204,
    "start_time": "2024-04-25T08:42:27.999Z"
   },
   {
    "duration": 216,
    "start_time": "2024-04-25T08:42:28.204Z"
   },
   {
    "duration": 26,
    "start_time": "2024-04-25T08:42:28.422Z"
   },
   {
    "duration": 144,
    "start_time": "2024-04-25T08:42:28.459Z"
   },
   {
    "duration": 148,
    "start_time": "2024-04-25T08:42:28.604Z"
   },
   {
    "duration": 9,
    "start_time": "2024-04-25T08:42:28.758Z"
   },
   {
    "duration": 211,
    "start_time": "2024-04-25T08:54:23.775Z"
   },
   {
    "duration": 208,
    "start_time": "2024-04-25T08:55:12.039Z"
   },
   {
    "duration": 185,
    "start_time": "2024-04-25T08:56:35.495Z"
   },
   {
    "duration": 298,
    "start_time": "2024-04-25T08:56:51.198Z"
   },
   {
    "duration": 180,
    "start_time": "2024-04-25T08:56:59.142Z"
   },
   {
    "duration": 11455,
    "start_time": "2024-04-25T09:00:23.479Z"
   },
   {
    "duration": 348,
    "start_time": "2024-04-25T09:01:03.526Z"
   },
   {
    "duration": 206,
    "start_time": "2024-04-25T09:04:07.455Z"
   },
   {
    "duration": 180,
    "start_time": "2024-04-25T09:04:39.542Z"
   },
   {
    "duration": 197,
    "start_time": "2024-04-25T09:04:47.374Z"
   },
   {
    "duration": 183,
    "start_time": "2024-04-25T09:05:56.222Z"
   },
   {
    "duration": 195,
    "start_time": "2024-04-25T09:06:53.438Z"
   },
   {
    "duration": 109,
    "start_time": "2024-04-25T09:07:01.077Z"
   },
   {
    "duration": 13,
    "start_time": "2024-04-25T09:15:57.960Z"
   },
   {
    "duration": 12023,
    "start_time": "2024-04-25T09:16:08.464Z"
   },
   {
    "duration": 193,
    "start_time": "2024-04-25T09:16:55.324Z"
   },
   {
    "duration": 1362,
    "start_time": "2024-04-25T09:17:30.115Z"
   },
   {
    "duration": 1300,
    "start_time": "2024-04-25T09:17:37.291Z"
   },
   {
    "duration": 192,
    "start_time": "2024-04-25T09:17:43.610Z"
   },
   {
    "duration": 196,
    "start_time": "2024-04-25T09:18:06.547Z"
   },
   {
    "duration": 1197,
    "start_time": "2024-04-25T09:47:02.644Z"
   },
   {
    "duration": 36,
    "start_time": "2024-04-25T09:47:25.746Z"
   },
   {
    "duration": 25,
    "start_time": "2024-04-25T09:48:57.818Z"
   },
   {
    "duration": 224,
    "start_time": "2024-04-25T09:50:09.481Z"
   },
   {
    "duration": 343,
    "start_time": "2024-04-25T09:51:15.364Z"
   },
   {
    "duration": 238,
    "start_time": "2024-04-25T09:51:23.752Z"
   },
   {
    "duration": 246,
    "start_time": "2024-04-25T09:52:52.554Z"
   },
   {
    "duration": 239,
    "start_time": "2024-04-25T09:53:50.775Z"
   },
   {
    "duration": 319,
    "start_time": "2024-04-25T09:57:12.056Z"
   },
   {
    "duration": 221,
    "start_time": "2024-04-25T09:58:10.861Z"
   },
   {
    "duration": 216,
    "start_time": "2024-04-25T09:58:14.667Z"
   },
   {
    "duration": 236,
    "start_time": "2024-04-25T09:59:09.117Z"
   },
   {
    "duration": 1200,
    "start_time": "2024-04-25T09:59:42.897Z"
   },
   {
    "duration": 611,
    "start_time": "2024-04-25T09:59:44.101Z"
   },
   {
    "duration": 22,
    "start_time": "2024-04-25T09:59:44.714Z"
   },
   {
    "duration": 11,
    "start_time": "2024-04-25T09:59:44.738Z"
   },
   {
    "duration": 27,
    "start_time": "2024-04-25T09:59:44.759Z"
   },
   {
    "duration": 8,
    "start_time": "2024-04-25T09:59:44.788Z"
   },
   {
    "duration": 13,
    "start_time": "2024-04-25T09:59:44.798Z"
   },
   {
    "duration": 429,
    "start_time": "2024-04-25T09:59:44.813Z"
   },
   {
    "duration": 21,
    "start_time": "2024-04-25T09:59:45.246Z"
   },
   {
    "duration": 71,
    "start_time": "2024-04-25T09:59:45.269Z"
   },
   {
    "duration": 370,
    "start_time": "2024-04-25T09:59:45.342Z"
   },
   {
    "duration": 10,
    "start_time": "2024-04-25T09:59:45.714Z"
   },
   {
    "duration": 43,
    "start_time": "2024-04-25T09:59:45.726Z"
   },
   {
    "duration": 2137,
    "start_time": "2024-04-25T09:59:45.770Z"
   },
   {
    "duration": 23,
    "start_time": "2024-04-25T09:59:47.908Z"
   },
   {
    "duration": 38,
    "start_time": "2024-04-25T09:59:47.933Z"
   },
   {
    "duration": 209,
    "start_time": "2024-04-25T09:59:47.972Z"
   },
   {
    "duration": 210,
    "start_time": "2024-04-25T09:59:48.183Z"
   },
   {
    "duration": 25,
    "start_time": "2024-04-25T09:59:48.394Z"
   },
   {
    "duration": 173,
    "start_time": "2024-04-25T09:59:48.420Z"
   },
   {
    "duration": 159,
    "start_time": "2024-04-25T09:59:48.595Z"
   },
   {
    "duration": 9,
    "start_time": "2024-04-25T09:59:48.758Z"
   },
   {
    "duration": 204,
    "start_time": "2024-04-25T09:59:48.768Z"
   },
   {
    "duration": 210,
    "start_time": "2024-04-25T09:59:48.974Z"
   },
   {
    "duration": 263,
    "start_time": "2024-04-25T09:59:49.186Z"
   },
   {
    "duration": 329,
    "start_time": "2024-04-25T09:59:49.451Z"
   },
   {
    "duration": 244,
    "start_time": "2024-04-25T09:59:49.784Z"
   },
   {
    "duration": 221,
    "start_time": "2024-04-25T10:00:09.804Z"
   },
   {
    "duration": 1224,
    "start_time": "2024-04-25T10:03:51.371Z"
   },
   {
    "duration": 605,
    "start_time": "2024-04-25T10:03:52.597Z"
   },
   {
    "duration": 22,
    "start_time": "2024-04-25T10:03:53.204Z"
   },
   {
    "duration": 34,
    "start_time": "2024-04-25T10:03:53.227Z"
   },
   {
    "duration": 30,
    "start_time": "2024-04-25T10:03:53.263Z"
   },
   {
    "duration": 17,
    "start_time": "2024-04-25T10:03:53.295Z"
   },
   {
    "duration": 32,
    "start_time": "2024-04-25T10:03:53.313Z"
   },
   {
    "duration": 425,
    "start_time": "2024-04-25T10:03:53.346Z"
   },
   {
    "duration": 12,
    "start_time": "2024-04-25T10:03:53.772Z"
   },
   {
    "duration": 44,
    "start_time": "2024-04-25T10:03:53.786Z"
   },
   {
    "duration": 349,
    "start_time": "2024-04-25T10:03:53.832Z"
   },
   {
    "duration": 11,
    "start_time": "2024-04-25T10:03:54.183Z"
   },
   {
    "duration": 53,
    "start_time": "2024-04-25T10:03:54.195Z"
   },
   {
    "duration": 2184,
    "start_time": "2024-04-25T10:03:54.249Z"
   },
   {
    "duration": 32,
    "start_time": "2024-04-25T10:03:56.435Z"
   },
   {
    "duration": 40,
    "start_time": "2024-04-25T10:03:56.468Z"
   },
   {
    "duration": 248,
    "start_time": "2024-04-25T10:03:56.510Z"
   },
   {
    "duration": 201,
    "start_time": "2024-04-25T10:03:56.760Z"
   },
   {
    "duration": 26,
    "start_time": "2024-04-25T10:03:56.962Z"
   },
   {
    "duration": 177,
    "start_time": "2024-04-25T10:03:56.990Z"
   },
   {
    "duration": 154,
    "start_time": "2024-04-25T10:03:57.169Z"
   },
   {
    "duration": 9,
    "start_time": "2024-04-25T10:03:57.324Z"
   },
   {
    "duration": 263,
    "start_time": "2024-04-25T10:03:57.335Z"
   },
   {
    "duration": 206,
    "start_time": "2024-04-25T10:03:57.600Z"
   },
   {
    "duration": 257,
    "start_time": "2024-04-25T10:03:57.808Z"
   },
   {
    "duration": 339,
    "start_time": "2024-04-25T10:03:58.067Z"
   },
   {
    "duration": 235,
    "start_time": "2024-04-25T10:03:58.408Z"
   },
   {
    "duration": 223,
    "start_time": "2024-04-25T10:06:34.091Z"
   },
   {
    "duration": 231,
    "start_time": "2024-04-25T10:06:53.908Z"
   },
   {
    "duration": 110,
    "start_time": "2024-04-25T10:07:46.491Z"
   },
   {
    "duration": 13,
    "start_time": "2024-04-25T10:08:14.139Z"
   },
   {
    "duration": 13,
    "start_time": "2024-04-25T10:08:19.067Z"
   },
   {
    "duration": 14,
    "start_time": "2024-04-25T10:08:38.514Z"
   },
   {
    "duration": 227,
    "start_time": "2024-04-25T10:09:00.283Z"
   },
   {
    "duration": 270,
    "start_time": "2024-04-25T10:09:31.058Z"
   },
   {
    "duration": 240,
    "start_time": "2024-04-25T10:10:02.651Z"
   },
   {
    "duration": 235,
    "start_time": "2024-04-25T10:10:33.282Z"
   },
   {
    "duration": 235,
    "start_time": "2024-04-25T10:11:33.577Z"
   },
   {
    "duration": 26,
    "start_time": "2024-04-25T10:12:20.995Z"
   },
   {
    "duration": 1233,
    "start_time": "2024-04-25T10:13:37.669Z"
   },
   {
    "duration": 575,
    "start_time": "2024-04-25T10:13:38.904Z"
   },
   {
    "duration": 23,
    "start_time": "2024-04-25T10:13:39.480Z"
   },
   {
    "duration": 34,
    "start_time": "2024-04-25T10:13:39.504Z"
   },
   {
    "duration": 60,
    "start_time": "2024-04-25T10:13:39.541Z"
   },
   {
    "duration": 90,
    "start_time": "2024-04-25T10:13:39.602Z"
   },
   {
    "duration": 58,
    "start_time": "2024-04-25T10:13:39.694Z"
   },
   {
    "duration": 473,
    "start_time": "2024-04-25T10:13:39.753Z"
   },
   {
    "duration": 12,
    "start_time": "2024-04-25T10:13:40.228Z"
   },
   {
    "duration": 39,
    "start_time": "2024-04-25T10:13:40.242Z"
   },
   {
    "duration": 338,
    "start_time": "2024-04-25T10:13:40.283Z"
   },
   {
    "duration": 11,
    "start_time": "2024-04-25T10:13:40.623Z"
   },
   {
    "duration": 40,
    "start_time": "2024-04-25T10:13:40.635Z"
   },
   {
    "duration": 2187,
    "start_time": "2024-04-25T10:13:40.678Z"
   },
   {
    "duration": 24,
    "start_time": "2024-04-25T10:13:42.867Z"
   },
   {
    "duration": 23,
    "start_time": "2024-04-25T10:13:42.892Z"
   },
   {
    "duration": 213,
    "start_time": "2024-04-25T10:13:42.917Z"
   },
   {
    "duration": 205,
    "start_time": "2024-04-25T10:13:43.131Z"
   },
   {
    "duration": 30,
    "start_time": "2024-04-25T10:13:43.338Z"
   },
   {
    "duration": 168,
    "start_time": "2024-04-25T10:13:43.369Z"
   },
   {
    "duration": 173,
    "start_time": "2024-04-25T10:13:43.539Z"
   },
   {
    "duration": 9,
    "start_time": "2024-04-25T10:13:43.713Z"
   },
   {
    "duration": 206,
    "start_time": "2024-04-25T10:13:43.723Z"
   },
   {
    "duration": 230,
    "start_time": "2024-04-25T10:13:43.931Z"
   },
   {
    "duration": 343,
    "start_time": "2024-04-25T10:13:44.163Z"
   },
   {
    "duration": 0,
    "start_time": "2024-04-25T10:13:44.508Z"
   },
   {
    "duration": 0,
    "start_time": "2024-04-25T10:13:44.509Z"
   },
   {
    "duration": 333,
    "start_time": "2024-04-25T10:13:58.315Z"
   },
   {
    "duration": 31,
    "start_time": "2024-04-25T10:15:31.243Z"
   },
   {
    "duration": 1222,
    "start_time": "2024-04-25T10:15:36.967Z"
   },
   {
    "duration": 586,
    "start_time": "2024-04-25T10:15:38.191Z"
   },
   {
    "duration": 21,
    "start_time": "2024-04-25T10:15:38.779Z"
   },
   {
    "duration": 7,
    "start_time": "2024-04-25T10:15:38.801Z"
   },
   {
    "duration": 17,
    "start_time": "2024-04-25T10:15:38.809Z"
   },
   {
    "duration": 19,
    "start_time": "2024-04-25T10:15:38.828Z"
   },
   {
    "duration": 15,
    "start_time": "2024-04-25T10:15:38.849Z"
   },
   {
    "duration": 413,
    "start_time": "2024-04-25T10:15:38.866Z"
   },
   {
    "duration": 11,
    "start_time": "2024-04-25T10:15:39.281Z"
   },
   {
    "duration": 42,
    "start_time": "2024-04-25T10:15:39.294Z"
   },
   {
    "duration": 365,
    "start_time": "2024-04-25T10:15:39.338Z"
   },
   {
    "duration": 11,
    "start_time": "2024-04-25T10:15:39.704Z"
   },
   {
    "duration": 57,
    "start_time": "2024-04-25T10:15:39.716Z"
   },
   {
    "duration": 2130,
    "start_time": "2024-04-25T10:15:39.775Z"
   },
   {
    "duration": 24,
    "start_time": "2024-04-25T10:15:41.907Z"
   },
   {
    "duration": 40,
    "start_time": "2024-04-25T10:15:41.932Z"
   },
   {
    "duration": 233,
    "start_time": "2024-04-25T10:15:41.973Z"
   },
   {
    "duration": 204,
    "start_time": "2024-04-25T10:15:42.208Z"
   },
   {
    "duration": 24,
    "start_time": "2024-04-25T10:15:42.413Z"
   },
   {
    "duration": 156,
    "start_time": "2024-04-25T10:15:42.439Z"
   },
   {
    "duration": 163,
    "start_time": "2024-04-25T10:15:42.596Z"
   },
   {
    "duration": 8,
    "start_time": "2024-04-25T10:15:42.761Z"
   },
   {
    "duration": 206,
    "start_time": "2024-04-25T10:15:42.770Z"
   },
   {
    "duration": 195,
    "start_time": "2024-04-25T10:15:42.978Z"
   },
   {
    "duration": 233,
    "start_time": "2024-04-25T10:15:43.174Z"
   },
   {
    "duration": 378,
    "start_time": "2024-04-25T10:15:43.409Z"
   },
   {
    "duration": 238,
    "start_time": "2024-04-25T10:15:43.788Z"
   },
   {
    "duration": 220,
    "start_time": "2024-04-25T10:16:51.874Z"
   },
   {
    "duration": 1499,
    "start_time": "2024-04-25T10:22:09.282Z"
   },
   {
    "duration": 1328,
    "start_time": "2024-04-25T10:23:21.626Z"
   },
   {
    "duration": 233,
    "start_time": "2024-04-25T10:23:57.515Z"
   },
   {
    "duration": 254,
    "start_time": "2024-04-25T10:24:14.885Z"
   },
   {
    "duration": 268,
    "start_time": "2024-04-25T10:26:14.044Z"
   },
   {
    "duration": 235,
    "start_time": "2024-04-25T10:29:28.885Z"
   },
   {
    "duration": 225,
    "start_time": "2024-04-25T10:31:42.206Z"
   },
   {
    "duration": 1176,
    "start_time": "2024-04-25T10:33:12.204Z"
   },
   {
    "duration": 606,
    "start_time": "2024-04-25T10:33:13.382Z"
   },
   {
    "duration": 21,
    "start_time": "2024-04-25T10:33:13.990Z"
   },
   {
    "duration": 15,
    "start_time": "2024-04-25T10:33:14.013Z"
   },
   {
    "duration": 23,
    "start_time": "2024-04-25T10:33:14.029Z"
   },
   {
    "duration": 27,
    "start_time": "2024-04-25T10:33:14.053Z"
   },
   {
    "duration": 16,
    "start_time": "2024-04-25T10:33:14.082Z"
   },
   {
    "duration": 411,
    "start_time": "2024-04-25T10:33:14.100Z"
   },
   {
    "duration": 11,
    "start_time": "2024-04-25T10:33:14.512Z"
   },
   {
    "duration": 40,
    "start_time": "2024-04-25T10:33:14.526Z"
   },
   {
    "duration": 328,
    "start_time": "2024-04-25T10:33:14.568Z"
   },
   {
    "duration": 10,
    "start_time": "2024-04-25T10:33:14.898Z"
   },
   {
    "duration": 43,
    "start_time": "2024-04-25T10:33:14.910Z"
   },
   {
    "duration": 2138,
    "start_time": "2024-04-25T10:33:14.955Z"
   },
   {
    "duration": 26,
    "start_time": "2024-04-25T10:33:17.094Z"
   },
   {
    "duration": 42,
    "start_time": "2024-04-25T10:33:17.121Z"
   },
   {
    "duration": 205,
    "start_time": "2024-04-25T10:33:17.165Z"
   },
   {
    "duration": 224,
    "start_time": "2024-04-25T10:33:17.372Z"
   },
   {
    "duration": 31,
    "start_time": "2024-04-25T10:33:17.598Z"
   },
   {
    "duration": 167,
    "start_time": "2024-04-25T10:33:17.631Z"
   },
   {
    "duration": 174,
    "start_time": "2024-04-25T10:33:17.800Z"
   },
   {
    "duration": 9,
    "start_time": "2024-04-25T10:33:17.976Z"
   },
   {
    "duration": 205,
    "start_time": "2024-04-25T10:33:17.986Z"
   },
   {
    "duration": 196,
    "start_time": "2024-04-25T10:33:18.192Z"
   },
   {
    "duration": 243,
    "start_time": "2024-04-25T10:33:18.390Z"
   },
   {
    "duration": 329,
    "start_time": "2024-04-25T10:33:18.635Z"
   },
   {
    "duration": 245,
    "start_time": "2024-04-25T10:33:18.966Z"
   },
   {
    "duration": 283,
    "start_time": "2024-04-25T10:52:39.609Z"
   },
   {
    "duration": 235,
    "start_time": "2024-04-25T10:54:17.176Z"
   },
   {
    "duration": 219,
    "start_time": "2024-04-25T10:54:21.488Z"
   },
   {
    "duration": 209,
    "start_time": "2024-04-25T10:54:27.280Z"
   },
   {
    "duration": 11,
    "start_time": "2024-04-25T11:08:10.808Z"
   },
   {
    "duration": 30,
    "start_time": "2024-04-25T11:08:39.891Z"
   },
   {
    "duration": 1233,
    "start_time": "2024-04-25T11:08:58.253Z"
   },
   {
    "duration": 617,
    "start_time": "2024-04-25T11:08:59.488Z"
   },
   {
    "duration": 22,
    "start_time": "2024-04-25T11:09:00.109Z"
   },
   {
    "duration": 132,
    "start_time": "2024-04-25T11:09:00.132Z"
   },
   {
    "duration": 259,
    "start_time": "2024-04-25T11:09:00.266Z"
   },
   {
    "duration": 120,
    "start_time": "2024-04-25T11:09:00.527Z"
   },
   {
    "duration": 241,
    "start_time": "2024-04-25T11:09:00.649Z"
   },
   {
    "duration": 628,
    "start_time": "2024-04-25T11:09:00.891Z"
   },
   {
    "duration": 13,
    "start_time": "2024-04-25T11:09:01.523Z"
   },
   {
    "duration": 55,
    "start_time": "2024-04-25T11:09:01.538Z"
   },
   {
    "duration": 402,
    "start_time": "2024-04-25T11:09:01.595Z"
   },
   {
    "duration": 14,
    "start_time": "2024-04-25T11:09:01.999Z"
   },
   {
    "duration": 68,
    "start_time": "2024-04-25T11:09:02.016Z"
   },
   {
    "duration": 2132,
    "start_time": "2024-04-25T11:09:02.085Z"
   },
   {
    "duration": 25,
    "start_time": "2024-04-25T11:09:04.219Z"
   },
   {
    "duration": 26,
    "start_time": "2024-04-25T11:09:04.258Z"
   },
   {
    "duration": 242,
    "start_time": "2024-04-25T11:09:04.286Z"
   },
   {
    "duration": 206,
    "start_time": "2024-04-25T11:09:04.530Z"
   },
   {
    "duration": 29,
    "start_time": "2024-04-25T11:09:04.738Z"
   },
   {
    "duration": 154,
    "start_time": "2024-04-25T11:09:04.769Z"
   },
   {
    "duration": 160,
    "start_time": "2024-04-25T11:09:04.924Z"
   },
   {
    "duration": 10,
    "start_time": "2024-04-25T11:09:05.086Z"
   },
   {
    "duration": 223,
    "start_time": "2024-04-25T11:09:05.097Z"
   },
   {
    "duration": 209,
    "start_time": "2024-04-25T11:09:05.322Z"
   },
   {
    "duration": 239,
    "start_time": "2024-04-25T11:09:05.533Z"
   },
   {
    "duration": 346,
    "start_time": "2024-04-25T11:09:05.773Z"
   },
   {
    "duration": 244,
    "start_time": "2024-04-25T11:09:06.125Z"
   },
   {
    "duration": 227,
    "start_time": "2024-04-25T11:09:06.370Z"
   },
   {
    "duration": 212,
    "start_time": "2024-04-25T11:09:06.599Z"
   },
   {
    "duration": 227,
    "start_time": "2024-04-25T11:09:06.813Z"
   },
   {
    "duration": 186,
    "start_time": "2024-04-25T11:16:47.981Z"
   },
   {
    "duration": 167,
    "start_time": "2024-04-25T11:18:49.924Z"
   },
   {
    "duration": 230,
    "start_time": "2024-04-25T11:18:52.821Z"
   },
   {
    "duration": 190,
    "start_time": "2024-04-25T11:19:05.275Z"
   },
   {
    "duration": 11,
    "start_time": "2024-04-25T12:08:04.030Z"
   },
   {
    "duration": 57,
    "start_time": "2024-04-25T12:09:19.424Z"
   },
   {
    "duration": 57,
    "start_time": "2024-04-25T12:11:08.075Z"
   },
   {
    "duration": 44,
    "start_time": "2024-04-25T12:11:26.925Z"
   },
   {
    "duration": 51,
    "start_time": "2024-04-25T12:11:40.693Z"
   },
   {
    "duration": 50,
    "start_time": "2024-04-25T12:16:32.542Z"
   },
   {
    "duration": 46,
    "start_time": "2024-04-25T12:17:12.974Z"
   },
   {
    "duration": 48,
    "start_time": "2024-04-25T12:17:59.326Z"
   },
   {
    "duration": 48,
    "start_time": "2024-04-25T12:18:49.893Z"
   },
   {
    "duration": 46,
    "start_time": "2024-04-25T12:19:28.646Z"
   },
   {
    "duration": 1242,
    "start_time": "2024-04-25T12:19:50.341Z"
   },
   {
    "duration": 626,
    "start_time": "2024-04-25T12:19:51.585Z"
   },
   {
    "duration": 21,
    "start_time": "2024-04-25T12:19:52.212Z"
   },
   {
    "duration": 62,
    "start_time": "2024-04-25T12:19:52.236Z"
   },
   {
    "duration": 60,
    "start_time": "2024-04-25T12:19:52.299Z"
   },
   {
    "duration": 17,
    "start_time": "2024-04-25T12:19:52.361Z"
   },
   {
    "duration": 17,
    "start_time": "2024-04-25T12:19:52.380Z"
   },
   {
    "duration": 417,
    "start_time": "2024-04-25T12:19:52.399Z"
   },
   {
    "duration": 11,
    "start_time": "2024-04-25T12:19:52.817Z"
   },
   {
    "duration": 34,
    "start_time": "2024-04-25T12:19:52.831Z"
   },
   {
    "duration": 342,
    "start_time": "2024-04-25T12:19:52.867Z"
   },
   {
    "duration": 11,
    "start_time": "2024-04-25T12:19:53.210Z"
   },
   {
    "duration": 58,
    "start_time": "2024-04-25T12:19:53.223Z"
   },
   {
    "duration": 2248,
    "start_time": "2024-04-25T12:19:53.283Z"
   },
   {
    "duration": 37,
    "start_time": "2024-04-25T12:19:55.533Z"
   },
   {
    "duration": 24,
    "start_time": "2024-04-25T12:19:55.572Z"
   },
   {
    "duration": 220,
    "start_time": "2024-04-25T12:19:55.598Z"
   },
   {
    "duration": 190,
    "start_time": "2024-04-25T12:19:55.820Z"
   },
   {
    "duration": 23,
    "start_time": "2024-04-25T12:19:56.011Z"
   },
   {
    "duration": 186,
    "start_time": "2024-04-25T12:19:56.036Z"
   },
   {
    "duration": 238,
    "start_time": "2024-04-25T12:19:56.224Z"
   },
   {
    "duration": 9,
    "start_time": "2024-04-25T12:19:56.463Z"
   },
   {
    "duration": 211,
    "start_time": "2024-04-25T12:19:56.474Z"
   },
   {
    "duration": 205,
    "start_time": "2024-04-25T12:19:56.687Z"
   },
   {
    "duration": 240,
    "start_time": "2024-04-25T12:19:56.894Z"
   },
   {
    "duration": 339,
    "start_time": "2024-04-25T12:19:57.135Z"
   },
   {
    "duration": 245,
    "start_time": "2024-04-25T12:19:57.476Z"
   },
   {
    "duration": 227,
    "start_time": "2024-04-25T12:19:57.725Z"
   },
   {
    "duration": 217,
    "start_time": "2024-04-25T12:19:57.958Z"
   },
   {
    "duration": 217,
    "start_time": "2024-04-25T12:19:58.176Z"
   },
   {
    "duration": 188,
    "start_time": "2024-04-25T12:19:58.394Z"
   },
   {
    "duration": 176,
    "start_time": "2024-04-25T12:19:58.583Z"
   },
   {
    "duration": 177,
    "start_time": "2024-04-25T12:19:58.761Z"
   },
   {
    "duration": 11,
    "start_time": "2024-04-25T12:19:58.940Z"
   },
   {
    "duration": 28,
    "start_time": "2024-04-25T12:19:58.959Z"
   },
   {
    "duration": 13,
    "start_time": "2024-04-25T12:28:40.385Z"
   },
   {
    "duration": 1217,
    "start_time": "2024-04-25T12:56:51.175Z"
   },
   {
    "duration": 625,
    "start_time": "2024-04-25T12:56:52.394Z"
   },
   {
    "duration": 40,
    "start_time": "2024-04-25T12:56:53.023Z"
   },
   {
    "duration": 5,
    "start_time": "2024-04-25T12:56:53.064Z"
   },
   {
    "duration": 38,
    "start_time": "2024-04-25T12:56:53.071Z"
   },
   {
    "duration": 20,
    "start_time": "2024-04-25T12:56:53.111Z"
   },
   {
    "duration": 13,
    "start_time": "2024-04-25T12:56:53.133Z"
   },
   {
    "duration": 446,
    "start_time": "2024-04-25T12:56:53.148Z"
   },
   {
    "duration": 12,
    "start_time": "2024-04-25T12:56:53.596Z"
   },
   {
    "duration": 38,
    "start_time": "2024-04-25T12:56:53.609Z"
   },
   {
    "duration": 352,
    "start_time": "2024-04-25T12:56:53.649Z"
   },
   {
    "duration": 10,
    "start_time": "2024-04-25T12:56:54.003Z"
   },
   {
    "duration": 28,
    "start_time": "2024-04-25T12:56:54.015Z"
   },
   {
    "duration": 2176,
    "start_time": "2024-04-25T12:56:54.044Z"
   },
   {
    "duration": 26,
    "start_time": "2024-04-25T12:56:56.221Z"
   },
   {
    "duration": 30,
    "start_time": "2024-04-25T12:56:56.249Z"
   },
   {
    "duration": 217,
    "start_time": "2024-04-25T12:56:56.281Z"
   },
   {
    "duration": 204,
    "start_time": "2024-04-25T12:56:56.499Z"
   },
   {
    "duration": 26,
    "start_time": "2024-04-25T12:56:56.704Z"
   },
   {
    "duration": 171,
    "start_time": "2024-04-25T12:56:56.732Z"
   },
   {
    "duration": 162,
    "start_time": "2024-04-25T12:56:56.905Z"
   },
   {
    "duration": 10,
    "start_time": "2024-04-25T12:56:57.068Z"
   },
   {
    "duration": 216,
    "start_time": "2024-04-25T12:56:57.080Z"
   },
   {
    "duration": 229,
    "start_time": "2024-04-25T12:56:57.298Z"
   },
   {
    "duration": 283,
    "start_time": "2024-04-25T12:56:57.529Z"
   },
   {
    "duration": 336,
    "start_time": "2024-04-25T12:56:57.814Z"
   },
   {
    "duration": 240,
    "start_time": "2024-04-25T12:56:58.158Z"
   },
   {
    "duration": 224,
    "start_time": "2024-04-25T12:56:58.399Z"
   },
   {
    "duration": 234,
    "start_time": "2024-04-25T12:56:58.625Z"
   },
   {
    "duration": 255,
    "start_time": "2024-04-25T12:56:58.860Z"
   },
   {
    "duration": 208,
    "start_time": "2024-04-25T12:56:59.117Z"
   },
   {
    "duration": 183,
    "start_time": "2024-04-25T12:56:59.327Z"
   },
   {
    "duration": 198,
    "start_time": "2024-04-25T12:56:59.512Z"
   },
   {
    "duration": 11,
    "start_time": "2024-04-25T12:56:59.712Z"
   },
   {
    "duration": 49,
    "start_time": "2024-04-25T12:56:59.725Z"
   },
   {
    "duration": 969,
    "start_time": "2024-04-25T13:04:43.705Z"
   },
   {
    "duration": 466,
    "start_time": "2024-04-25T13:04:44.675Z"
   },
   {
    "duration": 18,
    "start_time": "2024-04-25T13:04:45.142Z"
   },
   {
    "duration": 21,
    "start_time": "2024-04-25T13:04:45.162Z"
   },
   {
    "duration": 30,
    "start_time": "2024-04-25T13:04:45.185Z"
   },
   {
    "duration": 58,
    "start_time": "2024-04-25T13:04:45.216Z"
   },
   {
    "duration": 20,
    "start_time": "2024-04-25T13:04:45.275Z"
   },
   {
    "duration": 295,
    "start_time": "2024-04-25T13:04:45.297Z"
   },
   {
    "duration": 9,
    "start_time": "2024-04-25T13:04:45.594Z"
   },
   {
    "duration": 18,
    "start_time": "2024-04-25T13:04:45.605Z"
   },
   {
    "duration": 270,
    "start_time": "2024-04-25T13:04:45.624Z"
   },
   {
    "duration": 13,
    "start_time": "2024-04-25T13:04:45.895Z"
   },
   {
    "duration": 22,
    "start_time": "2024-04-25T13:04:45.909Z"
   },
   {
    "duration": 1565,
    "start_time": "2024-04-25T13:04:45.932Z"
   },
   {
    "duration": 19,
    "start_time": "2024-04-25T13:04:47.502Z"
   },
   {
    "duration": 18,
    "start_time": "2024-04-25T13:04:47.522Z"
   },
   {
    "duration": 175,
    "start_time": "2024-04-25T13:04:47.542Z"
   },
   {
    "duration": 165,
    "start_time": "2024-04-25T13:04:47.719Z"
   },
   {
    "duration": 25,
    "start_time": "2024-04-25T13:04:47.886Z"
   },
   {
    "duration": 120,
    "start_time": "2024-04-25T13:04:47.912Z"
   },
   {
    "duration": 118,
    "start_time": "2024-04-25T13:04:48.034Z"
   },
   {
    "duration": 7,
    "start_time": "2024-04-25T13:04:48.153Z"
   },
   {
    "duration": 159,
    "start_time": "2024-04-25T13:04:48.161Z"
   },
   {
    "duration": 157,
    "start_time": "2024-04-25T13:04:48.321Z"
   },
   {
    "duration": 182,
    "start_time": "2024-04-25T13:04:48.480Z"
   },
   {
    "duration": 235,
    "start_time": "2024-04-25T13:04:48.663Z"
   },
   {
    "duration": 189,
    "start_time": "2024-04-25T13:04:48.901Z"
   },
   {
    "duration": 184,
    "start_time": "2024-04-25T13:04:49.092Z"
   },
   {
    "duration": 185,
    "start_time": "2024-04-25T13:04:49.277Z"
   },
   {
    "duration": 176,
    "start_time": "2024-04-25T13:04:49.463Z"
   },
   {
    "duration": 162,
    "start_time": "2024-04-25T13:04:49.640Z"
   },
   {
    "duration": 133,
    "start_time": "2024-04-25T13:04:49.803Z"
   },
   {
    "duration": 136,
    "start_time": "2024-04-25T13:04:49.937Z"
   },
   {
    "duration": 8,
    "start_time": "2024-04-25T13:04:50.074Z"
   },
   {
    "duration": 32,
    "start_time": "2024-04-25T13:04:50.083Z"
   },
   {
    "duration": 7,
    "start_time": "2024-04-25T13:11:46.402Z"
   },
   {
    "duration": 9,
    "start_time": "2024-04-25T13:19:40.430Z"
   },
   {
    "duration": 10,
    "start_time": "2024-04-25T13:20:24.939Z"
   },
   {
    "duration": 9,
    "start_time": "2024-04-25T13:22:43.460Z"
   },
   {
    "duration": 1058,
    "start_time": "2024-04-25T13:28:21.086Z"
   },
   {
    "duration": 479,
    "start_time": "2024-04-25T13:28:22.146Z"
   },
   {
    "duration": 27,
    "start_time": "2024-04-25T13:28:22.626Z"
   },
   {
    "duration": 20,
    "start_time": "2024-04-25T13:28:22.656Z"
   },
   {
    "duration": 27,
    "start_time": "2024-04-25T13:28:22.677Z"
   },
   {
    "duration": 13,
    "start_time": "2024-04-25T13:28:22.705Z"
   },
   {
    "duration": 12,
    "start_time": "2024-04-25T13:28:22.719Z"
   },
   {
    "duration": 274,
    "start_time": "2024-04-25T13:28:22.733Z"
   },
   {
    "duration": 10,
    "start_time": "2024-04-25T13:28:23.008Z"
   },
   {
    "duration": 35,
    "start_time": "2024-04-25T13:28:23.020Z"
   },
   {
    "duration": 266,
    "start_time": "2024-04-25T13:28:23.056Z"
   },
   {
    "duration": 8,
    "start_time": "2024-04-25T13:28:23.323Z"
   },
   {
    "duration": 40,
    "start_time": "2024-04-25T13:28:23.332Z"
   },
   {
    "duration": 58,
    "start_time": "2024-04-25T13:28:23.374Z"
   },
   {
    "duration": 1573,
    "start_time": "2024-04-25T13:28:23.434Z"
   },
   {
    "duration": 20,
    "start_time": "2024-04-25T13:28:25.008Z"
   },
   {
    "duration": 18,
    "start_time": "2024-04-25T13:28:25.029Z"
   },
   {
    "duration": 183,
    "start_time": "2024-04-25T13:28:25.049Z"
   },
   {
    "duration": 175,
    "start_time": "2024-04-25T13:28:25.234Z"
   },
   {
    "duration": 18,
    "start_time": "2024-04-25T13:28:25.410Z"
   },
   {
    "duration": 122,
    "start_time": "2024-04-25T13:28:25.429Z"
   },
   {
    "duration": 121,
    "start_time": "2024-04-25T13:28:25.552Z"
   },
   {
    "duration": 10,
    "start_time": "2024-04-25T13:28:25.674Z"
   },
   {
    "duration": 21,
    "start_time": "2024-04-25T13:28:25.685Z"
   },
   {
    "duration": 148,
    "start_time": "2024-04-25T13:28:25.708Z"
   },
   {
    "duration": 156,
    "start_time": "2024-04-25T13:28:25.858Z"
   },
   {
    "duration": 186,
    "start_time": "2024-04-25T13:28:26.015Z"
   },
   {
    "duration": 249,
    "start_time": "2024-04-25T13:28:26.204Z"
   },
   {
    "duration": 182,
    "start_time": "2024-04-25T13:28:26.455Z"
   },
   {
    "duration": 171,
    "start_time": "2024-04-25T13:28:26.638Z"
   },
   {
    "duration": 172,
    "start_time": "2024-04-25T13:28:26.811Z"
   },
   {
    "duration": 182,
    "start_time": "2024-04-25T13:28:26.984Z"
   },
   {
    "duration": 164,
    "start_time": "2024-04-25T13:28:27.167Z"
   },
   {
    "duration": 133,
    "start_time": "2024-04-25T13:28:27.332Z"
   },
   {
    "duration": 144,
    "start_time": "2024-04-25T13:28:27.466Z"
   },
   {
    "duration": 9,
    "start_time": "2024-04-25T13:28:27.611Z"
   },
   {
    "duration": 13,
    "start_time": "2024-04-25T13:28:27.621Z"
   },
   {
    "duration": 4,
    "start_time": "2024-04-25T14:02:51.114Z"
   },
   {
    "duration": 1267,
    "start_time": "2024-04-25T14:03:05.251Z"
   },
   {
    "duration": 619,
    "start_time": "2024-04-25T14:03:08.555Z"
   },
   {
    "duration": 22,
    "start_time": "2024-04-25T14:03:13.651Z"
   },
   {
    "duration": 5,
    "start_time": "2024-04-25T14:07:35.411Z"
   },
   {
    "duration": 24,
    "start_time": "2024-04-25T14:07:39.122Z"
   },
   {
    "duration": 86,
    "start_time": "2024-04-25T14:09:03.508Z"
   },
   {
    "duration": 109,
    "start_time": "2024-04-25T14:09:13.543Z"
   },
   {
    "duration": 8,
    "start_time": "2024-04-25T14:10:38.096Z"
   },
   {
    "duration": 17,
    "start_time": "2024-04-25T14:10:48.462Z"
   },
   {
    "duration": 345,
    "start_time": "2024-04-25T14:21:57.279Z"
   },
   {
    "duration": 1259,
    "start_time": "2024-04-25T14:33:27.789Z"
   },
   {
    "duration": 626,
    "start_time": "2024-04-25T14:33:30.123Z"
   },
   {
    "duration": 22,
    "start_time": "2024-04-25T14:33:36.203Z"
   },
   {
    "duration": 5,
    "start_time": "2024-04-25T14:33:39.482Z"
   },
   {
    "duration": 31,
    "start_time": "2024-04-25T14:33:55.435Z"
   },
   {
    "duration": 7,
    "start_time": "2024-04-25T14:34:12.722Z"
   },
   {
    "duration": 10,
    "start_time": "2024-04-25T14:34:19.426Z"
   },
   {
    "duration": 17,
    "start_time": "2024-04-25T14:34:28.943Z"
   },
   {
    "duration": 27,
    "start_time": "2024-04-25T14:34:31.771Z"
   },
   {
    "duration": 356,
    "start_time": "2024-04-25T14:35:27.482Z"
   },
   {
    "duration": 11,
    "start_time": "2024-04-25T14:35:31.861Z"
   },
   {
    "duration": 8,
    "start_time": "2024-04-25T14:35:40.090Z"
   },
   {
    "duration": 28,
    "start_time": "2024-04-25T14:35:43.307Z"
   },
   {
    "duration": 2130,
    "start_time": "2024-04-25T14:35:47.838Z"
   },
   {
    "duration": 333,
    "start_time": "2024-04-25T14:37:13.077Z"
   },
   {
    "duration": 340,
    "start_time": "2024-04-25T14:37:42.988Z"
   },
   {
    "duration": 12,
    "start_time": "2024-04-25T14:37:54.698Z"
   },
   {
    "duration": 9,
    "start_time": "2024-04-25T14:37:58.798Z"
   },
   {
    "duration": 26,
    "start_time": "2024-04-25T14:38:00.526Z"
   },
   {
    "duration": 2048,
    "start_time": "2024-04-25T14:38:05.827Z"
   },
   {
    "duration": 24,
    "start_time": "2024-04-25T14:42:39.578Z"
   },
   {
    "duration": 26,
    "start_time": "2024-04-25T14:42:58.610Z"
   },
   {
    "duration": 102,
    "start_time": "2024-04-25T14:45:48.010Z"
   },
   {
    "duration": 113,
    "start_time": "2024-04-25T14:47:30.027Z"
   },
   {
    "duration": 321,
    "start_time": "2024-04-25T14:48:13.993Z"
   },
   {
    "duration": 183,
    "start_time": "2024-04-25T14:48:33.403Z"
   },
   {
    "duration": 572,
    "start_time": "2024-04-25T14:49:25.530Z"
   },
   {
    "duration": 428,
    "start_time": "2024-04-25T14:49:56.934Z"
   },
   {
    "duration": 14,
    "start_time": "2024-04-25T14:50:33.185Z"
   },
   {
    "duration": 271,
    "start_time": "2024-04-25T14:51:08.747Z"
   },
   {
    "duration": 286,
    "start_time": "2024-04-25T14:51:30.535Z"
   },
   {
    "duration": 273,
    "start_time": "2024-04-25T14:51:38.756Z"
   },
   {
    "duration": 297,
    "start_time": "2024-04-25T14:59:24.764Z"
   },
   {
    "duration": 16,
    "start_time": "2024-04-25T15:00:31.069Z"
   },
   {
    "duration": 380,
    "start_time": "2024-04-25T15:00:48.596Z"
   },
   {
    "duration": 309,
    "start_time": "2024-04-25T15:01:02.772Z"
   },
   {
    "duration": 317,
    "start_time": "2024-04-25T15:01:15.448Z"
   },
   {
    "duration": 25,
    "start_time": "2024-04-25T15:08:15.518Z"
   },
   {
    "duration": 130,
    "start_time": "2024-04-25T15:08:29.311Z"
   },
   {
    "duration": 159,
    "start_time": "2024-04-25T15:11:53.885Z"
   },
   {
    "duration": 156,
    "start_time": "2024-04-25T15:12:02.254Z"
   },
   {
    "duration": 146,
    "start_time": "2024-04-25T15:12:20.838Z"
   },
   {
    "duration": 162,
    "start_time": "2024-04-25T15:13:10.320Z"
   },
   {
    "duration": 1274,
    "start_time": "2024-04-25T15:14:03.022Z"
   },
   {
    "duration": 602,
    "start_time": "2024-04-25T15:14:04.298Z"
   },
   {
    "duration": 23,
    "start_time": "2024-04-25T15:14:04.902Z"
   },
   {
    "duration": 15,
    "start_time": "2024-04-25T15:14:04.927Z"
   },
   {
    "duration": 35,
    "start_time": "2024-04-25T15:14:04.943Z"
   },
   {
    "duration": 7,
    "start_time": "2024-04-25T15:14:04.979Z"
   },
   {
    "duration": 23,
    "start_time": "2024-04-25T15:14:04.988Z"
   },
   {
    "duration": 17,
    "start_time": "2024-04-25T15:14:05.012Z"
   },
   {
    "duration": 30,
    "start_time": "2024-04-25T15:14:05.030Z"
   },
   {
    "duration": 349,
    "start_time": "2024-04-25T15:14:05.063Z"
   },
   {
    "duration": 10,
    "start_time": "2024-04-25T15:14:05.413Z"
   },
   {
    "duration": 12,
    "start_time": "2024-04-25T15:14:05.425Z"
   },
   {
    "duration": 44,
    "start_time": "2024-04-25T15:14:05.439Z"
   },
   {
    "duration": 2155,
    "start_time": "2024-04-25T15:14:05.485Z"
   },
   {
    "duration": 28,
    "start_time": "2024-04-25T15:14:07.642Z"
   },
   {
    "duration": 26,
    "start_time": "2024-04-25T15:14:07.671Z"
   },
   {
    "duration": 315,
    "start_time": "2024-04-25T15:14:07.699Z"
   },
   {
    "duration": 307,
    "start_time": "2024-04-25T15:14:08.015Z"
   },
   {
    "duration": 34,
    "start_time": "2024-04-25T15:14:08.324Z"
   },
   {
    "duration": 167,
    "start_time": "2024-04-25T15:14:08.360Z"
   },
   {
    "duration": 174,
    "start_time": "2024-04-25T15:14:08.529Z"
   },
   {
    "duration": 14,
    "start_time": "2024-04-25T15:14:08.705Z"
   },
   {
    "duration": 36,
    "start_time": "2024-04-25T15:14:08.721Z"
   },
   {
    "duration": 231,
    "start_time": "2024-04-25T15:14:08.759Z"
   },
   {
    "duration": 319,
    "start_time": "2024-04-25T15:14:08.992Z"
   },
   {
    "duration": 215,
    "start_time": "2024-04-25T15:14:09.312Z"
   },
   {
    "duration": 206,
    "start_time": "2024-04-25T15:14:09.529Z"
   },
   {
    "duration": 190,
    "start_time": "2024-04-25T15:14:09.738Z"
   },
   {
    "duration": 255,
    "start_time": "2024-04-25T15:14:09.930Z"
   },
   {
    "duration": 236,
    "start_time": "2024-04-25T15:14:10.186Z"
   },
   {
    "duration": 222,
    "start_time": "2024-04-25T15:14:10.424Z"
   },
   {
    "duration": 171,
    "start_time": "2024-04-25T15:14:10.648Z"
   },
   {
    "duration": 170,
    "start_time": "2024-04-25T15:14:10.821Z"
   },
   {
    "duration": 173,
    "start_time": "2024-04-25T15:14:10.993Z"
   },
   {
    "duration": 9,
    "start_time": "2024-04-25T15:14:11.168Z"
   },
   {
    "duration": 16,
    "start_time": "2024-04-25T15:14:11.179Z"
   },
   {
    "duration": 13,
    "start_time": "2024-04-25T15:16:00.597Z"
   },
   {
    "duration": 156,
    "start_time": "2024-04-25T15:17:12.604Z"
   },
   {
    "duration": 272,
    "start_time": "2024-04-25T15:17:22.495Z"
   },
   {
    "duration": 154,
    "start_time": "2024-04-25T15:18:26.478Z"
   },
   {
    "duration": 146,
    "start_time": "2024-04-25T15:18:38.525Z"
   },
   {
    "duration": 163,
    "start_time": "2024-04-25T15:18:46.301Z"
   },
   {
    "duration": 156,
    "start_time": "2024-04-25T15:18:52.693Z"
   },
   {
    "duration": 172,
    "start_time": "2024-04-25T15:19:03.919Z"
   },
   {
    "duration": 14,
    "start_time": "2024-04-25T15:33:57.034Z"
   },
   {
    "duration": 35,
    "start_time": "2024-04-25T15:34:28.779Z"
   },
   {
    "duration": 14,
    "start_time": "2024-04-25T15:34:42.545Z"
   },
   {
    "duration": 16,
    "start_time": "2024-04-25T15:38:56.850Z"
   },
   {
    "duration": 19,
    "start_time": "2024-04-25T15:39:14.025Z"
   },
   {
    "duration": 115,
    "start_time": "2024-04-25T15:39:51.929Z"
   },
   {
    "duration": 17,
    "start_time": "2024-04-25T15:39:56.801Z"
   },
   {
    "duration": 19,
    "start_time": "2024-04-25T15:40:09.266Z"
   },
   {
    "duration": 12,
    "start_time": "2024-04-25T15:44:27.097Z"
   },
   {
    "duration": 6,
    "start_time": "2024-04-25T15:44:54.906Z"
   },
   {
    "duration": 5,
    "start_time": "2024-04-25T15:45:38.184Z"
   },
   {
    "duration": 6,
    "start_time": "2024-04-25T15:46:40.619Z"
   },
   {
    "duration": 24,
    "start_time": "2024-04-25T15:51:33.955Z"
   },
   {
    "duration": 465,
    "start_time": "2024-04-25T15:57:35.694Z"
   },
   {
    "duration": 472,
    "start_time": "2024-04-25T15:58:45.798Z"
   },
   {
    "duration": 184,
    "start_time": "2024-04-25T16:00:01.518Z"
   },
   {
    "duration": 160,
    "start_time": "2024-04-25T16:00:24.037Z"
   },
   {
    "duration": 168,
    "start_time": "2024-04-25T16:00:38.541Z"
   },
   {
    "duration": 6,
    "start_time": "2024-04-25T16:00:42.696Z"
   },
   {
    "duration": 569,
    "start_time": "2024-04-25T16:01:24.878Z"
   },
   {
    "duration": 474,
    "start_time": "2024-04-25T16:01:55.839Z"
   },
   {
    "duration": 484,
    "start_time": "2024-04-25T16:03:09.438Z"
   },
   {
    "duration": 455,
    "start_time": "2024-04-25T16:04:29.212Z"
   },
   {
    "duration": 532,
    "start_time": "2024-04-25T16:06:49.941Z"
   },
   {
    "duration": 571,
    "start_time": "2024-04-25T16:07:45.838Z"
   },
   {
    "duration": 442,
    "start_time": "2024-04-25T16:08:14.262Z"
   },
   {
    "duration": 175,
    "start_time": "2024-04-25T16:08:56.736Z"
   },
   {
    "duration": 495,
    "start_time": "2024-04-25T16:09:16.841Z"
   },
   {
    "duration": 426,
    "start_time": "2024-04-25T16:11:10.259Z"
   },
   {
    "duration": 6,
    "start_time": "2024-04-25T16:12:20.581Z"
   },
   {
    "duration": 471,
    "start_time": "2024-04-25T16:13:17.387Z"
   },
   {
    "duration": 554,
    "start_time": "2024-04-25T16:14:12.806Z"
   },
   {
    "duration": 437,
    "start_time": "2024-04-25T16:14:28.786Z"
   },
   {
    "duration": 445,
    "start_time": "2024-04-25T16:16:55.139Z"
   },
   {
    "duration": 415,
    "start_time": "2024-04-25T16:17:35.016Z"
   },
   {
    "duration": 407,
    "start_time": "2024-04-25T16:18:28.432Z"
   },
   {
    "duration": 434,
    "start_time": "2024-04-25T16:20:00.226Z"
   },
   {
    "duration": 540,
    "start_time": "2024-04-25T16:20:14.393Z"
   },
   {
    "duration": 410,
    "start_time": "2024-04-25T16:24:49.388Z"
   },
   {
    "duration": 414,
    "start_time": "2024-04-25T16:25:02.597Z"
   },
   {
    "duration": 182,
    "start_time": "2024-04-25T16:28:10.956Z"
   },
   {
    "duration": 139,
    "start_time": "2024-04-25T16:53:43.909Z"
   },
   {
    "duration": 279,
    "start_time": "2024-04-25T16:53:52.889Z"
   },
   {
    "duration": 18,
    "start_time": "2024-04-25T16:56:38.739Z"
   },
   {
    "duration": 14,
    "start_time": "2024-04-25T16:57:02.476Z"
   },
   {
    "duration": 300,
    "start_time": "2024-04-25T16:57:30.764Z"
   },
   {
    "duration": 13,
    "start_time": "2024-04-25T17:11:45.504Z"
   },
   {
    "duration": 333,
    "start_time": "2024-04-25T17:12:03.846Z"
   },
   {
    "duration": 12,
    "start_time": "2024-04-25T17:12:12.902Z"
   },
   {
    "duration": 21,
    "start_time": "2024-04-25T17:15:44.634Z"
   },
   {
    "duration": 424,
    "start_time": "2024-04-25T17:18:29.038Z"
   },
   {
    "duration": 145,
    "start_time": "2024-04-25T17:18:52.582Z"
   },
   {
    "duration": 138,
    "start_time": "2024-04-25T17:19:10.837Z"
   },
   {
    "duration": 127,
    "start_time": "2024-04-25T17:21:31.148Z"
   },
   {
    "duration": 131,
    "start_time": "2024-04-25T17:21:38.678Z"
   },
   {
    "duration": 67,
    "start_time": "2024-04-25T17:26:47.364Z"
   },
   {
    "duration": 147,
    "start_time": "2024-04-25T17:27:11.176Z"
   },
   {
    "duration": 1061,
    "start_time": "2024-04-25T17:28:43.129Z"
   },
   {
    "duration": 1177,
    "start_time": "2024-04-25T17:29:15.902Z"
   },
   {
    "duration": 625,
    "start_time": "2024-04-25T17:29:17.081Z"
   },
   {
    "duration": 22,
    "start_time": "2024-04-25T17:29:17.708Z"
   },
   {
    "duration": 11,
    "start_time": "2024-04-25T17:29:17.731Z"
   },
   {
    "duration": 33,
    "start_time": "2024-04-25T17:29:17.743Z"
   },
   {
    "duration": 7,
    "start_time": "2024-04-25T17:29:17.777Z"
   },
   {
    "duration": 16,
    "start_time": "2024-04-25T17:29:17.785Z"
   },
   {
    "duration": 14,
    "start_time": "2024-04-25T17:29:17.802Z"
   },
   {
    "duration": 24,
    "start_time": "2024-04-25T17:29:17.817Z"
   },
   {
    "duration": 336,
    "start_time": "2024-04-25T17:29:17.860Z"
   },
   {
    "duration": 10,
    "start_time": "2024-04-25T17:29:18.198Z"
   },
   {
    "duration": 12,
    "start_time": "2024-04-25T17:29:18.210Z"
   },
   {
    "duration": 37,
    "start_time": "2024-04-25T17:29:18.223Z"
   },
   {
    "duration": 2074,
    "start_time": "2024-04-25T17:29:18.261Z"
   },
   {
    "duration": 28,
    "start_time": "2024-04-25T17:29:20.336Z"
   },
   {
    "duration": 49,
    "start_time": "2024-04-25T17:29:20.365Z"
   },
   {
    "duration": 283,
    "start_time": "2024-04-25T17:29:20.415Z"
   },
   {
    "duration": 288,
    "start_time": "2024-04-25T17:29:20.699Z"
   },
   {
    "duration": 24,
    "start_time": "2024-04-25T17:29:20.988Z"
   },
   {
    "duration": 199,
    "start_time": "2024-04-25T17:29:21.014Z"
   },
   {
    "duration": 188,
    "start_time": "2024-04-25T17:29:21.214Z"
   },
   {
    "duration": 12,
    "start_time": "2024-04-25T17:29:21.404Z"
   },
   {
    "duration": 40,
    "start_time": "2024-04-25T17:29:21.418Z"
   },
   {
    "duration": 552,
    "start_time": "2024-04-25T17:29:21.461Z"
   },
   {
    "duration": 440,
    "start_time": "2024-04-25T17:29:22.015Z"
   },
   {
    "duration": 197,
    "start_time": "2024-04-25T17:29:22.456Z"
   },
   {
    "duration": 1161,
    "start_time": "2024-04-25T17:29:22.659Z"
   },
   {
    "duration": 0,
    "start_time": "2024-04-25T17:29:23.822Z"
   },
   {
    "duration": 0,
    "start_time": "2024-04-25T17:29:23.823Z"
   },
   {
    "duration": 0,
    "start_time": "2024-04-25T17:29:23.824Z"
   },
   {
    "duration": 0,
    "start_time": "2024-04-25T17:29:23.825Z"
   },
   {
    "duration": 0,
    "start_time": "2024-04-25T17:29:23.827Z"
   },
   {
    "duration": 0,
    "start_time": "2024-04-25T17:29:23.828Z"
   },
   {
    "duration": 0,
    "start_time": "2024-04-25T17:29:23.829Z"
   },
   {
    "duration": 0,
    "start_time": "2024-04-25T17:29:23.830Z"
   },
   {
    "duration": 0,
    "start_time": "2024-04-25T17:29:23.832Z"
   },
   {
    "duration": 0,
    "start_time": "2024-04-25T17:29:23.833Z"
   },
   {
    "duration": 1030,
    "start_time": "2024-04-25T17:29:37.120Z"
   },
   {
    "duration": 150,
    "start_time": "2024-04-25T17:31:14.977Z"
   },
   {
    "duration": 14,
    "start_time": "2024-04-25T17:32:34.152Z"
   },
   {
    "duration": 18,
    "start_time": "2024-04-25T17:32:48.577Z"
   },
   {
    "duration": 20,
    "start_time": "2024-04-25T17:33:54.114Z"
   },
   {
    "duration": 68,
    "start_time": "2024-04-25T17:34:13.496Z"
   },
   {
    "duration": 20,
    "start_time": "2024-04-25T17:34:24.704Z"
   },
   {
    "duration": 22,
    "start_time": "2024-04-25T17:34:55.583Z"
   },
   {
    "duration": 17,
    "start_time": "2024-04-25T17:35:56.577Z"
   },
   {
    "duration": 68,
    "start_time": "2024-04-25T17:36:16.255Z"
   },
   {
    "duration": 71,
    "start_time": "2024-04-25T17:36:21.335Z"
   },
   {
    "duration": 16,
    "start_time": "2024-04-25T17:36:31.287Z"
   },
   {
    "duration": 18,
    "start_time": "2024-04-25T17:37:07.695Z"
   },
   {
    "duration": 20,
    "start_time": "2024-04-25T17:37:18.766Z"
   },
   {
    "duration": 22,
    "start_time": "2024-04-25T17:43:24.635Z"
   },
   {
    "duration": 18,
    "start_time": "2024-04-25T17:44:19.238Z"
   },
   {
    "duration": 16,
    "start_time": "2024-04-25T17:44:57.694Z"
   },
   {
    "duration": 17,
    "start_time": "2024-04-25T17:45:04.637Z"
   },
   {
    "duration": 19,
    "start_time": "2024-04-25T17:45:20.382Z"
   },
   {
    "duration": 24,
    "start_time": "2024-04-25T17:45:36.334Z"
   },
   {
    "duration": 19,
    "start_time": "2024-04-25T17:45:46.310Z"
   },
   {
    "duration": 21,
    "start_time": "2024-04-25T17:46:12.455Z"
   },
   {
    "duration": 17,
    "start_time": "2024-04-25T17:46:30.636Z"
   },
   {
    "duration": 19,
    "start_time": "2024-04-25T17:47:00.190Z"
   },
   {
    "duration": 15,
    "start_time": "2024-04-25T17:47:24.121Z"
   },
   {
    "duration": 18,
    "start_time": "2024-04-25T17:48:44.848Z"
   },
   {
    "duration": 14,
    "start_time": "2024-04-25T17:49:23.653Z"
   },
   {
    "duration": 1221,
    "start_time": "2024-04-25T17:50:29.828Z"
   },
   {
    "duration": 1180,
    "start_time": "2024-04-25T17:50:44.356Z"
   },
   {
    "duration": 15,
    "start_time": "2024-04-25T17:51:16.364Z"
   },
   {
    "duration": 16,
    "start_time": "2024-04-25T17:51:53.828Z"
   },
   {
    "duration": 148,
    "start_time": "2024-04-25T17:53:27.484Z"
   },
   {
    "duration": 146,
    "start_time": "2024-04-25T17:53:39.939Z"
   },
   {
    "duration": 1155,
    "start_time": "2024-04-25T17:53:57.379Z"
   },
   {
    "duration": 1244,
    "start_time": "2024-04-25T17:54:08.908Z"
   },
   {
    "duration": 163,
    "start_time": "2024-04-25T17:54:20.724Z"
   },
   {
    "duration": 15,
    "start_time": "2024-04-25T17:54:30.283Z"
   },
   {
    "duration": 16,
    "start_time": "2024-04-25T17:54:54.138Z"
   },
   {
    "duration": 279,
    "start_time": "2024-04-25T17:58:56.386Z"
   },
   {
    "duration": 1202,
    "start_time": "2024-04-26T16:55:03.406Z"
   },
   {
    "duration": 537,
    "start_time": "2024-04-26T16:55:04.610Z"
   },
   {
    "duration": 19,
    "start_time": "2024-04-26T16:55:05.149Z"
   },
   {
    "duration": 10,
    "start_time": "2024-04-26T16:55:05.170Z"
   },
   {
    "duration": 27,
    "start_time": "2024-04-26T16:55:05.182Z"
   },
   {
    "duration": 8,
    "start_time": "2024-04-26T16:55:05.211Z"
   },
   {
    "duration": 8,
    "start_time": "2024-04-26T16:55:05.220Z"
   },
   {
    "duration": 11,
    "start_time": "2024-04-26T16:55:05.230Z"
   },
   {
    "duration": 31,
    "start_time": "2024-04-26T16:55:05.243Z"
   },
   {
    "duration": 274,
    "start_time": "2024-04-26T16:55:05.276Z"
   },
   {
    "duration": 8,
    "start_time": "2024-04-26T16:55:05.552Z"
   },
   {
    "duration": 21,
    "start_time": "2024-04-26T16:55:05.562Z"
   },
   {
    "duration": 25,
    "start_time": "2024-04-26T16:55:05.584Z"
   },
   {
    "duration": 1618,
    "start_time": "2024-04-26T16:55:05.610Z"
   },
   {
    "duration": 19,
    "start_time": "2024-04-26T16:55:07.230Z"
   },
   {
    "duration": 19,
    "start_time": "2024-04-26T16:55:07.250Z"
   },
   {
    "duration": 245,
    "start_time": "2024-04-26T16:55:07.270Z"
   },
   {
    "duration": 241,
    "start_time": "2024-04-26T16:55:07.516Z"
   },
   {
    "duration": 20,
    "start_time": "2024-04-26T16:55:07.758Z"
   },
   {
    "duration": 141,
    "start_time": "2024-04-26T16:55:07.780Z"
   },
   {
    "duration": 141,
    "start_time": "2024-04-26T16:55:07.922Z"
   },
   {
    "duration": 10,
    "start_time": "2024-04-26T16:55:08.064Z"
   },
   {
    "duration": 25,
    "start_time": "2024-04-26T16:55:08.075Z"
   },
   {
    "duration": 434,
    "start_time": "2024-04-26T16:55:08.101Z"
   },
   {
    "duration": 330,
    "start_time": "2024-04-26T16:55:08.537Z"
   },
   {
    "duration": 157,
    "start_time": "2024-04-26T16:55:08.868Z"
   },
   {
    "duration": 10,
    "start_time": "2024-04-26T16:55:09.026Z"
   },
   {
    "duration": 166,
    "start_time": "2024-04-26T16:55:09.039Z"
   },
   {
    "duration": 149,
    "start_time": "2024-04-26T16:55:09.212Z"
   },
   {
    "duration": 193,
    "start_time": "2024-04-26T16:55:09.362Z"
   },
   {
    "duration": 182,
    "start_time": "2024-04-26T16:55:09.556Z"
   },
   {
    "duration": 184,
    "start_time": "2024-04-26T16:55:09.740Z"
   },
   {
    "duration": 137,
    "start_time": "2024-04-26T16:55:09.925Z"
   },
   {
    "duration": 130,
    "start_time": "2024-04-26T16:55:10.064Z"
   },
   {
    "duration": 229,
    "start_time": "2024-04-26T16:55:10.201Z"
   },
   {
    "duration": 9,
    "start_time": "2024-04-26T16:55:10.431Z"
   },
   {
    "duration": 10,
    "start_time": "2024-04-26T16:55:10.441Z"
   },
   {
    "duration": 91,
    "start_time": "2024-04-26T17:11:54.024Z"
   },
   {
    "duration": 9,
    "start_time": "2024-04-26T17:16:28.755Z"
   },
   {
    "duration": 10,
    "start_time": "2024-04-26T17:16:41.380Z"
   },
   {
    "duration": 9,
    "start_time": "2024-04-26T17:16:59.348Z"
   },
   {
    "duration": 10,
    "start_time": "2024-04-26T17:20:37.986Z"
   },
   {
    "duration": 14,
    "start_time": "2024-04-26T17:20:44.202Z"
   },
   {
    "duration": 13,
    "start_time": "2024-04-26T17:20:58.973Z"
   },
   {
    "duration": 9,
    "start_time": "2024-04-26T17:21:34.058Z"
   },
   {
    "duration": 12,
    "start_time": "2024-04-26T17:22:14.634Z"
   },
   {
    "duration": 11,
    "start_time": "2024-04-26T17:22:26.912Z"
   },
   {
    "duration": 13,
    "start_time": "2024-04-26T17:22:48.489Z"
   },
   {
    "duration": 13,
    "start_time": "2024-04-26T17:32:34.301Z"
   },
   {
    "duration": 86,
    "start_time": "2024-04-26T17:36:12.763Z"
   },
   {
    "duration": 16,
    "start_time": "2024-04-26T17:37:18.177Z"
   },
   {
    "duration": 18,
    "start_time": "2024-04-26T17:37:45.849Z"
   },
   {
    "duration": 16,
    "start_time": "2024-04-26T17:38:08.218Z"
   },
   {
    "duration": 207,
    "start_time": "2024-04-26T17:38:32.154Z"
   },
   {
    "duration": 11,
    "start_time": "2024-04-26T17:38:45.898Z"
   },
   {
    "duration": 20,
    "start_time": "2024-04-26T17:40:51.497Z"
   },
   {
    "duration": 145,
    "start_time": "2024-04-26T17:41:03.437Z"
   },
   {
    "duration": 170,
    "start_time": "2024-04-26T17:41:23.489Z"
   },
   {
    "duration": 16,
    "start_time": "2024-04-26T17:41:50.178Z"
   },
   {
    "duration": 17,
    "start_time": "2024-04-26T17:42:05.745Z"
   },
   {
    "duration": 16,
    "start_time": "2024-04-26T17:42:15.670Z"
   },
   {
    "duration": 176,
    "start_time": "2024-04-26T17:42:19.809Z"
   },
   {
    "duration": 17,
    "start_time": "2024-04-26T17:42:36.156Z"
   },
   {
    "duration": 1946,
    "start_time": "2024-04-26T17:43:01.809Z"
   },
   {
    "duration": 173,
    "start_time": "2024-04-26T17:43:14.314Z"
   },
   {
    "duration": 15,
    "start_time": "2024-04-26T17:43:55.696Z"
   },
   {
    "duration": 189,
    "start_time": "2024-04-26T17:44:17.049Z"
   },
   {
    "duration": 176,
    "start_time": "2024-04-26T17:44:43.258Z"
   },
   {
    "duration": 173,
    "start_time": "2024-04-26T17:44:55.864Z"
   },
   {
    "duration": 177,
    "start_time": "2024-04-26T17:45:14.272Z"
   },
   {
    "duration": 19,
    "start_time": "2024-04-26T17:45:18.929Z"
   },
   {
    "duration": 187,
    "start_time": "2024-04-26T17:45:28.497Z"
   },
   {
    "duration": 158,
    "start_time": "2024-04-26T17:45:36.939Z"
   },
   {
    "duration": 236,
    "start_time": "2024-04-26T17:46:06.096Z"
   },
   {
    "duration": 170,
    "start_time": "2024-04-26T17:46:57.924Z"
   },
   {
    "duration": 148,
    "start_time": "2024-04-26T17:46:58.507Z"
   },
   {
    "duration": 160,
    "start_time": "2024-04-26T17:46:58.657Z"
   },
   {
    "duration": 163,
    "start_time": "2024-04-26T17:47:08.096Z"
   },
   {
    "duration": 21,
    "start_time": "2024-04-26T17:55:45.657Z"
   },
   {
    "duration": 817,
    "start_time": "2024-04-26T17:56:34.964Z"
   },
   {
    "duration": 21,
    "start_time": "2024-04-26T17:57:34.488Z"
   },
   {
    "duration": 175,
    "start_time": "2024-04-26T18:01:15.016Z"
   },
   {
    "duration": 129,
    "start_time": "2024-04-26T18:04:27.916Z"
   },
   {
    "duration": 13,
    "start_time": "2024-04-26T18:04:44.771Z"
   },
   {
    "duration": 206,
    "start_time": "2024-04-26T18:05:04.199Z"
   },
   {
    "duration": 12,
    "start_time": "2024-04-26T18:05:34.406Z"
   },
   {
    "duration": 12,
    "start_time": "2024-04-26T18:06:08.411Z"
   },
   {
    "duration": 176,
    "start_time": "2024-04-26T18:06:26.382Z"
   },
   {
    "duration": 784,
    "start_time": "2024-04-26T18:09:53.634Z"
   },
   {
    "duration": 161,
    "start_time": "2024-04-26T18:10:07.712Z"
   },
   {
    "duration": 169,
    "start_time": "2024-04-26T18:10:35.064Z"
   },
   {
    "duration": 154,
    "start_time": "2024-04-26T18:10:43.641Z"
   },
   {
    "duration": 9,
    "start_time": "2024-04-26T18:19:56.309Z"
   },
   {
    "duration": 270,
    "start_time": "2024-04-26T18:20:00.100Z"
   },
   {
    "duration": 174,
    "start_time": "2024-04-26T18:20:01.132Z"
   },
   {
    "duration": 9,
    "start_time": "2024-04-26T18:20:49.055Z"
   },
   {
    "duration": 58,
    "start_time": "2024-04-26T18:21:16.948Z"
   },
   {
    "duration": 90,
    "start_time": "2024-04-26T18:21:29.916Z"
   },
   {
    "duration": 9,
    "start_time": "2024-04-26T18:22:00.838Z"
   },
   {
    "duration": 173,
    "start_time": "2024-04-26T18:23:04.085Z"
   },
   {
    "duration": 174,
    "start_time": "2024-04-26T18:23:54.231Z"
   },
   {
    "duration": 173,
    "start_time": "2024-04-26T18:24:13.498Z"
   },
   {
    "duration": 139,
    "start_time": "2024-04-26T18:32:29.247Z"
   },
   {
    "duration": 7,
    "start_time": "2024-04-26T18:38:55.815Z"
   },
   {
    "duration": 8,
    "start_time": "2024-04-26T18:45:06.909Z"
   },
   {
    "duration": 4,
    "start_time": "2024-04-26T18:45:42.853Z"
   },
   {
    "duration": 10,
    "start_time": "2024-04-26T18:45:59.013Z"
   },
   {
    "duration": 10,
    "start_time": "2024-04-26T18:46:14.648Z"
   },
   {
    "duration": 4,
    "start_time": "2024-04-26T18:46:17.164Z"
   },
   {
    "duration": 8,
    "start_time": "2024-04-26T18:47:44.623Z"
   },
   {
    "duration": 3,
    "start_time": "2024-04-26T18:49:03.984Z"
   },
   {
    "duration": 723,
    "start_time": "2024-04-26T18:54:48.874Z"
   },
   {
    "duration": 985,
    "start_time": "2024-04-26T18:54:56.655Z"
   },
   {
    "duration": 439,
    "start_time": "2024-04-26T18:54:57.641Z"
   },
   {
    "duration": 16,
    "start_time": "2024-04-26T18:54:58.081Z"
   },
   {
    "duration": 4,
    "start_time": "2024-04-26T18:54:58.101Z"
   },
   {
    "duration": 18,
    "start_time": "2024-04-26T18:54:58.106Z"
   },
   {
    "duration": 5,
    "start_time": "2024-04-26T18:54:58.125Z"
   },
   {
    "duration": 7,
    "start_time": "2024-04-26T18:54:58.131Z"
   },
   {
    "duration": 3,
    "start_time": "2024-04-26T18:54:58.139Z"
   },
   {
    "duration": 12,
    "start_time": "2024-04-26T18:54:58.143Z"
   },
   {
    "duration": 18,
    "start_time": "2024-04-26T18:54:58.157Z"
   },
   {
    "duration": 287,
    "start_time": "2024-04-26T18:54:58.176Z"
   },
   {
    "duration": 8,
    "start_time": "2024-04-26T18:54:58.465Z"
   },
   {
    "duration": 12,
    "start_time": "2024-04-26T18:54:58.474Z"
   },
   {
    "duration": 30,
    "start_time": "2024-04-26T18:54:58.487Z"
   },
   {
    "duration": 1554,
    "start_time": "2024-04-26T18:54:58.518Z"
   },
   {
    "duration": 17,
    "start_time": "2024-04-26T18:55:00.074Z"
   },
   {
    "duration": 79,
    "start_time": "2024-04-26T18:55:00.093Z"
   },
   {
    "duration": 282,
    "start_time": "2024-04-26T18:55:00.174Z"
   },
   {
    "duration": 234,
    "start_time": "2024-04-26T18:55:00.457Z"
   },
   {
    "duration": 23,
    "start_time": "2024-04-26T18:55:00.692Z"
   },
   {
    "duration": 188,
    "start_time": "2024-04-26T18:55:00.717Z"
   },
   {
    "duration": 139,
    "start_time": "2024-04-26T18:55:00.907Z"
   },
   {
    "duration": 10,
    "start_time": "2024-04-26T18:55:01.047Z"
   },
   {
    "duration": 59,
    "start_time": "2024-04-26T18:55:01.058Z"
   },
   {
    "duration": 463,
    "start_time": "2024-04-26T18:55:01.118Z"
   },
   {
    "duration": 338,
    "start_time": "2024-04-26T18:55:01.582Z"
   },
   {
    "duration": 156,
    "start_time": "2024-04-26T18:55:01.921Z"
   },
   {
    "duration": 169,
    "start_time": "2024-04-26T18:55:02.080Z"
   },
   {
    "duration": 170,
    "start_time": "2024-04-26T18:55:02.250Z"
   },
   {
    "duration": 170,
    "start_time": "2024-04-26T18:55:02.421Z"
   },
   {
    "duration": 189,
    "start_time": "2024-04-26T18:55:02.592Z"
   },
   {
    "duration": 192,
    "start_time": "2024-04-26T18:55:02.783Z"
   },
   {
    "duration": 186,
    "start_time": "2024-04-26T18:55:02.976Z"
   },
   {
    "duration": 157,
    "start_time": "2024-04-26T18:55:03.163Z"
   },
   {
    "duration": 134,
    "start_time": "2024-04-26T18:55:03.322Z"
   },
   {
    "duration": 212,
    "start_time": "2024-04-26T18:55:03.458Z"
   },
   {
    "duration": 8,
    "start_time": "2024-04-26T18:55:03.671Z"
   },
   {
    "duration": 29,
    "start_time": "2024-04-26T18:55:03.680Z"
   },
   {
    "duration": 29,
    "start_time": "2024-04-26T18:55:03.710Z"
   },
   {
    "duration": 11,
    "start_time": "2024-04-26T18:55:03.740Z"
   },
   {
    "duration": 981,
    "start_time": "2024-04-26T19:02:27.042Z"
   },
   {
    "duration": 441,
    "start_time": "2024-04-26T19:02:28.024Z"
   },
   {
    "duration": 17,
    "start_time": "2024-04-26T19:02:28.466Z"
   },
   {
    "duration": 11,
    "start_time": "2024-04-26T19:02:28.485Z"
   },
   {
    "duration": 23,
    "start_time": "2024-04-26T19:02:28.497Z"
   },
   {
    "duration": 11,
    "start_time": "2024-04-26T19:02:28.521Z"
   },
   {
    "duration": 15,
    "start_time": "2024-04-26T19:02:28.534Z"
   },
   {
    "duration": 3,
    "start_time": "2024-04-26T19:02:28.550Z"
   },
   {
    "duration": 19,
    "start_time": "2024-04-26T19:02:28.554Z"
   },
   {
    "duration": 17,
    "start_time": "2024-04-26T19:02:28.575Z"
   },
   {
    "duration": 252,
    "start_time": "2024-04-26T19:02:28.593Z"
   },
   {
    "duration": 8,
    "start_time": "2024-04-26T19:02:28.847Z"
   },
   {
    "duration": 11,
    "start_time": "2024-04-26T19:02:28.856Z"
   },
   {
    "duration": 20,
    "start_time": "2024-04-26T19:02:28.868Z"
   },
   {
    "duration": 1609,
    "start_time": "2024-04-26T19:02:28.902Z"
   },
   {
    "duration": 17,
    "start_time": "2024-04-26T19:02:30.513Z"
   },
   {
    "duration": 65,
    "start_time": "2024-04-26T19:02:30.531Z"
   },
   {
    "duration": 290,
    "start_time": "2024-04-26T19:02:30.597Z"
   },
   {
    "duration": 236,
    "start_time": "2024-04-26T19:02:30.888Z"
   },
   {
    "duration": 19,
    "start_time": "2024-04-26T19:02:31.125Z"
   },
   {
    "duration": 174,
    "start_time": "2024-04-26T19:02:31.146Z"
   },
   {
    "duration": 140,
    "start_time": "2024-04-26T19:02:31.321Z"
   },
   {
    "duration": 11,
    "start_time": "2024-04-26T19:02:31.462Z"
   },
   {
    "duration": 19,
    "start_time": "2024-04-26T19:02:31.475Z"
   },
   {
    "duration": 429,
    "start_time": "2024-04-26T19:02:31.495Z"
   },
   {
    "duration": 340,
    "start_time": "2024-04-26T19:02:31.926Z"
   },
   {
    "duration": 163,
    "start_time": "2024-04-26T19:02:32.267Z"
   },
   {
    "duration": 176,
    "start_time": "2024-04-26T19:02:32.432Z"
   },
   {
    "duration": 159,
    "start_time": "2024-04-26T19:02:32.609Z"
   },
   {
    "duration": 160,
    "start_time": "2024-04-26T19:02:32.770Z"
   },
   {
    "duration": 183,
    "start_time": "2024-04-26T19:02:32.931Z"
   },
   {
    "duration": 201,
    "start_time": "2024-04-26T19:02:33.115Z"
   },
   {
    "duration": 174,
    "start_time": "2024-04-26T19:02:33.317Z"
   },
   {
    "duration": 146,
    "start_time": "2024-04-26T19:02:33.492Z"
   },
   {
    "duration": 129,
    "start_time": "2024-04-26T19:02:33.639Z"
   },
   {
    "duration": 189,
    "start_time": "2024-04-26T19:02:33.769Z"
   },
   {
    "duration": 8,
    "start_time": "2024-04-26T19:02:33.959Z"
   },
   {
    "duration": 5,
    "start_time": "2024-04-26T19:02:33.968Z"
   },
   {
    "duration": 12,
    "start_time": "2024-04-26T19:02:33.974Z"
   },
   {
    "duration": 16,
    "start_time": "2024-04-26T19:02:33.987Z"
   },
   {
    "duration": 1190,
    "start_time": "2024-04-27T15:19:26.659Z"
   },
   {
    "duration": 549,
    "start_time": "2024-04-27T15:19:27.851Z"
   },
   {
    "duration": 21,
    "start_time": "2024-04-27T15:19:28.402Z"
   },
   {
    "duration": 20,
    "start_time": "2024-04-27T15:19:28.426Z"
   },
   {
    "duration": 37,
    "start_time": "2024-04-27T15:19:28.447Z"
   },
   {
    "duration": 15,
    "start_time": "2024-04-27T15:19:28.485Z"
   },
   {
    "duration": 21,
    "start_time": "2024-04-27T15:19:28.502Z"
   },
   {
    "duration": 13,
    "start_time": "2024-04-27T15:19:28.524Z"
   },
   {
    "duration": 28,
    "start_time": "2024-04-27T15:19:28.538Z"
   },
   {
    "duration": 26,
    "start_time": "2024-04-27T15:19:28.569Z"
   },
   {
    "duration": 327,
    "start_time": "2024-04-27T15:19:28.597Z"
   },
   {
    "duration": 19,
    "start_time": "2024-04-27T15:19:28.926Z"
   },
   {
    "duration": 10,
    "start_time": "2024-04-27T15:19:28.947Z"
   },
   {
    "duration": 42,
    "start_time": "2024-04-27T15:19:28.958Z"
   },
   {
    "duration": 1819,
    "start_time": "2024-04-27T15:19:29.001Z"
   },
   {
    "duration": 29,
    "start_time": "2024-04-27T15:19:30.822Z"
   },
   {
    "duration": 56,
    "start_time": "2024-04-27T15:19:30.852Z"
   },
   {
    "duration": 262,
    "start_time": "2024-04-27T15:19:30.909Z"
   },
   {
    "duration": 274,
    "start_time": "2024-04-27T15:19:31.172Z"
   },
   {
    "duration": 23,
    "start_time": "2024-04-27T15:19:31.448Z"
   },
   {
    "duration": 182,
    "start_time": "2024-04-27T15:19:31.473Z"
   },
   {
    "duration": 156,
    "start_time": "2024-04-27T15:19:31.657Z"
   },
   {
    "duration": 12,
    "start_time": "2024-04-27T15:19:31.815Z"
   },
   {
    "duration": 86,
    "start_time": "2024-04-27T15:19:31.828Z"
   },
   {
    "duration": 483,
    "start_time": "2024-04-27T15:19:31.915Z"
   },
   {
    "duration": 378,
    "start_time": "2024-04-27T15:19:32.399Z"
   },
   {
    "duration": 200,
    "start_time": "2024-04-27T15:19:32.778Z"
   },
   {
    "duration": 205,
    "start_time": "2024-04-27T15:19:32.981Z"
   },
   {
    "duration": 193,
    "start_time": "2024-04-27T15:19:33.188Z"
   },
   {
    "duration": 198,
    "start_time": "2024-04-27T15:19:33.383Z"
   },
   {
    "duration": 208,
    "start_time": "2024-04-27T15:19:33.582Z"
   },
   {
    "duration": 203,
    "start_time": "2024-04-27T15:19:33.792Z"
   },
   {
    "duration": 219,
    "start_time": "2024-04-27T15:19:33.997Z"
   },
   {
    "duration": 165,
    "start_time": "2024-04-27T15:19:34.218Z"
   },
   {
    "duration": 151,
    "start_time": "2024-04-27T15:19:34.385Z"
   },
   {
    "duration": 240,
    "start_time": "2024-04-27T15:19:34.537Z"
   },
   {
    "duration": 9,
    "start_time": "2024-04-27T15:19:34.778Z"
   },
   {
    "duration": 9,
    "start_time": "2024-04-27T15:19:34.789Z"
   },
   {
    "duration": 9,
    "start_time": "2024-04-27T15:19:34.799Z"
   },
   {
    "duration": 10,
    "start_time": "2024-04-27T15:19:34.809Z"
   },
   {
    "duration": 7,
    "start_time": "2024-04-27T15:21:08.267Z"
   },
   {
    "duration": 22,
    "start_time": "2024-04-27T15:29:29.151Z"
   },
   {
    "duration": 1171,
    "start_time": "2024-04-27T15:31:15.148Z"
   },
   {
    "duration": 537,
    "start_time": "2024-04-27T15:31:16.320Z"
   },
   {
    "duration": 21,
    "start_time": "2024-04-27T15:31:16.858Z"
   },
   {
    "duration": 6,
    "start_time": "2024-04-27T15:31:16.880Z"
   },
   {
    "duration": 27,
    "start_time": "2024-04-27T15:31:16.888Z"
   },
   {
    "duration": 28,
    "start_time": "2024-04-27T15:31:16.917Z"
   },
   {
    "duration": 10,
    "start_time": "2024-04-27T15:31:16.947Z"
   },
   {
    "duration": 5,
    "start_time": "2024-04-27T15:31:16.958Z"
   },
   {
    "duration": 12,
    "start_time": "2024-04-27T15:31:16.965Z"
   },
   {
    "duration": 24,
    "start_time": "2024-04-27T15:31:16.979Z"
   },
   {
    "duration": 389,
    "start_time": "2024-04-27T15:31:17.004Z"
   },
   {
    "duration": 10,
    "start_time": "2024-04-27T15:31:17.394Z"
   },
   {
    "duration": 8,
    "start_time": "2024-04-27T15:31:17.405Z"
   },
   {
    "duration": 44,
    "start_time": "2024-04-27T15:31:17.415Z"
   },
   {
    "duration": 1920,
    "start_time": "2024-04-27T15:31:17.460Z"
   },
   {
    "duration": 7,
    "start_time": "2024-04-27T15:31:19.382Z"
   },
   {
    "duration": 23,
    "start_time": "2024-04-27T15:31:19.390Z"
   },
   {
    "duration": 46,
    "start_time": "2024-04-27T15:31:19.414Z"
   },
   {
    "duration": 306,
    "start_time": "2024-04-27T15:31:19.462Z"
   },
   {
    "duration": 269,
    "start_time": "2024-04-27T15:31:19.770Z"
   },
   {
    "duration": 25,
    "start_time": "2024-04-27T15:31:20.040Z"
   },
   {
    "duration": 181,
    "start_time": "2024-04-27T15:31:20.066Z"
   },
   {
    "duration": 171,
    "start_time": "2024-04-27T15:31:20.250Z"
   },
   {
    "duration": 22,
    "start_time": "2024-04-27T15:31:20.423Z"
   },
   {
    "duration": 8,
    "start_time": "2024-04-27T15:31:20.447Z"
   },
   {
    "duration": 618,
    "start_time": "2024-04-27T15:31:20.457Z"
   },
   {
    "duration": 530,
    "start_time": "2024-04-27T15:31:21.076Z"
   },
   {
    "duration": 199,
    "start_time": "2024-04-27T15:31:21.607Z"
   },
   {
    "duration": 226,
    "start_time": "2024-04-27T15:31:21.808Z"
   },
   {
    "duration": 212,
    "start_time": "2024-04-27T15:31:22.035Z"
   },
   {
    "duration": 209,
    "start_time": "2024-04-27T15:31:22.249Z"
   },
   {
    "duration": 211,
    "start_time": "2024-04-27T15:31:22.460Z"
   },
   {
    "duration": 209,
    "start_time": "2024-04-27T15:31:22.672Z"
   },
   {
    "duration": 206,
    "start_time": "2024-04-27T15:31:22.882Z"
   },
   {
    "duration": 152,
    "start_time": "2024-04-27T15:31:23.090Z"
   },
   {
    "duration": 139,
    "start_time": "2024-04-27T15:31:23.245Z"
   },
   {
    "duration": 234,
    "start_time": "2024-04-27T15:31:23.386Z"
   },
   {
    "duration": 9,
    "start_time": "2024-04-27T15:31:23.621Z"
   },
   {
    "duration": 14,
    "start_time": "2024-04-27T15:31:23.632Z"
   },
   {
    "duration": 21,
    "start_time": "2024-04-27T15:31:23.648Z"
   },
   {
    "duration": 7,
    "start_time": "2024-04-27T15:31:23.672Z"
   },
   {
    "duration": 46,
    "start_time": "2024-04-27T15:47:51.726Z"
   },
   {
    "duration": 1325,
    "start_time": "2024-04-27T15:49:42.065Z"
   },
   {
    "duration": 710,
    "start_time": "2024-04-27T15:49:43.392Z"
   },
   {
    "duration": 20,
    "start_time": "2024-04-27T15:49:44.103Z"
   },
   {
    "duration": 14,
    "start_time": "2024-04-27T15:49:44.125Z"
   },
   {
    "duration": 33,
    "start_time": "2024-04-27T15:49:44.141Z"
   },
   {
    "duration": 6,
    "start_time": "2024-04-27T15:49:44.176Z"
   },
   {
    "duration": 20,
    "start_time": "2024-04-27T15:49:44.183Z"
   },
   {
    "duration": 8,
    "start_time": "2024-04-27T15:49:44.204Z"
   },
   {
    "duration": 19,
    "start_time": "2024-04-27T15:49:44.214Z"
   },
   {
    "duration": 41,
    "start_time": "2024-04-27T15:49:44.234Z"
   },
   {
    "duration": 319,
    "start_time": "2024-04-27T15:49:44.277Z"
   },
   {
    "duration": 11,
    "start_time": "2024-04-27T15:49:44.598Z"
   },
   {
    "duration": 12,
    "start_time": "2024-04-27T15:49:44.610Z"
   },
   {
    "duration": 42,
    "start_time": "2024-04-27T15:49:44.625Z"
   },
   {
    "duration": 1891,
    "start_time": "2024-04-27T15:49:44.668Z"
   },
   {
    "duration": 14,
    "start_time": "2024-04-27T15:49:46.561Z"
   },
   {
    "duration": 23,
    "start_time": "2024-04-27T15:49:46.576Z"
   },
   {
    "duration": 22,
    "start_time": "2024-04-27T15:49:46.600Z"
   },
   {
    "duration": 285,
    "start_time": "2024-04-27T15:49:46.623Z"
   },
   {
    "duration": 277,
    "start_time": "2024-04-27T15:49:46.909Z"
   },
   {
    "duration": 23,
    "start_time": "2024-04-27T15:49:47.188Z"
   },
   {
    "duration": 170,
    "start_time": "2024-04-27T15:49:47.212Z"
   },
   {
    "duration": 168,
    "start_time": "2024-04-27T15:49:47.384Z"
   },
   {
    "duration": 21,
    "start_time": "2024-04-27T15:49:47.554Z"
   },
   {
    "duration": 5,
    "start_time": "2024-04-27T15:49:47.577Z"
   },
   {
    "duration": 499,
    "start_time": "2024-04-27T15:49:47.583Z"
   },
   {
    "duration": 396,
    "start_time": "2024-04-27T15:49:48.083Z"
   },
   {
    "duration": 194,
    "start_time": "2024-04-27T15:49:48.480Z"
   },
   {
    "duration": 213,
    "start_time": "2024-04-27T15:49:48.676Z"
   },
   {
    "duration": 206,
    "start_time": "2024-04-27T15:49:48.891Z"
   },
   {
    "duration": 199,
    "start_time": "2024-04-27T15:49:49.098Z"
   },
   {
    "duration": 219,
    "start_time": "2024-04-27T15:49:49.298Z"
   },
   {
    "duration": 218,
    "start_time": "2024-04-27T15:49:49.519Z"
   },
   {
    "duration": 207,
    "start_time": "2024-04-27T15:49:49.739Z"
   },
   {
    "duration": 165,
    "start_time": "2024-04-27T15:49:49.948Z"
   },
   {
    "duration": 242,
    "start_time": "2024-04-27T15:49:50.114Z"
   },
   {
    "duration": 164,
    "start_time": "2024-04-27T15:49:50.358Z"
   },
   {
    "duration": 10,
    "start_time": "2024-04-27T15:49:50.523Z"
   },
   {
    "duration": 63,
    "start_time": "2024-04-27T15:49:50.534Z"
   },
   {
    "duration": 79,
    "start_time": "2024-04-27T15:49:50.599Z"
   },
   {
    "duration": 65,
    "start_time": "2024-04-27T15:49:50.683Z"
   },
   {
    "duration": 202,
    "start_time": "2024-04-27T15:58:54.695Z"
   },
   {
    "duration": 199,
    "start_time": "2024-04-27T15:59:30.402Z"
   },
   {
    "duration": 203,
    "start_time": "2024-04-27T16:00:06.808Z"
   },
   {
    "duration": 193,
    "start_time": "2024-04-27T16:00:31.666Z"
   },
   {
    "duration": 106,
    "start_time": "2024-04-27T16:01:21.583Z"
   },
   {
    "duration": 191,
    "start_time": "2024-04-27T16:01:28.640Z"
   },
   {
    "duration": 216,
    "start_time": "2024-04-27T16:04:51.417Z"
   },
   {
    "duration": 196,
    "start_time": "2024-04-27T16:05:23.306Z"
   },
   {
    "duration": 199,
    "start_time": "2024-04-27T16:05:30.265Z"
   },
   {
    "duration": 197,
    "start_time": "2024-04-27T16:05:45.858Z"
   },
   {
    "duration": 221,
    "start_time": "2024-04-27T16:05:58.273Z"
   },
   {
    "duration": 337,
    "start_time": "2024-04-27T16:06:03.969Z"
   },
   {
    "duration": 209,
    "start_time": "2024-04-27T16:06:11.202Z"
   },
   {
    "duration": 211,
    "start_time": "2024-04-27T16:07:43.370Z"
   },
   {
    "duration": 213,
    "start_time": "2024-04-27T16:08:28.944Z"
   },
   {
    "duration": 222,
    "start_time": "2024-04-27T16:08:39.114Z"
   },
   {
    "duration": 233,
    "start_time": "2024-04-27T16:08:44.465Z"
   },
   {
    "duration": 213,
    "start_time": "2024-04-27T16:09:01.793Z"
   },
   {
    "duration": 252,
    "start_time": "2024-04-27T16:09:08.475Z"
   },
   {
    "duration": 227,
    "start_time": "2024-04-27T16:09:40.322Z"
   },
   {
    "duration": 202,
    "start_time": "2024-04-27T16:10:04.838Z"
   },
   {
    "duration": 203,
    "start_time": "2024-04-27T16:10:06.185Z"
   },
   {
    "duration": 230,
    "start_time": "2024-04-27T16:10:07.185Z"
   },
   {
    "duration": 305,
    "start_time": "2024-04-27T16:10:58.769Z"
   },
   {
    "duration": 204,
    "start_time": "2024-04-27T16:11:09.490Z"
   },
   {
    "duration": 113,
    "start_time": "2024-04-27T16:11:59.627Z"
   },
   {
    "duration": 107,
    "start_time": "2024-04-27T16:12:21.481Z"
   },
   {
    "duration": 110,
    "start_time": "2024-04-27T16:12:37.129Z"
   },
   {
    "duration": 177,
    "start_time": "2024-04-27T16:14:18.977Z"
   },
   {
    "duration": 156,
    "start_time": "2024-04-27T16:14:36.788Z"
   },
   {
    "duration": 159,
    "start_time": "2024-04-27T16:14:53.077Z"
   },
   {
    "duration": 8,
    "start_time": "2024-04-27T16:20:08.410Z"
   },
   {
    "duration": 76,
    "start_time": "2024-04-27T16:21:32.780Z"
   },
   {
    "duration": 16,
    "start_time": "2024-04-27T16:21:45.739Z"
   },
   {
    "duration": 41,
    "start_time": "2024-04-27T16:22:15.420Z"
   },
   {
    "duration": 7,
    "start_time": "2024-04-27T16:22:36.357Z"
   },
   {
    "duration": 7,
    "start_time": "2024-04-27T16:22:39.085Z"
   },
   {
    "duration": 9,
    "start_time": "2024-04-27T16:22:48.546Z"
   },
   {
    "duration": 9,
    "start_time": "2024-04-27T16:23:11.899Z"
   },
   {
    "duration": 46,
    "start_time": "2024-04-27T16:24:09.891Z"
   },
   {
    "duration": 42,
    "start_time": "2024-04-27T16:24:28.730Z"
   },
   {
    "duration": 45,
    "start_time": "2024-04-27T16:24:45.855Z"
   },
   {
    "duration": 43,
    "start_time": "2024-04-27T16:25:00.452Z"
   },
   {
    "duration": 54,
    "start_time": "2024-04-27T16:25:15.401Z"
   },
   {
    "duration": 43,
    "start_time": "2024-04-27T16:25:45.221Z"
   },
   {
    "duration": 44,
    "start_time": "2024-04-27T16:25:53.155Z"
   },
   {
    "duration": 1351,
    "start_time": "2024-04-27T16:26:21.741Z"
   },
   {
    "duration": 537,
    "start_time": "2024-04-27T16:26:23.094Z"
   },
   {
    "duration": 20,
    "start_time": "2024-04-27T16:26:23.633Z"
   },
   {
    "duration": 58,
    "start_time": "2024-04-27T16:26:23.654Z"
   },
   {
    "duration": 37,
    "start_time": "2024-04-27T16:26:23.715Z"
   },
   {
    "duration": 6,
    "start_time": "2024-04-27T16:26:23.753Z"
   },
   {
    "duration": 19,
    "start_time": "2024-04-27T16:26:23.761Z"
   },
   {
    "duration": 23,
    "start_time": "2024-04-27T16:26:23.781Z"
   },
   {
    "duration": 13,
    "start_time": "2024-04-27T16:26:23.806Z"
   },
   {
    "duration": 22,
    "start_time": "2024-04-27T16:26:23.820Z"
   },
   {
    "duration": 332,
    "start_time": "2024-04-27T16:26:23.844Z"
   },
   {
    "duration": 9,
    "start_time": "2024-04-27T16:26:24.178Z"
   },
   {
    "duration": 26,
    "start_time": "2024-04-27T16:26:24.188Z"
   },
   {
    "duration": 36,
    "start_time": "2024-04-27T16:26:24.217Z"
   },
   {
    "duration": 1891,
    "start_time": "2024-04-27T16:26:24.255Z"
   },
   {
    "duration": 8,
    "start_time": "2024-04-27T16:26:26.147Z"
   },
   {
    "duration": 37,
    "start_time": "2024-04-27T16:26:26.156Z"
   },
   {
    "duration": 30,
    "start_time": "2024-04-27T16:26:26.195Z"
   },
   {
    "duration": 265,
    "start_time": "2024-04-27T16:26:26.227Z"
   },
   {
    "duration": 286,
    "start_time": "2024-04-27T16:26:26.493Z"
   },
   {
    "duration": 22,
    "start_time": "2024-04-27T16:26:26.780Z"
   },
   {
    "duration": 173,
    "start_time": "2024-04-27T16:26:26.803Z"
   },
   {
    "duration": 160,
    "start_time": "2024-04-27T16:26:26.978Z"
   },
   {
    "duration": 12,
    "start_time": "2024-04-27T16:26:27.140Z"
   },
   {
    "duration": 21,
    "start_time": "2024-04-27T16:26:27.153Z"
   },
   {
    "duration": 496,
    "start_time": "2024-04-27T16:26:27.175Z"
   },
   {
    "duration": 420,
    "start_time": "2024-04-27T16:26:27.676Z"
   },
   {
    "duration": 189,
    "start_time": "2024-04-27T16:26:28.098Z"
   },
   {
    "duration": 125,
    "start_time": "2024-04-27T16:26:28.289Z"
   },
   {
    "duration": 119,
    "start_time": "2024-04-27T16:26:28.415Z"
   },
   {
    "duration": 124,
    "start_time": "2024-04-27T16:26:28.536Z"
   },
   {
    "duration": 227,
    "start_time": "2024-04-27T16:26:28.661Z"
   },
   {
    "duration": 209,
    "start_time": "2024-04-27T16:26:28.889Z"
   },
   {
    "duration": 200,
    "start_time": "2024-04-27T16:26:29.100Z"
   },
   {
    "duration": 165,
    "start_time": "2024-04-27T16:26:29.301Z"
   },
   {
    "duration": 179,
    "start_time": "2024-04-27T16:26:29.467Z"
   },
   {
    "duration": 239,
    "start_time": "2024-04-27T16:26:29.648Z"
   },
   {
    "duration": 46,
    "start_time": "2024-04-27T16:26:29.889Z"
   },
   {
    "duration": 40,
    "start_time": "2024-04-27T16:26:29.937Z"
   },
   {
    "duration": 63,
    "start_time": "2024-04-27T16:26:29.979Z"
   },
   {
    "duration": 4,
    "start_time": "2024-04-27T16:26:30.046Z"
   },
   {
    "duration": 179,
    "start_time": "2024-04-27T16:36:57.325Z"
   },
   {
    "duration": 1160,
    "start_time": "2024-04-27T16:38:58.645Z"
   },
   {
    "duration": 671,
    "start_time": "2024-04-27T16:38:59.807Z"
   },
   {
    "duration": 20,
    "start_time": "2024-04-27T16:39:00.479Z"
   },
   {
    "duration": 180,
    "start_time": "2024-04-27T16:39:00.501Z"
   },
   {
    "duration": 84,
    "start_time": "2024-04-27T16:39:00.683Z"
   },
   {
    "duration": 48,
    "start_time": "2024-04-27T16:39:00.768Z"
   },
   {
    "duration": 34,
    "start_time": "2024-04-27T16:39:00.818Z"
   },
   {
    "duration": 21,
    "start_time": "2024-04-27T16:39:00.854Z"
   },
   {
    "duration": 45,
    "start_time": "2024-04-27T16:39:00.877Z"
   },
   {
    "duration": 41,
    "start_time": "2024-04-27T16:39:00.925Z"
   },
   {
    "duration": 391,
    "start_time": "2024-04-27T16:39:00.968Z"
   },
   {
    "duration": 15,
    "start_time": "2024-04-27T16:39:01.361Z"
   },
   {
    "duration": 23,
    "start_time": "2024-04-27T16:39:01.377Z"
   },
   {
    "duration": 54,
    "start_time": "2024-04-27T16:39:01.401Z"
   },
   {
    "duration": 1981,
    "start_time": "2024-04-27T16:39:01.457Z"
   },
   {
    "duration": 9,
    "start_time": "2024-04-27T16:39:03.440Z"
   },
   {
    "duration": 35,
    "start_time": "2024-04-27T16:39:03.450Z"
   },
   {
    "duration": 20,
    "start_time": "2024-04-27T16:39:03.487Z"
   },
   {
    "duration": 270,
    "start_time": "2024-04-27T16:39:03.508Z"
   },
   {
    "duration": 284,
    "start_time": "2024-04-27T16:39:03.780Z"
   },
   {
    "duration": 22,
    "start_time": "2024-04-27T16:39:04.074Z"
   },
   {
    "duration": 169,
    "start_time": "2024-04-27T16:39:04.097Z"
   },
   {
    "duration": 186,
    "start_time": "2024-04-27T16:39:04.268Z"
   },
   {
    "duration": 19,
    "start_time": "2024-04-27T16:39:04.455Z"
   },
   {
    "duration": 36,
    "start_time": "2024-04-27T16:39:04.475Z"
   },
   {
    "duration": 535,
    "start_time": "2024-04-27T16:39:04.512Z"
   },
   {
    "duration": 393,
    "start_time": "2024-04-27T16:39:05.049Z"
   },
   {
    "duration": 206,
    "start_time": "2024-04-27T16:39:05.446Z"
   },
   {
    "duration": 124,
    "start_time": "2024-04-27T16:39:05.653Z"
   },
   {
    "duration": 115,
    "start_time": "2024-04-27T16:39:05.779Z"
   },
   {
    "duration": 121,
    "start_time": "2024-04-27T16:39:05.896Z"
   },
   {
    "duration": 216,
    "start_time": "2024-04-27T16:39:06.019Z"
   },
   {
    "duration": 211,
    "start_time": "2024-04-27T16:39:06.237Z"
   },
   {
    "duration": 211,
    "start_time": "2024-04-27T16:39:06.450Z"
   },
   {
    "duration": 175,
    "start_time": "2024-04-27T16:39:06.663Z"
   },
   {
    "duration": 161,
    "start_time": "2024-04-27T16:39:06.840Z"
   },
   {
    "duration": 247,
    "start_time": "2024-04-27T16:39:07.003Z"
   },
   {
    "duration": 10,
    "start_time": "2024-04-27T16:39:07.251Z"
   },
   {
    "duration": 18,
    "start_time": "2024-04-27T16:39:07.275Z"
   },
   {
    "duration": 26,
    "start_time": "2024-04-27T16:39:07.294Z"
   },
   {
    "duration": 10,
    "start_time": "2024-04-27T16:39:07.322Z"
   },
   {
    "duration": 1458,
    "start_time": "2024-04-28T10:37:16.556Z"
   },
   {
    "duration": 643,
    "start_time": "2024-04-28T10:37:18.017Z"
   },
   {
    "duration": 27,
    "start_time": "2024-04-28T10:37:18.661Z"
   },
   {
    "duration": 5,
    "start_time": "2024-04-28T10:37:18.691Z"
   },
   {
    "duration": 22,
    "start_time": "2024-04-28T10:37:18.697Z"
   },
   {
    "duration": 6,
    "start_time": "2024-04-28T10:37:18.721Z"
   },
   {
    "duration": 8,
    "start_time": "2024-04-28T10:37:18.729Z"
   },
   {
    "duration": 44,
    "start_time": "2024-04-28T10:37:18.738Z"
   },
   {
    "duration": 16,
    "start_time": "2024-04-28T10:37:18.784Z"
   },
   {
    "duration": 24,
    "start_time": "2024-04-28T10:37:18.803Z"
   },
   {
    "duration": 394,
    "start_time": "2024-04-28T10:37:18.829Z"
   },
   {
    "duration": 11,
    "start_time": "2024-04-28T10:37:19.225Z"
   },
   {
    "duration": 8,
    "start_time": "2024-04-28T10:37:19.237Z"
   },
   {
    "duration": 47,
    "start_time": "2024-04-28T10:37:19.247Z"
   },
   {
    "duration": 2118,
    "start_time": "2024-04-28T10:37:19.296Z"
   },
   {
    "duration": 8,
    "start_time": "2024-04-28T10:37:21.415Z"
   },
   {
    "duration": 33,
    "start_time": "2024-04-28T10:37:21.424Z"
   },
   {
    "duration": 34,
    "start_time": "2024-04-28T10:37:21.458Z"
   },
   {
    "duration": 309,
    "start_time": "2024-04-28T10:37:21.494Z"
   },
   {
    "duration": 337,
    "start_time": "2024-04-28T10:37:21.804Z"
   },
   {
    "duration": 24,
    "start_time": "2024-04-28T10:37:22.142Z"
   },
   {
    "duration": 191,
    "start_time": "2024-04-28T10:37:22.168Z"
   },
   {
    "duration": 190,
    "start_time": "2024-04-28T10:37:22.361Z"
   },
   {
    "duration": 14,
    "start_time": "2024-04-28T10:37:22.553Z"
   },
   {
    "duration": 13,
    "start_time": "2024-04-28T10:37:22.582Z"
   },
   {
    "duration": 529,
    "start_time": "2024-04-28T10:37:22.596Z"
   },
   {
    "duration": 450,
    "start_time": "2024-04-28T10:37:23.126Z"
   },
   {
    "duration": 225,
    "start_time": "2024-04-28T10:37:23.581Z"
   },
   {
    "duration": 154,
    "start_time": "2024-04-28T10:37:23.808Z"
   },
   {
    "duration": 123,
    "start_time": "2024-04-28T10:37:23.964Z"
   },
   {
    "duration": 128,
    "start_time": "2024-04-28T10:37:24.088Z"
   },
   {
    "duration": 236,
    "start_time": "2024-04-28T10:37:24.218Z"
   },
   {
    "duration": 241,
    "start_time": "2024-04-28T10:37:24.456Z"
   },
   {
    "duration": 229,
    "start_time": "2024-04-28T10:37:24.699Z"
   },
   {
    "duration": 190,
    "start_time": "2024-04-28T10:37:24.930Z"
   },
   {
    "duration": 199,
    "start_time": "2024-04-28T10:37:25.121Z"
   },
   {
    "duration": 284,
    "start_time": "2024-04-28T10:37:25.322Z"
   },
   {
    "duration": 10,
    "start_time": "2024-04-28T10:37:25.607Z"
   },
   {
    "duration": 8,
    "start_time": "2024-04-28T10:37:25.618Z"
   },
   {
    "duration": 12,
    "start_time": "2024-04-28T10:37:25.628Z"
   },
   {
    "duration": 5,
    "start_time": "2024-04-28T10:37:25.642Z"
   },
   {
    "duration": 23,
    "start_time": "2024-04-28T10:40:55.602Z"
   },
   {
    "duration": 62,
    "start_time": "2024-04-28T10:42:03.659Z"
   },
   {
    "duration": 5,
    "start_time": "2024-04-28T10:42:08.490Z"
   },
   {
    "duration": 5,
    "start_time": "2024-04-28T10:42:19.867Z"
   },
   {
    "duration": 776,
    "start_time": "2024-04-28T10:42:37.684Z"
   },
   {
    "duration": 5,
    "start_time": "2024-04-28T10:42:48.908Z"
   }
  ],
  "kernelspec": {
   "display_name": "Python 3 (ipykernel)",
   "language": "python",
   "name": "python3"
  },
  "language_info": {
   "codemirror_mode": {
    "name": "ipython",
    "version": 3
   },
   "file_extension": ".py",
   "mimetype": "text/x-python",
   "name": "python",
   "nbconvert_exporter": "python",
   "pygments_lexer": "ipython3",
   "version": "3.9.5"
  },
  "toc": {
   "base_numbering": 1,
   "nav_menu": {},
   "number_sections": true,
   "sideBar": true,
   "skip_h1_title": true,
   "title_cell": "Table of Contents",
   "title_sidebar": "Contents",
   "toc_cell": false,
   "toc_position": {},
   "toc_section_display": true,
   "toc_window_display": false
  }
 },
 "nbformat": 4,
 "nbformat_minor": 2
}
